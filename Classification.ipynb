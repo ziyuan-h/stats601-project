{
 "cells": [
  {
   "cell_type": "code",
   "execution_count": 1,
   "metadata": {},
   "outputs": [],
   "source": [
    "import numpy as np\n",
    "import pandas as pd\n",
    "import ojsim\n",
    "sim = ojsim.OJSimulator()"
   ]
  },
  {
   "cell_type": "code",
   "execution_count": 5,
   "metadata": {},
   "outputs": [
    {
     "data": {
      "text/plain": [
       "((17709, 28800), (17709, 10))"
      ]
     },
     "execution_count": 5,
     "metadata": {},
     "output_type": "execute_result"
    }
   ],
   "source": [
    "X, Y = sim.formulized_train\n",
    "Y = (Y - X[:,0,-1,:].squeeze()) > 0\n",
    "X = X.reshape(len(X), -1)\n",
    "Y = Y.astype(int)\n",
    "X.shape, Y.shape"
   ]
  },
  {
   "cell_type": "code",
   "execution_count": 8,
   "metadata": {},
   "outputs": [
    {
     "ename": "TypeError",
     "evalue": "bad operand type for unary -: 'str'",
     "output_type": "error",
     "traceback": [
      "\u001b[1;31m---------------------------------------------------------------------------\u001b[0m",
      "\u001b[1;31mTypeError\u001b[0m                                 Traceback (most recent call last)",
      "\u001b[1;32md:\\UserProjects\\stats601-project\\Classification.ipynb Cell 3'\u001b[0m in \u001b[0;36m<cell line: 3>\u001b[1;34m()\u001b[0m\n\u001b[0;32m      <a href='vscode-notebook-cell:/d%3A/UserProjects/stats601-project/Classification.ipynb#ch0000001?line=0'>1</a>\u001b[0m \u001b[39mfrom\u001b[39;00m \u001b[39mklogisticreg\u001b[39;00m \u001b[39mimport\u001b[39;00m KernelLogisticRegression\n\u001b[0;32m      <a href='vscode-notebook-cell:/d%3A/UserProjects/stats601-project/Classification.ipynb#ch0000001?line=1'>2</a>\u001b[0m kreg \u001b[39m=\u001b[39m KernelLogisticRegression(kernel\u001b[39m=\u001b[39m\u001b[39m'\u001b[39m\u001b[39mrbf\u001b[39m\u001b[39m'\u001b[39m, gamma\u001b[39m=\u001b[39m\u001b[39m'\u001b[39m\u001b[39m0.05\u001b[39m\u001b[39m'\u001b[39m)\n\u001b[1;32m----> <a href='vscode-notebook-cell:/d%3A/UserProjects/stats601-project/Classification.ipynb#ch0000001?line=2'>3</a>\u001b[0m kreg\u001b[39m.\u001b[39;49mfit(X, Y[:,\u001b[39m0\u001b[39;49m])\n",
      "File \u001b[1;32md:\\UserProjects\\stats601-project\\klogisticreg.py:181\u001b[0m, in \u001b[0;36mKernelLogisticRegression.fit\u001b[1;34m(self, X, y)\u001b[0m\n\u001b[0;32m    <a href='file:///d%3A/UserProjects/stats601-project/klogisticreg.py?line=177'>178</a>\u001b[0m y_ \u001b[39m=\u001b[39m \u001b[39mself\u001b[39m\u001b[39m.\u001b[39mlabel_encoder_\u001b[39m.\u001b[39mfit_transform(y)\u001b[39m.\u001b[39mreshape((\u001b[39m-\u001b[39m\u001b[39m1\u001b[39m))\n\u001b[0;32m    <a href='file:///d%3A/UserProjects/stats601-project/klogisticreg.py?line=179'>180</a>\u001b[0m \u001b[39mself\u001b[39m\u001b[39m.\u001b[39mclasses_ \u001b[39m=\u001b[39m \u001b[39mself\u001b[39m\u001b[39m.\u001b[39mlabel_encoder_\u001b[39m.\u001b[39mclasses_\n\u001b[1;32m--> <a href='file:///d%3A/UserProjects/stats601-project/klogisticreg.py?line=180'>181</a>\u001b[0m K \u001b[39m=\u001b[39m \u001b[39mself\u001b[39;49m\u001b[39m.\u001b[39;49m_get_kernel(X)\n\u001b[0;32m    <a href='file:///d%3A/UserProjects/stats601-project/klogisticreg.py?line=182'>183</a>\u001b[0m \u001b[39mself\u001b[39m\u001b[39m.\u001b[39mcoef_, \u001b[39mself\u001b[39m\u001b[39m.\u001b[39mn_iter_ \u001b[39m=\u001b[39m _kernel_logistic_regression_path(K, y_, tol\u001b[39m=\u001b[39m\u001b[39mself\u001b[39m\u001b[39m.\u001b[39mtol, coef\u001b[39m=\u001b[39m\u001b[39mNone\u001b[39;00m,\n\u001b[0;32m    <a href='file:///d%3A/UserProjects/stats601-project/klogisticreg.py?line=183'>184</a>\u001b[0m                              C\u001b[39m=\u001b[39m\u001b[39mself\u001b[39m\u001b[39m.\u001b[39mC, solver\u001b[39m=\u001b[39m\u001b[39m'\u001b[39m\u001b[39mlbfgs\u001b[39m\u001b[39m'\u001b[39m, check_input\u001b[39m=\u001b[39m\u001b[39mTrue\u001b[39;00m,\n\u001b[0;32m    <a href='file:///d%3A/UserProjects/stats601-project/klogisticreg.py?line=184'>185</a>\u001b[0m                              max_iter\u001b[39m=\u001b[39m\u001b[39mself\u001b[39m\u001b[39m.\u001b[39mmax_iter)\n\u001b[0;32m    <a href='file:///d%3A/UserProjects/stats601-project/klogisticreg.py?line=186'>187</a>\u001b[0m \u001b[39mself\u001b[39m\u001b[39m.\u001b[39mis_fitted_ \u001b[39m=\u001b[39m \u001b[39mTrue\u001b[39;00m\n",
      "File \u001b[1;32md:\\UserProjects\\stats601-project\\klogisticreg.py:153\u001b[0m, in \u001b[0;36mKernelLogisticRegression._get_kernel\u001b[1;34m(self, X, Y)\u001b[0m\n\u001b[0;32m    <a href='file:///d%3A/UserProjects/stats601-project/klogisticreg.py?line=148'>149</a>\u001b[0m \u001b[39melse\u001b[39;00m:\n\u001b[0;32m    <a href='file:///d%3A/UserProjects/stats601-project/klogisticreg.py?line=149'>150</a>\u001b[0m     params \u001b[39m=\u001b[39m {\u001b[39m\"\u001b[39m\u001b[39mgamma\u001b[39m\u001b[39m\"\u001b[39m: \u001b[39mself\u001b[39m\u001b[39m.\u001b[39mgamma,\n\u001b[0;32m    <a href='file:///d%3A/UserProjects/stats601-project/klogisticreg.py?line=150'>151</a>\u001b[0m               \u001b[39m\"\u001b[39m\u001b[39mdegree\u001b[39m\u001b[39m\"\u001b[39m: \u001b[39mself\u001b[39m\u001b[39m.\u001b[39mdegree,\n\u001b[0;32m    <a href='file:///d%3A/UserProjects/stats601-project/klogisticreg.py?line=151'>152</a>\u001b[0m               \u001b[39m\"\u001b[39m\u001b[39mcoef0\u001b[39m\u001b[39m\"\u001b[39m: \u001b[39mself\u001b[39m\u001b[39m.\u001b[39mcoef0}\n\u001b[1;32m--> <a href='file:///d%3A/UserProjects/stats601-project/klogisticreg.py?line=152'>153</a>\u001b[0m \u001b[39mreturn\u001b[39;00m pairwise_kernels(X, Y, metric\u001b[39m=\u001b[39m\u001b[39mself\u001b[39m\u001b[39m.\u001b[39mkernel,\n\u001b[0;32m    <a href='file:///d%3A/UserProjects/stats601-project/klogisticreg.py?line=153'>154</a>\u001b[0m                         filter_params\u001b[39m=\u001b[39m\u001b[39mTrue\u001b[39;00m, \u001b[39m*\u001b[39m\u001b[39m*\u001b[39mparams)\n",
      "File \u001b[1;32md:\\UserProjects\\stats601-project\\.venv\\lib\\site-packages\\sklearn\\metrics\\pairwise.py:2053\u001b[0m, in \u001b[0;36mpairwise_kernels\u001b[1;34m(X, Y, metric, filter_params, n_jobs, **kwds)\u001b[0m\n\u001b[0;32m   <a href='file:///d%3A/UserProjects/stats601-project/.venv/lib/site-packages/sklearn/metrics/pairwise.py?line=2049'>2050</a>\u001b[0m \u001b[39melse\u001b[39;00m:\n\u001b[0;32m   <a href='file:///d%3A/UserProjects/stats601-project/.venv/lib/site-packages/sklearn/metrics/pairwise.py?line=2050'>2051</a>\u001b[0m     \u001b[39mraise\u001b[39;00m \u001b[39mValueError\u001b[39;00m(\u001b[39m\"\u001b[39m\u001b[39mUnknown kernel \u001b[39m\u001b[39m%r\u001b[39;00m\u001b[39m\"\u001b[39m \u001b[39m%\u001b[39m metric)\n\u001b[1;32m-> <a href='file:///d%3A/UserProjects/stats601-project/.venv/lib/site-packages/sklearn/metrics/pairwise.py?line=2052'>2053</a>\u001b[0m \u001b[39mreturn\u001b[39;00m _parallel_pairwise(X, Y, func, n_jobs, \u001b[39m*\u001b[39m\u001b[39m*\u001b[39mkwds)\n",
      "File \u001b[1;32md:\\UserProjects\\stats601-project\\.venv\\lib\\site-packages\\sklearn\\metrics\\pairwise.py:1430\u001b[0m, in \u001b[0;36m_parallel_pairwise\u001b[1;34m(X, Y, func, n_jobs, **kwds)\u001b[0m\n\u001b[0;32m   <a href='file:///d%3A/UserProjects/stats601-project/.venv/lib/site-packages/sklearn/metrics/pairwise.py?line=1426'>1427</a>\u001b[0m X, Y, dtype \u001b[39m=\u001b[39m _return_float_dtype(X, Y)\n\u001b[0;32m   <a href='file:///d%3A/UserProjects/stats601-project/.venv/lib/site-packages/sklearn/metrics/pairwise.py?line=1428'>1429</a>\u001b[0m \u001b[39mif\u001b[39;00m effective_n_jobs(n_jobs) \u001b[39m==\u001b[39m \u001b[39m1\u001b[39m:\n\u001b[1;32m-> <a href='file:///d%3A/UserProjects/stats601-project/.venv/lib/site-packages/sklearn/metrics/pairwise.py?line=1429'>1430</a>\u001b[0m     \u001b[39mreturn\u001b[39;00m func(X, Y, \u001b[39m*\u001b[39m\u001b[39m*\u001b[39mkwds)\n\u001b[0;32m   <a href='file:///d%3A/UserProjects/stats601-project/.venv/lib/site-packages/sklearn/metrics/pairwise.py?line=1431'>1432</a>\u001b[0m \u001b[39m# enforce a threading backend to prevent data communication overhead\u001b[39;00m\n\u001b[0;32m   <a href='file:///d%3A/UserProjects/stats601-project/.venv/lib/site-packages/sklearn/metrics/pairwise.py?line=1432'>1433</a>\u001b[0m fd \u001b[39m=\u001b[39m delayed(_dist_wrapper)\n",
      "File \u001b[1;32md:\\UserProjects\\stats601-project\\.venv\\lib\\site-packages\\sklearn\\metrics\\pairwise.py:1176\u001b[0m, in \u001b[0;36mrbf_kernel\u001b[1;34m(X, Y, gamma)\u001b[0m\n\u001b[0;32m   <a href='file:///d%3A/UserProjects/stats601-project/.venv/lib/site-packages/sklearn/metrics/pairwise.py?line=1172'>1173</a>\u001b[0m     gamma \u001b[39m=\u001b[39m \u001b[39m1.0\u001b[39m \u001b[39m/\u001b[39m X\u001b[39m.\u001b[39mshape[\u001b[39m1\u001b[39m]\n\u001b[0;32m   <a href='file:///d%3A/UserProjects/stats601-project/.venv/lib/site-packages/sklearn/metrics/pairwise.py?line=1174'>1175</a>\u001b[0m K \u001b[39m=\u001b[39m euclidean_distances(X, Y, squared\u001b[39m=\u001b[39m\u001b[39mTrue\u001b[39;00m)\n\u001b[1;32m-> <a href='file:///d%3A/UserProjects/stats601-project/.venv/lib/site-packages/sklearn/metrics/pairwise.py?line=1175'>1176</a>\u001b[0m K \u001b[39m*\u001b[39m\u001b[39m=\u001b[39m \u001b[39m-\u001b[39;49mgamma\n\u001b[0;32m   <a href='file:///d%3A/UserProjects/stats601-project/.venv/lib/site-packages/sklearn/metrics/pairwise.py?line=1176'>1177</a>\u001b[0m np\u001b[39m.\u001b[39mexp(K, K)  \u001b[39m# exponentiate K in-place\u001b[39;00m\n\u001b[0;32m   <a href='file:///d%3A/UserProjects/stats601-project/.venv/lib/site-packages/sklearn/metrics/pairwise.py?line=1177'>1178</a>\u001b[0m \u001b[39mreturn\u001b[39;00m K\n",
      "\u001b[1;31mTypeError\u001b[0m: bad operand type for unary -: 'str'"
     ]
    }
   ],
   "source": [
    "from klogisticreg import KernelLogisticRegression\n",
    "kreg = KernelLogisticRegression(kernel='rbf', gamma='0.05')\n",
    "kreg.fit(X, Y[:,0])\n"
   ]
  },
  {
   "cell_type": "code",
   "execution_count": 1,
   "metadata": {},
   "outputs": [
    {
     "name": "stdout",
     "output_type": "stream",
     "text": [
      "Total time used: 8.407s\n",
      "Pairwise correlation:\n",
      "\tasset 0 = 0.03024\n",
      "\tasset 1 = 0.04157\n",
      "\tasset 2 = 0.04001\n",
      "\tasset 3 = 0.02685\n",
      "\tasset 4 = 0.14923\n",
      "\tasset 5 = 0.03537\n",
      "\tasset 6 = 0.00814\n",
      "\tasset 7 = 0.01662\n",
      "\tasset 8 = 0.09036\n",
      "\tasset 9 = 0.06206\n",
      "\tmean correlation = 0.05004\n",
      "Overall correlation: 0.05336\n",
      "===============================\n",
      "Performance beats Ziwei's dummy method!\n",
      "===============================\n"
     ]
    },
    {
     "data": {
      "text/plain": [
       "(8.406542301177979,\n",
       " 0    0.030244\n",
       " 1    0.041574\n",
       " 2    0.040008\n",
       " 3    0.026850\n",
       " 4    0.149227\n",
       " 5    0.035369\n",
       " 6    0.008139\n",
       " 7    0.016616\n",
       " 8    0.090355\n",
       " 9    0.062064\n",
       " dtype: float64,\n",
       " 0.053360751171618995)"
      ]
     },
     "execution_count": 1,
     "metadata": {},
     "output_type": "execute_result"
    }
   ],
   "source": [
    "import ojsim\n",
    "sim = ojsim.OJSimulator()\n",
    "import main\n",
    "sim.submit(main.get_r_hat)"
   ]
  },
  {
   "cell_type": "code",
   "execution_count": null,
   "metadata": {},
   "outputs": [],
   "source": []
  }
 ],
 "metadata": {
  "interpreter": {
   "hash": "8dad618d23709a34c1193ca00eacf1e599dffaa14cca1da034597c33c3b1cb4f"
  },
  "kernelspec": {
   "display_name": "Python 3.10.1 ('.venv': venv)",
   "language": "python",
   "name": "python3"
  },
  "language_info": {
   "codemirror_mode": {
    "name": "ipython",
    "version": 3
   },
   "file_extension": ".py",
   "mimetype": "text/x-python",
   "name": "python",
   "nbconvert_exporter": "python",
   "pygments_lexer": "ipython3",
   "version": "3.10.1"
  },
  "orig_nbformat": 4
 },
 "nbformat": 4,
 "nbformat_minor": 2
}
