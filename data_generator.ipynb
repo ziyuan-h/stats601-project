{
 "cells": [
  {
   "cell_type": "code",
   "execution_count": 1,
   "id": "667dbefe",
   "metadata": {},
   "outputs": [],
   "source": [
    "import numpy as np\n",
    "import pandas as pd\n",
    "\n",
    "log_pr_file = './log_price.df'\n",
    "volu_usd_file = './volume_usd.df'"
   ]
  },
  {
   "cell_type": "code",
   "execution_count": 2,
   "id": "62fab46e",
   "metadata": {},
   "outputs": [],
   "source": [
    "log_pr = pd.read_pickle(log_pr_file)\n",
    "volu = pd.read_pickle(volu_usd_file)\n",
    "log_pr.columns = ['log_pr_%d'%i for i in range(10)]\n",
    "volu.columns = ['volu_%d'%i for i in range(10)]\n",
    "\n",
    "data = pd.concat([log_pr, volu], axis=1)"
   ]
  },
  {
   "cell_type": "markdown",
   "id": "dbce5510",
   "metadata": {},
   "source": [
    "#### Dataset manipulation"
   ]
  },
  {
   "cell_type": "code",
   "execution_count": 3,
   "id": "905c57ef",
   "metadata": {},
   "outputs": [],
   "source": [
    "def _split_data(data:pd.DataFrame, test_pct:float):\n",
    "    assert test_pct > 0 and test_pct < 1\n",
    "    test_size = int(len(data) * test_pct)\n",
    "    return  data[:-test_size], data[-test_size:]\n",
    "\n",
    "def split_data(log_pr:pd.DataFrame, volu:pd.DataFrame, test_pct:float):\n",
    "    return *_split_data(log_pr, test_pct), *_split_data(volu, test_pct)"
   ]
  },
  {
   "cell_type": "code",
   "execution_count": 179,
   "id": "41fb2495",
   "metadata": {},
   "outputs": [],
   "source": [
    "def formulize_data(data:pd.DataFrame, log_pr:pd.DataFrame, window_size=1440, step=10) -> np.array:\n",
    "    N = len(data)\n",
    "    assert N == len(log_pr)\n",
    "    train_index = np.arange(0, window_size)[np.newaxis, :] + np.arange(0, N - window_size - 30, step)[:, np.newaxis]\n",
    "    return_index = np.arange(0, N - window_size - 30, step)[:, np.newaxis] + window_size + 30 - 1\n",
    "#     print(train_index, return_index)\n",
    "    return data.values[train_index], log_pr.values[return_index]"
   ]
  },
  {
   "cell_type": "markdown",
   "id": "67ca8c99",
   "metadata": {},
   "source": [
    "#### Featue generator functions"
   ]
  },
  {
   "cell_type": "code",
   "execution_count": 5,
   "id": "eed48be0",
   "metadata": {},
   "outputs": [],
   "source": [
    "def rate_of_change(data:pd.DataFrame, periods):\n",
    "    return data.pct_change(periods)"
   ]
  },
  {
   "cell_type": "code",
   "execution_count": 6,
   "id": "91bfcf52",
   "metadata": {},
   "outputs": [],
   "source": [
    "def moving_average(data:pd.DataFrame, window_size):\n",
    "    return data.rolling(window_size).mean()"
   ]
  },
  {
   "cell_type": "code",
   "execution_count": 7,
   "id": "1a384239",
   "metadata": {},
   "outputs": [],
   "source": [
    "def exp_moving_avg(data:pd.DataFrame, window_size):\n",
    "    return data.ewm(com = window_size - 1, adjust=True, min_periods = window_size).mean()"
   ]
  },
  {
   "cell_type": "code",
   "execution_count": 8,
   "id": "26324a97",
   "metadata": {},
   "outputs": [],
   "source": [
    "def z_score(data:pd.DataFrame, window_size):\n",
    "    assert window_size > 1\n",
    "    return (data - data.rolling(window=window_size).mean()) / \\\n",
    "            data.rolling(window=window_size).std()"
   ]
  },
  {
   "cell_type": "code",
   "execution_count": 9,
   "id": "1587d174",
   "metadata": {},
   "outputs": [],
   "source": [
    "def moving_sum(data:pd.DataFrame, window_size):\n",
    "    return data.rolling(window_size).sum()"
   ]
  },
  {
   "cell_type": "code",
   "execution_count": 10,
   "id": "e6d2eea1",
   "metadata": {},
   "outputs": [],
   "source": [
    "def sign(data:pd.DataFrame):\n",
    "    return np.sign(data)"
   ]
  },
  {
   "cell_type": "code",
   "execution_count": 11,
   "id": "26ce30bc",
   "metadata": {},
   "outputs": [],
   "source": [
    "def binning(data:pd.DataFrame, n_bins):\n",
    "    bin_fn = lambda y: pd.qcut(y, q=n_bins, labels=range(1, n_bins+1))\n",
    "    return data.apply(bin_fn)"
   ]
  },
  {
   "cell_type": "code",
   "execution_count": 12,
   "id": "6e05b649",
   "metadata": {},
   "outputs": [],
   "source": [
    "def RSI(data:pd.DataFrame, window_size, ema=True):\n",
    "    \"\"\"\n",
    "    Returns a pd.Series with the relative strength index.\n",
    "    \"\"\"\n",
    "    # Make two series: one for lower closes and one for higher closes\n",
    "    up = data.clip(lower=0)\n",
    "    down = -1 * data.clip(upper=0)\n",
    "    \n",
    "    if ema == True:\n",
    "        # Use exponential moving average\n",
    "        ma_up = up.ewm(com = window_size - 1, adjust=True, min_periods = window_size).mean()\n",
    "        ma_down = down.ewm(com = window_size - 1, adjust=True, min_periods = window_size).mean()\n",
    "    else:\n",
    "        # Use simple moving average\n",
    "        ma_up = up.rolling(window = window_size, adjust=False).mean()\n",
    "        ma_down = down.rolling(window = window_size, adjust=False).mean()\n",
    "        \n",
    "    rsi = ma_up / ma_down\n",
    "    rsi = 100 - (100/(1 + rsi))\n",
    "    return rsi.dropna()"
   ]
  },
  {
   "cell_type": "code",
   "execution_count": 13,
   "id": "902c7384",
   "metadata": {},
   "outputs": [],
   "source": [
    "def MACD(data:pd.DataFrame, window_slow=26, window_fast=12, window_signal=9):\n",
    "    ema_slow = exp_moving_avg(data, window_slow)\n",
    "    ema_fast = exp_moving_avg(data, window_fast)\n",
    "    ema_signal = exp_moving_avg(data, window_signal)\n",
    "    macd = ema_fast - ema_slow\n",
    "    return macd, macd - ema_signal"
   ]
  },
  {
   "cell_type": "code",
   "execution_count": 14,
   "id": "1421e65e",
   "metadata": {},
   "outputs": [],
   "source": [
    "def high_low(data:pd.DataFrame, window=52):\n",
    "    high = data.rolling(window=window).max()\n",
    "    low = data.rolling(window=window).min()\n",
    "    return high, low"
   ]
  },
  {
   "cell_type": "code",
   "execution_count": 15,
   "id": "f657363b",
   "metadata": {},
   "outputs": [],
   "source": [
    "def RHP(data:pd.DataFrame, window=10, horizon=52):\n",
    "    high, low = high_low(data, horizon)\n",
    "    newhighs = (high == data).sum(axis=1)\n",
    "    newlows = (low == data).sum(axis=1)\n",
    "    rhp = newhighs / (newhighs + newlows + 1e-4)\n",
    "    return rhp.rolling(window=window).mean()"
   ]
  },
  {
   "cell_type": "code",
   "execution_count": 16,
   "id": "cd1a8379",
   "metadata": {},
   "outputs": [],
   "source": [
    "def BollingerBands(data:pd.DataFrame, window_size):\n",
    "    ma = data.rolling(window=window_size).mean()\n",
    "    sd = data.rolling(window=window_size).std()\n",
    "    up = ma + 2*sd\n",
    "    down = ma - 2*sd\n",
    "    return up, down"
   ]
  },
  {
   "cell_type": "code",
   "execution_count": 17,
   "id": "dc84a8a6",
   "metadata": {},
   "outputs": [],
   "source": [
    "def TRIN(log_pr:pd.DataFrame, volu:pd.DataFrame, window=1):\n",
    "    num_stocks = log_pr.shape[1]\n",
    "    pr_adv = (log_pr.diff(window) > 0).sum(axis=1)\n",
    "    v_adv = (volu.diff(window) > 0).sum(axis=1)\n",
    "    trin = (pr_adv / (num_stocks - pr_adv + 1e-4)) / (v_adv / (num_stocks - v_adv + 1e-4) + 1e-4)\n",
    "    return trin"
   ]
  },
  {
   "cell_type": "code",
   "execution_count": 18,
   "id": "54beb37c",
   "metadata": {},
   "outputs": [],
   "source": [
    "def ADL(data:pd.DataFrame, window=1):\n",
    "    num = data.shape[1]\n",
    "    adv = (data.diff(window) > 0).sum(axis=1)\n",
    "    return adv - (num - adv)"
   ]
  },
  {
   "cell_type": "markdown",
   "id": "92a3631c",
   "metadata": {},
   "source": [
    "#### Feature generator pipeline"
   ]
  },
  {
   "cell_type": "code",
   "execution_count": 197,
   "id": "34b2d1fd",
   "metadata": {},
   "outputs": [],
   "source": [
    "# construct features\n",
    "def generate_features(log_pr:pd.DataFrame, volu:pd.DataFrame):\n",
    "    # 30 min negative returns\n",
    "    n_ret = -(log_pr - log_pr.shift(30))\n",
    "    n_ret.columns = ['30rt%d'%i for i in range(10)]\n",
    "    \n",
    "    # log volumes\n",
    "    log_volu = np.log(volu + 1)\n",
    "    log_volu.columns = ['lgv%d'%i for i in range(10)]\n",
    "    \n",
    "    # price diff\n",
    "    pr_diff = []\n",
    "    for d in [1, 10, 30]:\n",
    "        pr_diff.append(log_pr.diff(d))\n",
    "        pr_diff[-1].columns = ['prdif%d%d'%(d, i) for i in range(10)]\n",
    "        \n",
    "    # volume diff\n",
    "    volu_diff = []\n",
    "    for d in [1, 10, 30]:\n",
    "        volu_diff.append(volu.diff(d))\n",
    "        volu_diff[-1].columns = ['vdif%d%d'%(d, i) for i in range(10)]\n",
    "        \n",
    "    # price rate of change\n",
    "    pr_roc = []\n",
    "    for window in [1, 10, 30, 40, 60, 120, 1440 - 60]:\n",
    "        pr_roc.append(rate_of_change(log_pr, window))\n",
    "        pr_roc[-1].columns = ['prroc%d%d'%(window, i) for i in range(10)]\n",
    "        \n",
    "    # volume rate of change\n",
    "    v_roc = []\n",
    "    for window in [10, 30, 40, 60, 120, 1440 - 60]:\n",
    "        v_roc.append(rate_of_change(volu + 1, window))\n",
    "        v_roc[-1].columns = ['vroc%d%d'%(window, i) for i in range(10)]\n",
    "        \n",
    "    # price moving average\n",
    "    pr_ma =[]\n",
    "    for window in [1, 10, 30, 40, 60, 120, 1440 - 60]:\n",
    "        pr_ma.append(moving_average(log_pr, window))\n",
    "        pr_ma[-1].columns = ['prma%d%d'%(window, i) for i in range(10)]\n",
    "        \n",
    "    # volume moving average\n",
    "    v_ma = []\n",
    "    for window in [1, 10, 30, 40, 60, 120, 1440 - 60]:\n",
    "        v_ma.append(moving_average(volu, window))\n",
    "        v_ma[-1].columns = ['vma%d%d'%(window, i) for i in range(10)]\n",
    "        \n",
    "    # price exp moving average\n",
    "    pr_ema =[]\n",
    "    for window in [1, 10, 30, 40, 60, 120, 1440 - 60]:\n",
    "        pr_ema.append(exp_moving_avg(log_pr, window))\n",
    "        pr_ema[-1].columns = ['prema%d%d'%(window, i) for i in range(10)]\n",
    "        \n",
    "    # volume exp moving average\n",
    "    v_ema = []\n",
    "    for window in [1, 10, 30, 40, 60, 120, 1440 - 60]:\n",
    "        v_ema.append(exp_moving_avg(volu, window))\n",
    "        v_ema[-1].columns = ['vema%d%d'%(window, i) for i in range(10)]\n",
    "        \n",
    "    # z score\n",
    "    pr_z = []\n",
    "    for window in [10, 30, 40, 60, 120, 1440 - 60]:\n",
    "        pr_z.append(z_score(log_pr, window))\n",
    "        pr_z[-1].columns = ['prz%d%d'%(window, i) for i in range(10)]\n",
    "        \n",
    "    # volume z score\n",
    "    v_z = []\n",
    "    for window in [10, 30, 40, 60, 120, 1440 - 60]:\n",
    "        v_z.append(z_score(volu, window))\n",
    "        v_z[-1].columns = ['vz%d%d'%(window, i) for i in range(10)]\n",
    "        \n",
    "    # RSI indicators\n",
    "    rsi = RSI(log_pr, 14)\n",
    "    rsi.columns = ['rsi%d'%i for i in range(10)]\n",
    "    \n",
    "    # MACD indicators\n",
    "    macd, macd_r = MACD(log_pr)\n",
    "    macd.columns = ['macd%d'%i for i in range(10)]\n",
    "    macd_r.columns = ['macd%d'%i for i in range(10)]\n",
    "    \n",
    "    # high low indicators\n",
    "    high, low = high_low(log_pr)\n",
    "    high.columns = ['high%d'%i for i in range(10)]\n",
    "    low.columns = ['low%d'%i for i in range(10)]\n",
    "    \n",
    "    # high low ratio\n",
    "    rhp = RHP(log_pr)\n",
    "    rhp = pd.DataFrame(rhp, columns=['rhp'])\n",
    "    \n",
    "    # BollingerBands\n",
    "    upbb, downbb = BollingerBands(log_pr, 10)\n",
    "    upbb.columns = ['upbb%d'%i for i in range(10)]\n",
    "    downbb.columns = ['downbb%d'%i for i in range(10)]\n",
    "    \n",
    "    # TRIN\n",
    "    trin = TRIN(log_pr, volu)\n",
    "    trin = pd.DataFrame(trin, columns=['trin'])\n",
    "    \n",
    "    # ADL\n",
    "    adl = ADL(log_pr)\n",
    "    adl = pd.DataFrame(adl, columns=['adl'])\n",
    "    \n",
    "    import itertools\n",
    "    features = pd.concat([log_pr, volu, \n",
    "                          n_ret, log_volu, *pr_diff, *volu_diff, \n",
    "                          *pr_roc, *v_roc, *pr_ma, *v_ma, \n",
    "                          *pr_ema, *v_ema, *pr_z, *v_z,\n",
    "                          rsi, macd, high, low, rhp, \n",
    "                          upbb, downbb, trin, adl], axis=1)\n",
    "    return features\n",
    "    \n",
    "    "
   ]
  },
  {
   "cell_type": "code",
   "execution_count": 198,
   "id": "75373b39",
   "metadata": {},
   "outputs": [],
   "source": [
    "features = generate_features(log_pr, volu)"
   ]
  },
  {
   "cell_type": "code",
   "execution_count": 199,
   "id": "38c4fb40",
   "metadata": {},
   "outputs": [
    {
     "data": {
      "text/plain": [
       "Index(['log_pr_0', 'log_pr_1', 'log_pr_2', 'log_pr_3', 'log_pr_4', 'log_pr_5',\n",
       "       'log_pr_6', 'log_pr_7', 'log_pr_8', 'log_pr_9',\n",
       "       ...\n",
       "       'downbb2', 'downbb3', 'downbb4', 'downbb5', 'downbb6', 'downbb7',\n",
       "       'downbb8', 'downbb9', 'trin', 'adl'],\n",
       "      dtype='object', length=693)"
      ]
     },
     "execution_count": 199,
     "metadata": {},
     "output_type": "execute_result"
    }
   ],
   "source": [
    "features.columns"
   ]
  },
  {
   "cell_type": "code",
   "execution_count": 200,
   "id": "e69a15cd",
   "metadata": {},
   "outputs": [],
   "source": [
    "features.to_pickle('./features.pkl')"
   ]
  },
  {
   "cell_type": "markdown",
   "id": "e51f8b15",
   "metadata": {},
   "source": [
    "#### Forge training set and test set"
   ]
  },
  {
   "cell_type": "code",
   "execution_count": 201,
   "id": "a228de33",
   "metadata": {},
   "outputs": [],
   "source": [
    "log_pr_tr, log_pr_tst, volu_tr,  volu_tst = split_data(log_pr, volu, 0.3)"
   ]
  },
  {
   "cell_type": "code",
   "execution_count": 202,
   "id": "fd3c26b7",
   "metadata": {},
   "outputs": [
    {
     "data": {
      "text/plain": [
       "((185472, 10), (79488, 10), (185472, 10), (79488, 10))"
      ]
     },
     "execution_count": 202,
     "metadata": {},
     "output_type": "execute_result"
    }
   ],
   "source": [
    "log_pr_tr.shape, log_pr_tst.shape, volu_tr.shape, volu_tst.shape"
   ]
  },
  {
   "cell_type": "code",
   "execution_count": 203,
   "id": "aa4244c4",
   "metadata": {},
   "outputs": [],
   "source": [
    "features_tr = generate_features(log_pr_tr, volu_tr)"
   ]
  },
  {
   "cell_type": "code",
   "execution_count": 204,
   "id": "9122952c",
   "metadata": {},
   "outputs": [
    {
     "data": {
      "text/plain": [
       "((185472, 693),\n",
       " Index(['log_pr_0', 'log_pr_1', 'log_pr_2', 'log_pr_3', 'log_pr_4', 'log_pr_5',\n",
       "        'log_pr_6', 'log_pr_7', 'log_pr_8', 'log_pr_9',\n",
       "        ...\n",
       "        'downbb2', 'downbb3', 'downbb4', 'downbb5', 'downbb6', 'downbb7',\n",
       "        'downbb8', 'downbb9', 'trin', 'adl'],\n",
       "       dtype='object', length=693),\n",
       " (184092, 693))"
      ]
     },
     "execution_count": 204,
     "metadata": {},
     "output_type": "execute_result"
    }
   ],
   "source": [
    "features_tr.shape, features.columns, features_tr.dropna().shape"
   ]
  },
  {
   "cell_type": "code",
   "execution_count": 205,
   "id": "5a5fccb3",
   "metadata": {},
   "outputs": [],
   "source": [
    "features_tr.to_pickle('./features_tr.pkl')"
   ]
  },
  {
   "cell_type": "code",
   "execution_count": 206,
   "id": "17c0858b",
   "metadata": {},
   "outputs": [
    {
     "data": {
      "text/plain": [
       "((18406, 3, 693), (18406, 1, 10))"
      ]
     },
     "execution_count": 206,
     "metadata": {},
     "output_type": "execute_result"
    }
   ],
   "source": [
    "features_tr_f, label_tr_f = formulize_data(features_tr.dropna(), log_pr_tr.loc[features_tr.dropna().index], window_size=3)\n",
    "features_tr_f.shape, label_tr_f.shape"
   ]
  },
  {
   "cell_type": "code",
   "execution_count": 207,
   "id": "fe14ad73",
   "metadata": {},
   "outputs": [],
   "source": [
    "np.save('./features_tr_f.pkl', features_tr_f)\n",
    "np.save('./labels_tr_f.pkl', label_tr_f)"
   ]
  },
  {
   "cell_type": "code",
   "execution_count": 208,
   "id": "9d90d7f3",
   "metadata": {},
   "outputs": [
    {
     "data": {
      "text/plain": [
       "0.9988108652516947"
      ]
     },
     "execution_count": 208,
     "metadata": {},
     "output_type": "execute_result"
    }
   ],
   "source": [
    "from sklearn.linear_model import LinearRegression\n",
    "N = len(features_tr_f)\n",
    "model = LinearRegression()\n",
    "model.fit(features_tr_f.reshape(N, -1), label_tr_f.squeeze())\n",
    "model.score(features_tr_f.reshape(N, -1), label_tr_f.squeeze())"
   ]
  },
  {
   "cell_type": "code",
   "execution_count": 220,
   "id": "811bdf62",
   "metadata": {},
   "outputs": [
    {
     "name": "stdout",
     "output_type": "stream",
     "text": [
      "(3, 693)\n"
     ]
    },
    {
     "ename": "KeyError",
     "evalue": "-1",
     "output_type": "error",
     "traceback": [
      "\u001b[1;31m---------------------------------------------------------------------------\u001b[0m",
      "\u001b[1;31mKeyError\u001b[0m                                  Traceback (most recent call last)",
      "File \u001b[1;32mC:\\VApps\\Anaconda3\\envs\\stats601\\lib\\site-packages\\pandas\\core\\indexes\\base.py:3621\u001b[0m, in \u001b[0;36mIndex.get_loc\u001b[1;34m(self, key, method, tolerance)\u001b[0m\n\u001b[0;32m   3620\u001b[0m \u001b[38;5;28;01mtry\u001b[39;00m:\n\u001b[1;32m-> 3621\u001b[0m     \u001b[38;5;28;01mreturn\u001b[39;00m \u001b[38;5;28;43mself\u001b[39;49m\u001b[38;5;241;43m.\u001b[39;49m\u001b[43m_engine\u001b[49m\u001b[38;5;241;43m.\u001b[39;49m\u001b[43mget_loc\u001b[49m\u001b[43m(\u001b[49m\u001b[43mcasted_key\u001b[49m\u001b[43m)\u001b[49m\n\u001b[0;32m   3622\u001b[0m \u001b[38;5;28;01mexcept\u001b[39;00m \u001b[38;5;167;01mKeyError\u001b[39;00m \u001b[38;5;28;01mas\u001b[39;00m err:\n",
      "File \u001b[1;32mC:\\VApps\\Anaconda3\\envs\\stats601\\lib\\site-packages\\pandas\\_libs\\index.pyx:136\u001b[0m, in \u001b[0;36mpandas._libs.index.IndexEngine.get_loc\u001b[1;34m()\u001b[0m\n",
      "File \u001b[1;32mC:\\VApps\\Anaconda3\\envs\\stats601\\lib\\site-packages\\pandas\\_libs\\index.pyx:163\u001b[0m, in \u001b[0;36mpandas._libs.index.IndexEngine.get_loc\u001b[1;34m()\u001b[0m\n",
      "File \u001b[1;32mpandas\\_libs\\hashtable_class_helper.pxi:5198\u001b[0m, in \u001b[0;36mpandas._libs.hashtable.PyObjectHashTable.get_item\u001b[1;34m()\u001b[0m\n",
      "File \u001b[1;32mpandas\\_libs\\hashtable_class_helper.pxi:5206\u001b[0m, in \u001b[0;36mpandas._libs.hashtable.PyObjectHashTable.get_item\u001b[1;34m()\u001b[0m\n",
      "\u001b[1;31mKeyError\u001b[0m: -1",
      "\nThe above exception was the direct cause of the following exception:\n",
      "\u001b[1;31mKeyError\u001b[0m                                  Traceback (most recent call last)",
      "Input \u001b[1;32mIn [220]\u001b[0m, in \u001b[0;36m<cell line: 11>\u001b[1;34m()\u001b[0m\n\u001b[0;32m      8\u001b[0m     pred \u001b[38;5;241m=\u001b[39m model\u001b[38;5;241m.\u001b[39mpredict(features_tr[\u001b[38;5;241m-\u001b[39m\u001b[38;5;241m1\u001b[39m]\u001b[38;5;241m.\u001b[39mreshape(\u001b[38;5;241m1\u001b[39m, \u001b[38;5;241m-\u001b[39m\u001b[38;5;241m1\u001b[39m))\n\u001b[0;32m      9\u001b[0m     \u001b[38;5;28;01mreturn\u001b[39;00m pred \u001b[38;5;241m-\u001b[39m A\u001b[38;5;241m.\u001b[39mvalues[\u001b[38;5;241m-\u001b[39m\u001b[38;5;241m1\u001b[39m]\n\u001b[1;32m---> 11\u001b[0m \u001b[43mcr\u001b[49m\u001b[38;5;241;43m.\u001b[39;49m\u001b[43msubmit\u001b[49m\u001b[43m(\u001b[49m\u001b[43mget_r_hat\u001b[49m\u001b[43m,\u001b[49m\u001b[43m \u001b[49m\u001b[43mlog_pr_tst\u001b[49m\u001b[43m,\u001b[49m\u001b[43m \u001b[49m\u001b[43mvolu_tst\u001b[49m\u001b[43m)\u001b[49m\n",
      "File \u001b[1;32m~\\Documents\\GitHub\\stats601-project\\critic.py:72\u001b[0m, in \u001b[0;36mCritic.submit\u001b[1;34m(self, get_r_hat, log_pr, volu)\u001b[0m\n\u001b[0;32m     71\u001b[0m \u001b[38;5;28;01mdef\u001b[39;00m \u001b[38;5;21msubmit\u001b[39m(\u001b[38;5;28mself\u001b[39m, get_r_hat, log_pr, volu):\n\u001b[1;32m---> 72\u001b[0m     t_used, pairwise, overall \u001b[38;5;241m=\u001b[39m \u001b[38;5;28;43mself\u001b[39;49m\u001b[38;5;241;43m.\u001b[39;49m\u001b[43mscore\u001b[49m\u001b[43m(\u001b[49m\u001b[43mget_r_hat\u001b[49m\u001b[43m,\u001b[49m\u001b[43m \u001b[49m\u001b[43mlog_pr\u001b[49m\u001b[43m,\u001b[49m\u001b[43m \u001b[49m\u001b[43mvolu\u001b[49m\u001b[43m)\u001b[49m\n\u001b[0;32m     73\u001b[0m     \u001b[38;5;28mprint\u001b[39m(\u001b[38;5;124m\"\u001b[39m\u001b[38;5;124mTotal time used: \u001b[39m\u001b[38;5;132;01m%.3f\u001b[39;00m\u001b[38;5;124ms\u001b[39m\u001b[38;5;124m\"\u001b[39m \u001b[38;5;241m%\u001b[39m t_used)\n\u001b[0;32m     74\u001b[0m     pairwise_report \u001b[38;5;241m=\u001b[39m \u001b[38;5;124m\"\u001b[39m\u001b[38;5;124mPairwise correlation:\u001b[39m\u001b[38;5;130;01m\\n\u001b[39;00m\u001b[38;5;124m\"\u001b[39m\n",
      "File \u001b[1;32m~\\Documents\\GitHub\\stats601-project\\critic.py:50\u001b[0m, in \u001b[0;36mCritic.score\u001b[1;34m(self, get_r_hat, log_pr, volu)\u001b[0m\n\u001b[0;32m     46\u001b[0m r_hat \u001b[38;5;241m=\u001b[39m pd\u001b[38;5;241m.\u001b[39mDataFrame(index\u001b[38;5;241m=\u001b[39mlog_pr\u001b[38;5;241m.\u001b[39mindex[\u001b[38;5;241m1440\u001b[39m::\u001b[38;5;241m10\u001b[39m], \n\u001b[0;32m     47\u001b[0m                     columns\u001b[38;5;241m=\u001b[39mnp\u001b[38;5;241m.\u001b[39marange(\u001b[38;5;241m10\u001b[39m), \n\u001b[0;32m     48\u001b[0m                     dtype\u001b[38;5;241m=\u001b[39mnp\u001b[38;5;241m.\u001b[39mfloat64)\n\u001b[0;32m     49\u001b[0m \u001b[38;5;28;01mfor\u001b[39;00m t \u001b[38;5;129;01min\u001b[39;00m log_pr\u001b[38;5;241m.\u001b[39mindex[\u001b[38;5;241m1440\u001b[39m::\u001b[38;5;241m10\u001b[39m]: \u001b[38;5;66;03m# compute the predictions every day\u001b[39;00m\n\u001b[1;32m---> 50\u001b[0m     r_hat\u001b[38;5;241m.\u001b[39mloc[t, :] \u001b[38;5;241m=\u001b[39m \u001b[43mget_r_hat\u001b[49m\u001b[43m(\u001b[49m\u001b[43mlog_pr\u001b[49m\u001b[38;5;241;43m.\u001b[39;49m\u001b[43mloc\u001b[49m\u001b[43m[\u001b[49m\u001b[43m(\u001b[49m\u001b[43mt\u001b[49m\u001b[43m \u001b[49m\u001b[38;5;241;43m-\u001b[39;49m\u001b[43m \u001b[49m\u001b[43mdt\u001b[49m\u001b[43m)\u001b[49m\u001b[43m:\u001b[49m\u001b[43mt\u001b[49m\u001b[43m]\u001b[49m\u001b[43m,\u001b[49m\u001b[43m \u001b[49m\u001b[43mvolu\u001b[49m\u001b[38;5;241;43m.\u001b[39;49m\u001b[43mloc\u001b[49m\u001b[43m[\u001b[49m\u001b[43m(\u001b[49m\u001b[43mt\u001b[49m\u001b[43m \u001b[49m\u001b[38;5;241;43m-\u001b[39;49m\u001b[43m \u001b[49m\u001b[43mdt\u001b[49m\u001b[43m)\u001b[49m\u001b[43m:\u001b[49m\u001b[43mt\u001b[49m\u001b[43m]\u001b[49m\u001b[43m)\u001b[49m\n\u001b[0;32m     52\u001b[0m t_used \u001b[38;5;241m=\u001b[39m time\u001b[38;5;241m.\u001b[39mtime() \u001b[38;5;241m-\u001b[39m t0\n\u001b[0;32m     54\u001b[0m \u001b[38;5;66;03m# Compute true forward log_returns every 10 minutes\u001b[39;00m\n",
      "Input \u001b[1;32mIn [220]\u001b[0m, in \u001b[0;36mget_r_hat\u001b[1;34m(A, B)\u001b[0m\n\u001b[0;32m      6\u001b[0m features_tr \u001b[38;5;241m=\u001b[39m features[\u001b[38;5;241m-\u001b[39m\u001b[38;5;241m3\u001b[39m:]\n\u001b[0;32m      7\u001b[0m \u001b[38;5;28mprint\u001b[39m(features_tr\u001b[38;5;241m.\u001b[39mshape)\n\u001b[1;32m----> 8\u001b[0m pred \u001b[38;5;241m=\u001b[39m model\u001b[38;5;241m.\u001b[39mpredict(\u001b[43mfeatures_tr\u001b[49m\u001b[43m[\u001b[49m\u001b[38;5;241;43m-\u001b[39;49m\u001b[38;5;241;43m1\u001b[39;49m\u001b[43m]\u001b[49m\u001b[38;5;241m.\u001b[39mreshape(\u001b[38;5;241m1\u001b[39m, \u001b[38;5;241m-\u001b[39m\u001b[38;5;241m1\u001b[39m))\n\u001b[0;32m      9\u001b[0m \u001b[38;5;28;01mreturn\u001b[39;00m pred \u001b[38;5;241m-\u001b[39m A\u001b[38;5;241m.\u001b[39mvalues[\u001b[38;5;241m-\u001b[39m\u001b[38;5;241m1\u001b[39m]\n",
      "File \u001b[1;32mC:\\VApps\\Anaconda3\\envs\\stats601\\lib\\site-packages\\pandas\\core\\frame.py:3505\u001b[0m, in \u001b[0;36mDataFrame.__getitem__\u001b[1;34m(self, key)\u001b[0m\n\u001b[0;32m   3503\u001b[0m \u001b[38;5;28;01mif\u001b[39;00m \u001b[38;5;28mself\u001b[39m\u001b[38;5;241m.\u001b[39mcolumns\u001b[38;5;241m.\u001b[39mnlevels \u001b[38;5;241m>\u001b[39m \u001b[38;5;241m1\u001b[39m:\n\u001b[0;32m   3504\u001b[0m     \u001b[38;5;28;01mreturn\u001b[39;00m \u001b[38;5;28mself\u001b[39m\u001b[38;5;241m.\u001b[39m_getitem_multilevel(key)\n\u001b[1;32m-> 3505\u001b[0m indexer \u001b[38;5;241m=\u001b[39m \u001b[38;5;28;43mself\u001b[39;49m\u001b[38;5;241;43m.\u001b[39;49m\u001b[43mcolumns\u001b[49m\u001b[38;5;241;43m.\u001b[39;49m\u001b[43mget_loc\u001b[49m\u001b[43m(\u001b[49m\u001b[43mkey\u001b[49m\u001b[43m)\u001b[49m\n\u001b[0;32m   3506\u001b[0m \u001b[38;5;28;01mif\u001b[39;00m is_integer(indexer):\n\u001b[0;32m   3507\u001b[0m     indexer \u001b[38;5;241m=\u001b[39m [indexer]\n",
      "File \u001b[1;32mC:\\VApps\\Anaconda3\\envs\\stats601\\lib\\site-packages\\pandas\\core\\indexes\\base.py:3623\u001b[0m, in \u001b[0;36mIndex.get_loc\u001b[1;34m(self, key, method, tolerance)\u001b[0m\n\u001b[0;32m   3621\u001b[0m     \u001b[38;5;28;01mreturn\u001b[39;00m \u001b[38;5;28mself\u001b[39m\u001b[38;5;241m.\u001b[39m_engine\u001b[38;5;241m.\u001b[39mget_loc(casted_key)\n\u001b[0;32m   3622\u001b[0m \u001b[38;5;28;01mexcept\u001b[39;00m \u001b[38;5;167;01mKeyError\u001b[39;00m \u001b[38;5;28;01mas\u001b[39;00m err:\n\u001b[1;32m-> 3623\u001b[0m     \u001b[38;5;28;01mraise\u001b[39;00m \u001b[38;5;167;01mKeyError\u001b[39;00m(key) \u001b[38;5;28;01mfrom\u001b[39;00m \u001b[38;5;21;01merr\u001b[39;00m\n\u001b[0;32m   3624\u001b[0m \u001b[38;5;28;01mexcept\u001b[39;00m \u001b[38;5;167;01mTypeError\u001b[39;00m:\n\u001b[0;32m   3625\u001b[0m     \u001b[38;5;66;03m# If we have a listlike key, _check_indexing_error will raise\u001b[39;00m\n\u001b[0;32m   3626\u001b[0m     \u001b[38;5;66;03m#  InvalidIndexError. Otherwise we fall through and re-raise\u001b[39;00m\n\u001b[0;32m   3627\u001b[0m     \u001b[38;5;66;03m#  the TypeError.\u001b[39;00m\n\u001b[0;32m   3628\u001b[0m     \u001b[38;5;28mself\u001b[39m\u001b[38;5;241m.\u001b[39m_check_indexing_error(key)\n",
      "\u001b[1;31mKeyError\u001b[0m: -1"
     ]
    }
   ],
   "source": [
    "from critic import Critic\n",
    "cr = Critic()\n",
    "def get_r_hat(A, B):\n",
    "#     print(A.shape, B.shape)\n",
    "    features = generate_features(A, B).dropna()\n",
    "    features_tr = features[-3:]\n",
    "    print(features_tr.shape)\n",
    "    pred = model.predict(features_tr.reshape(1, -1))\n",
    "    return pred - A.values[-1]\n",
    "    \n",
    "cr.submit(get_r_hat, log_pr_tst, volu_tst)"
   ]
  },
  {
   "cell_type": "code",
   "execution_count": null,
   "id": "c513a3df",
   "metadata": {},
   "outputs": [],
   "source": []
  }
 ],
 "metadata": {
  "kernelspec": {
   "display_name": "Python 3 (ipykernel)",
   "language": "python",
   "name": "python3"
  },
  "language_info": {
   "codemirror_mode": {
    "name": "ipython",
    "version": 3
   },
   "file_extension": ".py",
   "mimetype": "text/x-python",
   "name": "python",
   "nbconvert_exporter": "python",
   "pygments_lexer": "ipython3",
   "version": "3.8.13"
  }
 },
 "nbformat": 4,
 "nbformat_minor": 5
}
