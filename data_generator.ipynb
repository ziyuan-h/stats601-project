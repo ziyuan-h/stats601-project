{
 "cells": [
  {
   "cell_type": "code",
   "execution_count": 2,
   "id": "667dbefe",
   "metadata": {},
   "outputs": [],
   "source": [
    "import numpy as np\n",
    "import pandas as pd\n",
    "\n",
    "log_pr_file = './log_price.df'\n",
    "volu_usd_file = './volume_usd.df'"
   ]
  },
  {
   "cell_type": "code",
   "execution_count": 3,
   "id": "62fab46e",
   "metadata": {},
   "outputs": [],
   "source": [
    "log_pr = pd.read_pickle(log_pr_file)\n",
    "volu = pd.read_pickle(volu_usd_file)\n",
    "log_pr.columns = ['log_pr_%d'%i for i in range(10)]\n",
    "volu.columns = ['volu_%d'%i for i in range(10)]\n",
    "\n",
    "data = pd.concat([log_pr, volu], axis=1)"
   ]
  },
  {
   "cell_type": "markdown",
   "id": "dbce5510",
   "metadata": {},
   "source": [
    "#### Dataset manipulation"
   ]
  },
  {
   "cell_type": "code",
   "execution_count": 4,
   "id": "905c57ef",
   "metadata": {},
   "outputs": [],
   "source": [
    "def _split_data(data:pd.DataFrame, test_pct:float):\n",
    "    assert test_pct > 0 and test_pct < 1\n",
    "    test_size = int(len(data) * test_pct)\n",
    "    return  data[:-test_size], data[-test_size:]\n",
    "\n",
    "def split_data(log_pr:pd.DataFrame, volu:pd.DataFrame, test_pct:float):\n",
    "    return *_split_data(log_pr, test_pct), *_split_data(volu, test_pct)"
   ]
  },
  {
   "cell_type": "code",
   "execution_count": 5,
   "id": "41fb2495",
   "metadata": {},
   "outputs": [],
   "source": [
    "def formulize_data(data:pd.DataFrame, log_pr:pd.DataFrame, window_size=1440, step=10) -> np.array:\n",
    "    N = len(data)\n",
    "    assert N == len(log_pr)\n",
    "    train_index = np.arange(0, window_size)[np.newaxis, :] + np.arange(0, N - window_size - 30, step)[:, np.newaxis]\n",
    "    return_index = np.arange(0, N - window_size - 30, step)[:, np.newaxis] + window_size + 30 - 1\n",
    "#     print(train_index, return_index)\n",
    "    return data.values[train_index], log_pr.values[return_index]"
   ]
  },
  {
   "cell_type": "markdown",
   "id": "67ca8c99",
   "metadata": {},
   "source": [
    "#### Featue generator functions"
   ]
  },
  {
   "cell_type": "code",
   "execution_count": 6,
   "id": "eed48be0",
   "metadata": {},
   "outputs": [],
   "source": [
    "def rate_of_change(data:pd.DataFrame, periods):\n",
    "    return data.pct_change(periods)"
   ]
  },
  {
   "cell_type": "code",
   "execution_count": 7,
   "id": "91bfcf52",
   "metadata": {},
   "outputs": [],
   "source": [
    "def moving_average(data:pd.DataFrame, window_size):\n",
    "    return data.rolling(window_size).mean()"
   ]
  },
  {
   "cell_type": "code",
   "execution_count": 8,
   "id": "1a384239",
   "metadata": {},
   "outputs": [],
   "source": [
    "def exp_moving_avg(data:pd.DataFrame, window_size):\n",
    "    return data.ewm(com = window_size - 1, adjust=True, min_periods = window_size).mean()"
   ]
  },
  {
   "cell_type": "code",
   "execution_count": 9,
   "id": "26324a97",
   "metadata": {},
   "outputs": [],
   "source": [
    "def z_score(data:pd.DataFrame, window_size):\n",
    "    assert window_size > 1\n",
    "    return (data - data.rolling(window=window_size).mean()) / \\\n",
    "            data.rolling(window=window_size).std()"
   ]
  },
  {
   "cell_type": "code",
   "execution_count": 10,
   "id": "1587d174",
   "metadata": {},
   "outputs": [],
   "source": [
    "def moving_sum(data:pd.DataFrame, window_size):\n",
    "    return data.rolling(window_size).sum()"
   ]
  },
  {
   "cell_type": "code",
   "execution_count": 11,
   "id": "e6d2eea1",
   "metadata": {},
   "outputs": [],
   "source": [
    "def sign(data:pd.DataFrame):\n",
    "    return np.sign(data)"
   ]
  },
  {
   "cell_type": "code",
   "execution_count": 12,
   "id": "26ce30bc",
   "metadata": {},
   "outputs": [],
   "source": [
    "def binning(data:pd.DataFrame, n_bins):\n",
    "    bin_fn = lambda y: pd.qcut(y, q=n_bins, labels=range(1, n_bins+1))\n",
    "    return data.apply(bin_fn)"
   ]
  },
  {
   "cell_type": "code",
   "execution_count": 13,
   "id": "6e05b649",
   "metadata": {},
   "outputs": [],
   "source": [
    "def RSI(data:pd.DataFrame, window_size, ema=True):\n",
    "    \"\"\"\n",
    "    Returns a pd.Series with the relative strength index.\n",
    "    \"\"\"\n",
    "    # Make two series: one for lower closes and one for higher closes\n",
    "    up = data.clip(lower=0)\n",
    "    down = -1 * data.clip(upper=0)\n",
    "    \n",
    "    if ema == True:\n",
    "        # Use exponential moving average\n",
    "        ma_up = up.ewm(com = window_size - 1, adjust=True, min_periods = window_size).mean()\n",
    "        ma_down = down.ewm(com = window_size - 1, adjust=True, min_periods = window_size).mean()\n",
    "    else:\n",
    "        # Use simple moving average\n",
    "        ma_up = up.rolling(window = window_size, adjust=False).mean()\n",
    "        ma_down = down.rolling(window = window_size, adjust=False).mean()\n",
    "        \n",
    "    rsi = ma_up / ma_down\n",
    "    rsi = 100 - (100/(1 + rsi))\n",
    "    return rsi.dropna()"
   ]
  },
  {
   "cell_type": "code",
   "execution_count": 14,
   "id": "902c7384",
   "metadata": {},
   "outputs": [],
   "source": [
    "def MACD(data:pd.DataFrame, window_slow=26, window_fast=12, window_signal=9):\n",
    "    ema_slow = exp_moving_avg(data, window_slow)\n",
    "    ema_fast = exp_moving_avg(data, window_fast)\n",
    "    ema_signal = exp_moving_avg(data, window_signal)\n",
    "    macd = ema_fast - ema_slow\n",
    "    return macd, macd - ema_signal"
   ]
  },
  {
   "cell_type": "code",
   "execution_count": 15,
   "id": "1421e65e",
   "metadata": {},
   "outputs": [],
   "source": [
    "def high_low(data:pd.DataFrame, window=52):\n",
    "    high = data.rolling(window=window).max()\n",
    "    low = data.rolling(window=window).min()\n",
    "    return high, low"
   ]
  },
  {
   "cell_type": "code",
   "execution_count": 16,
   "id": "f657363b",
   "metadata": {},
   "outputs": [],
   "source": [
    "def RHP(data:pd.DataFrame, window=10, horizon=52):\n",
    "    high, low = high_low(data, horizon)\n",
    "    newhighs = (high == data).sum(axis=1)\n",
    "    newlows = (low == data).sum(axis=1)\n",
    "    rhp = newhighs / (newhighs + newlows + 1e-4)\n",
    "    return rhp.rolling(window=window).mean()"
   ]
  },
  {
   "cell_type": "code",
   "execution_count": 17,
   "id": "cd1a8379",
   "metadata": {},
   "outputs": [],
   "source": [
    "def BollingerBands(data:pd.DataFrame, window_size):\n",
    "    ma = data.rolling(window=window_size).mean()\n",
    "    sd = data.rolling(window=window_size).std()\n",
    "    up = ma + 2*sd\n",
    "    down = ma - 2*sd\n",
    "    return up, down"
   ]
  },
  {
   "cell_type": "code",
   "execution_count": 18,
   "id": "dc84a8a6",
   "metadata": {},
   "outputs": [],
   "source": [
    "def TRIN(log_pr:pd.DataFrame, volu:pd.DataFrame, window=1):\n",
    "    num_stocks = log_pr.shape[1]\n",
    "    pr_adv = (log_pr.diff(window) > 0).sum(axis=1)\n",
    "    v_adv = (volu.diff(window) > 0).sum(axis=1)\n",
    "    trin = (pr_adv / (num_stocks - pr_adv + 1e-4)) / (v_adv / (num_stocks - v_adv + 1e-4) + 1e-4)\n",
    "    return trin"
   ]
  },
  {
   "cell_type": "code",
   "execution_count": 19,
   "id": "54beb37c",
   "metadata": {},
   "outputs": [],
   "source": [
    "def ADL(data:pd.DataFrame, window=1):\n",
    "    num = data.shape[1]\n",
    "    adv = (data.diff(window) > 0).sum(axis=1)\n",
    "    return adv - (num - adv)"
   ]
  },
  {
   "cell_type": "markdown",
   "id": "92a3631c",
   "metadata": {},
   "source": [
    "#### Feature generator pipeline"
   ]
  },
  {
   "cell_type": "code",
   "execution_count": 20,
   "id": "34b2d1fd",
   "metadata": {},
   "outputs": [],
   "source": [
    "# construct features\n",
    "def generate_features(log_pr:pd.DataFrame, volu:pd.DataFrame):\n",
    "    # 30 min negative returns\n",
    "    n_ret = -(log_pr - log_pr.shift(30))\n",
    "    n_ret.columns = ['30rt%d'%i for i in range(10)]\n",
    "    \n",
    "    # log volumes\n",
    "    log_volu = np.log(volu + 1)\n",
    "    log_volu.columns = ['lgv%d'%i for i in range(10)]\n",
    "    \n",
    "    # price diff\n",
    "    pr_diff = []\n",
    "    for d in [1, 10, 30]:\n",
    "        pr_diff.append(log_pr.diff(d))\n",
    "        pr_diff[-1].columns = ['prdif%d%d'%(d, i) for i in range(10)]\n",
    "        \n",
    "    # volume diff\n",
    "    volu_diff = []\n",
    "    for d in [1, 10, 30]:\n",
    "        volu_diff.append(volu.diff(d))\n",
    "        volu_diff[-1].columns = ['vdif%d%d'%(d, i) for i in range(10)]\n",
    "        \n",
    "    # price rate of change\n",
    "    pr_roc = []\n",
    "    for window in [1, 10, 30, 40, 60, 120, 1440 - 60]:\n",
    "        pr_roc.append(rate_of_change(log_pr, window))\n",
    "        pr_roc[-1].columns = ['prroc%d%d'%(window, i) for i in range(10)]\n",
    "        \n",
    "    # volume rate of change\n",
    "    v_roc = []\n",
    "    for window in [10, 30, 40, 60, 120, 1440 - 60]:\n",
    "        v_roc.append(rate_of_change(volu + 1, window))\n",
    "        v_roc[-1].columns = ['vroc%d%d'%(window, i) for i in range(10)]\n",
    "        \n",
    "    # price moving average\n",
    "    pr_ma =[]\n",
    "    for window in [1, 10, 30, 40, 60, 120, 1440 - 60]:\n",
    "        pr_ma.append(moving_average(log_pr, window))\n",
    "        pr_ma[-1].columns = ['prma%d%d'%(window, i) for i in range(10)]\n",
    "        \n",
    "    # volume moving average\n",
    "    v_ma = []\n",
    "    for window in [1, 10, 30, 40, 60, 120, 1440 - 60]:\n",
    "        v_ma.append(moving_average(volu, window))\n",
    "        v_ma[-1].columns = ['vma%d%d'%(window, i) for i in range(10)]\n",
    "        \n",
    "    # price exp moving average\n",
    "    pr_ema =[]\n",
    "    for window in [1, 10, 30, 40, 60, 120, 1440 - 60]:\n",
    "        pr_ema.append(exp_moving_avg(log_pr, window))\n",
    "        pr_ema[-1].columns = ['prema%d%d'%(window, i) for i in range(10)]\n",
    "        \n",
    "    # volume exp moving average\n",
    "    v_ema = []\n",
    "    for window in [1, 10, 30, 40, 60, 120, 1440 - 60]:\n",
    "        v_ema.append(exp_moving_avg(volu, window))\n",
    "        v_ema[-1].columns = ['vema%d%d'%(window, i) for i in range(10)]\n",
    "        \n",
    "    # z score\n",
    "    pr_z = []\n",
    "    for window in [10, 30, 40, 60, 120, 1440 - 60]:\n",
    "        pr_z.append(z_score(log_pr, window))\n",
    "        pr_z[-1].columns = ['prz%d%d'%(window, i) for i in range(10)]\n",
    "        \n",
    "    # volume z score\n",
    "    v_z = []\n",
    "    for window in [10, 30, 40, 60, 120, 1440 - 60]:\n",
    "        v_z.append(z_score(volu, window))\n",
    "        v_z[-1].columns = ['vz%d%d'%(window, i) for i in range(10)]\n",
    "        \n",
    "    # RSI indicators\n",
    "    rsi = RSI(log_pr, 14)\n",
    "    rsi.columns = ['rsi%d'%i for i in range(10)]\n",
    "    \n",
    "    # MACD indicators\n",
    "    macd, macd_r = MACD(log_pr)\n",
    "    macd.columns = ['macd%d'%i for i in range(10)]\n",
    "    macd_r.columns = ['macd%d'%i for i in range(10)]\n",
    "    \n",
    "    # high low indicators\n",
    "    high, low = high_low(log_pr)\n",
    "    high.columns = ['high%d'%i for i in range(10)]\n",
    "    low.columns = ['low%d'%i for i in range(10)]\n",
    "    \n",
    "    # high low ratio\n",
    "    rhp = RHP(log_pr)\n",
    "    rhp = pd.DataFrame(rhp, columns=['rhp'])\n",
    "    \n",
    "    # BollingerBands\n",
    "    upbb, downbb = BollingerBands(log_pr, 10)\n",
    "    upbb.columns = ['upbb%d'%i for i in range(10)]\n",
    "    downbb.columns = ['downbb%d'%i for i in range(10)]\n",
    "    \n",
    "    # TRIN\n",
    "    trin = TRIN(log_pr, volu)\n",
    "    trin = pd.DataFrame(trin, columns=['trin'])\n",
    "    \n",
    "    # ADL\n",
    "    adl = ADL(log_pr)\n",
    "    adl = pd.DataFrame(adl, columns=['adl'])\n",
    "    \n",
    "    import itertools\n",
    "    features = pd.concat([log_pr, volu, \n",
    "                          n_ret, log_volu, *pr_diff, *volu_diff, \n",
    "                          *pr_roc, *v_roc, *pr_ma, *v_ma, \n",
    "                          *pr_ema, *v_ema, *pr_z, *v_z,\n",
    "                          rsi, macd, high, low, rhp, \n",
    "                          upbb, downbb, trin, adl], axis=1)\n",
    "    return features\n",
    "    \n",
    "    "
   ]
  },
  {
   "cell_type": "code",
   "execution_count": 21,
   "id": "75373b39",
   "metadata": {},
   "outputs": [],
   "source": [
    "features = generate_features(log_pr, volu)"
   ]
  },
  {
   "cell_type": "code",
   "execution_count": 22,
   "id": "38c4fb40",
   "metadata": {},
   "outputs": [
    {
     "data": {
      "text/plain": [
       "Index(['log_pr_0', 'log_pr_1', 'log_pr_2', 'log_pr_3', 'log_pr_4', 'log_pr_5',\n",
       "       'log_pr_6', 'log_pr_7', 'log_pr_8', 'log_pr_9',\n",
       "       ...\n",
       "       'downbb2', 'downbb3', 'downbb4', 'downbb5', 'downbb6', 'downbb7',\n",
       "       'downbb8', 'downbb9', 'trin', 'adl'],\n",
       "      dtype='object', length=693)"
      ]
     },
     "execution_count": 22,
     "metadata": {},
     "output_type": "execute_result"
    }
   ],
   "source": [
    "features.columns"
   ]
  },
  {
   "cell_type": "code",
   "execution_count": 23,
   "id": "e69a15cd",
   "metadata": {},
   "outputs": [],
   "source": [
    "features.to_pickle('./features.pkl')"
   ]
  },
  {
   "cell_type": "markdown",
   "id": "e51f8b15",
   "metadata": {},
   "source": [
    "#### Forge training set and test set"
   ]
  },
  {
   "cell_type": "code",
   "execution_count": 24,
   "id": "a228de33",
   "metadata": {},
   "outputs": [],
   "source": [
    "log_pr_tr, log_pr_tst, volu_tr,  volu_tst = split_data(log_pr, volu, 0.3)"
   ]
  },
  {
   "cell_type": "code",
   "execution_count": 25,
   "id": "fd3c26b7",
   "metadata": {},
   "outputs": [
    {
     "data": {
      "text/plain": [
       "((185472, 10), (79488, 10), (185472, 10), (79488, 10))"
      ]
     },
     "execution_count": 25,
     "metadata": {},
     "output_type": "execute_result"
    }
   ],
   "source": [
    "log_pr_tr.shape, log_pr_tst.shape, volu_tr.shape, volu_tst.shape"
   ]
  },
  {
   "cell_type": "code",
   "execution_count": 26,
   "id": "aa4244c4",
   "metadata": {},
   "outputs": [],
   "source": [
    "features_tr = generate_features(log_pr_tr, volu_tr)"
   ]
  },
  {
   "cell_type": "code",
   "execution_count": 27,
   "id": "9122952c",
   "metadata": {},
   "outputs": [
    {
     "data": {
      "text/plain": [
       "((185472, 693),\n",
       " Index(['log_pr_0', 'log_pr_1', 'log_pr_2', 'log_pr_3', 'log_pr_4', 'log_pr_5',\n",
       "        'log_pr_6', 'log_pr_7', 'log_pr_8', 'log_pr_9',\n",
       "        ...\n",
       "        'downbb2', 'downbb3', 'downbb4', 'downbb5', 'downbb6', 'downbb7',\n",
       "        'downbb8', 'downbb9', 'trin', 'adl'],\n",
       "       dtype='object', length=693),\n",
       " (184092, 693))"
      ]
     },
     "execution_count": 27,
     "metadata": {},
     "output_type": "execute_result"
    }
   ],
   "source": [
    "features_tr.shape, features.columns, features_tr.dropna().shape"
   ]
  },
  {
   "cell_type": "code",
   "execution_count": 28,
   "id": "5a5fccb3",
   "metadata": {},
   "outputs": [],
   "source": [
    "features_tr.to_pickle('./features_tr.pkl')"
   ]
  },
  {
   "cell_type": "code",
   "execution_count": 29,
   "id": "17c0858b",
   "metadata": {},
   "outputs": [
    {
     "data": {
      "text/plain": [
       "((18406, 3, 693), (18406, 1, 10))"
      ]
     },
     "execution_count": 29,
     "metadata": {},
     "output_type": "execute_result"
    }
   ],
   "source": [
    "features_tr_f, label_tr_f = formulize_data(features_tr.dropna(), log_pr_tr.loc[features_tr.dropna().index], window_size=3)\n",
    "features_tr_f.shape, label_tr_f.shape"
   ]
  },
  {
   "cell_type": "code",
   "execution_count": 30,
   "id": "fe14ad73",
   "metadata": {},
   "outputs": [],
   "source": [
    "np.save('./features_tr_f.pkl', features_tr_f)\n",
    "np.save('./labels_tr_f.pkl', label_tr_f)"
   ]
  },
  {
   "cell_type": "markdown",
   "id": "8da7fa0b",
   "metadata": {},
   "source": [
    "#### Train and save a simple linear model"
   ]
  },
  {
   "cell_type": "code",
   "execution_count": 63,
   "id": "9d90d7f3",
   "metadata": {},
   "outputs": [
    {
     "data": {
      "text/plain": [
       "0.9988272726243963"
      ]
     },
     "execution_count": 63,
     "metadata": {},
     "output_type": "execute_result"
    }
   ],
   "source": [
    "from sklearn.linear_model import LinearRegression\n",
    "N = len(features_tr_f)\n",
    "model = LinearRegression()\n",
    "model.fit(features_tr_f.reshape(N, -1), label_tr_f.squeeze())\n",
    "model.score(features_tr_f.reshape(N, -1), label_tr_f.squeeze())"
   ]
  },
  {
   "cell_type": "code",
   "execution_count": 64,
   "id": "3ff81e85",
   "metadata": {},
   "outputs": [],
   "source": [
    "# save the file\n",
    "import pickle\n",
    "with open('./feature_linreg.pkl', 'wb') as f:\n",
    "    pickle.dump(model, f)"
   ]
  },
  {
   "cell_type": "code",
   "execution_count": 65,
   "id": "e8b34912",
   "metadata": {},
   "outputs": [],
   "source": [
    "import pickle\n",
    "with open('./feature_linreg.pkl', 'rb') as f:\n",
    "    file_model = pickle.load(f)"
   ]
  },
  {
   "cell_type": "code",
   "execution_count": 66,
   "id": "811bdf62",
   "metadata": {},
   "outputs": [
    {
     "name": "stderr",
     "output_type": "stream",
     "text": [
      "100%|██████████| 7805/7805 [09:57<00:00, 13.05it/s]"
     ]
    },
    {
     "name": "stdout",
     "output_type": "stream",
     "text": [
      "Total time used: 597.955s\n",
      "Pairwise correlation:\n",
      "\tasset 0 = 0.00922\n",
      "\tasset 1 = -0.00610\n",
      "\tasset 2 = 0.01215\n",
      "\tasset 3 = 0.01271\n",
      "\tasset 4 = 0.05252\n",
      "\tasset 5 = -0.02366\n",
      "\tasset 6 = 0.04410\n",
      "\tasset 7 = 0.00385\n",
      "\tasset 8 = -0.05468\n",
      "\tasset 9 = -0.00688\n",
      "\tmean correlation = 0.00432\n",
      "Overall correlation: 0.00634\n",
      "===============================\n",
      "Fail to outperform Ziwei's method, whose pairwise average\n",
      "and overall correlations are (0.02840, 0.01536)\n",
      "===============================\n"
     ]
    },
    {
     "name": "stderr",
     "output_type": "stream",
     "text": [
      "\n"
     ]
    },
    {
     "data": {
      "text/plain": [
       "(597.9553079605103,\n",
       " 0    0.009221\n",
       " 1   -0.006103\n",
       " 2    0.012149\n",
       " 3    0.012707\n",
       " 4    0.052524\n",
       " 5   -0.023663\n",
       " 6    0.044095\n",
       " 7    0.003845\n",
       " 8   -0.054679\n",
       " 9   -0.006883\n",
       " dtype: float64,\n",
       " 0.0063425222829207656)"
      ]
     },
     "execution_count": 66,
     "metadata": {},
     "output_type": "execute_result"
    }
   ],
   "source": [
    "from critic import Critic\n",
    "cr = Critic()\n",
    "from tqdm import tqdm\n",
    "def get_r_hat(A, B):\n",
    "#     print(A.shape, B.shape)\n",
    "    features = generate_features(A, B).dropna()\n",
    "    features_tr = features[-3:]\n",
    "    # print(features_tr.shape)\n",
    "    pred = file_model.predict(features_tr.values.reshape(1, -1))\n",
    "    return pred - A.values[-1]\n",
    "    \n",
    "cr.submit(get_r_hat, log_pr_tst, volu_tst)"
   ]
  },
  {
   "cell_type": "markdown",
   "id": "3ada7198",
   "metadata": {},
   "source": [
    "#### Feature Selection"
   ]
  },
  {
   "cell_type": "code",
   "execution_count": 31,
   "id": "4d508d84",
   "metadata": {},
   "outputs": [
    {
     "data": {
      "image/png": "[encoded data removed]",
      "text/plain": [
       "<Figure size 864x720 with 10 Axes>"
      ]
     },
     "metadata": {
      "needs_background": "light"
     },
     "output_type": "display_data"
    }
   ],
   "source": [
    "from joblib import delayed, Parallel\n",
    "from sklearn.feature_selection import f_regression, SelectKBest\n",
    "import matplotlib.pyplot as plt\n",
    "\n",
    "N = len(features_tr_f)\n",
    "\n",
    "def plot_corr_score(features, label):\n",
    "    fs = SelectKBest(score_func=f_regression, k='all')\n",
    "    fs.fit(features, label)\n",
    "    return np.concatenate([fs.scores_, fs.pvalues_], axis=0)\n",
    "\n",
    "rank_array_cor = Parallel(n_jobs=6)(delayed(plot_corr_score)(features_tr_f.reshape(N, -1), label_tr_f[:,:,i]) for i in range(10))\n",
    "\n",
    "_, ax = plt.subplots(5, 2, figsize=(12,10))\n",
    "for i, rank in enumerate(rank_array_cor):\n",
    "    p_values = rank[len(rank)//2:]\n",
    "    ax[i // 2, i % 2].bar([i for i in range(len(p_values))], p_values)\n",
    "plt.show()"
   ]
  },
  {
   "cell_type": "code",
   "execution_count": 32,
   "id": "0942023a",
   "metadata": {},
   "outputs": [
    {
     "data": {
      "image/png": "[encoded data removed]",
      "text/plain": [
       "<Figure size 864x720 with 10 Axes>"
      ]
     },
     "metadata": {
      "needs_background": "light"
     },
     "output_type": "display_data"
    }
   ],
   "source": [
    "_, ax = plt.subplots(5, 2, figsize=(12,10))\n",
    "for i, rank in enumerate(rank_array_cor):\n",
    "    f_values = rank[:len(rank)//2]\n",
    "    ax[i // 2, i % 2].bar([i for i in range(len(f_values))], f_values)\n",
    "plt.show()"
   ]
  },
  {
   "cell_type": "code",
   "execution_count": 33,
   "metadata": {},
   "outputs": [
    {
     "name": "stdout",
     "output_type": "stream",
     "text": [
      "features of asset 0 with p-value < 0.0010: num = 1193\n",
      "features of asset 1 with p-value < 0.0010: num = 1184\n",
      "features of asset 2 with p-value < 0.0010: num = 1134\n",
      "features of asset 3 with p-value < 0.0010: num = 1181\n",
      "features of asset 4 with p-value < 0.0010: num = 1181\n",
      "features of asset 5 with p-value < 0.0010: num = 974\n",
      "features of asset 6 with p-value < 0.0010: num = 1145\n",
      "features of asset 7 with p-value < 0.0010: num = 1117\n",
      "features of asset 8 with p-value < 0.0010: num = 1078\n",
      "features of asset 9 with p-value < 0.0010: num = 1072\n"
     ]
    }
   ],
   "source": [
    "threshold = 0.001\n",
    "selected_cor_p = []\n",
    "for i, rank in enumerate(rank_array_cor):\n",
    "    # print(rank)\n",
    "    p_values = rank[len(rank)//2:]\n",
    "    selected_cor_p.append(np.where(p_values < threshold)[0])\n",
    "    print(\"features of asset %d with p-value < %.4f: num = %d\"%(i, threshold, len(selected_cor_p[-1])))"
   ]
  },
  {
   "cell_type": "code",
   "execution_count": 34,
   "id": "33481a90",
   "metadata": {},
   "outputs": [
    {
     "name": "stdout",
     "output_type": "stream",
     "text": [
      "features of asset 0 with f-value < 6366.0000: num = 381\n",
      "features of asset 1 with f-value < 6366.0000: num = 420\n",
      "features of asset 2 with f-value < 6366.0000: num = 444\n",
      "features of asset 3 with f-value < 6366.0000: num = 348\n",
      "features of asset 4 with f-value < 6366.0000: num = 441\n",
      "features of asset 5 with f-value < 6366.0000: num = 192\n",
      "features of asset 6 with f-value < 6366.0000: num = 150\n",
      "features of asset 7 with f-value < 6366.0000: num = 417\n",
      "features of asset 8 with f-value < 6366.0000: num = 183\n",
      "features of asset 9 with f-value < 6366.0000: num = 507\n"
     ]
    }
   ],
   "source": [
    "threshold = 6366\n",
    "selected_cor_f = []\n",
    "for i, rank in enumerate(rank_array_cor):\n",
    "    # print(rank)\n",
    "    f_values = rank[:len(rank)//2]\n",
    "    selected_cor_f.append(np.where(f_values > threshold)[0])\n",
    "    print(\"features of asset %d with f-value < %.4f: num = %d\"%(i, threshold, len(selected_cor_f[-1])))"
   ]
  },
  {
   "cell_type": "markdown",
   "id": "10aec537",
   "metadata": {},
   "source": [
    "Find all features with significant p-value and significant f-value."
   ]
  },
  {
   "cell_type": "code",
   "execution_count": 35,
   "id": "0fbffb71",
   "metadata": {},
   "outputs": [
    {
     "name": "stdout",
     "output_type": "stream",
     "text": [
      "features selected with correlation score for asset 0: 381\n",
      "features selected with correlation score for asset 1: 420\n",
      "features selected with correlation score for asset 2: 444\n",
      "features selected with correlation score for asset 3: 348\n",
      "features selected with correlation score for asset 4: 441\n",
      "features selected with correlation score for asset 5: 192\n",
      "features selected with correlation score for asset 6: 150\n",
      "features selected with correlation score for asset 7: 417\n",
      "features selected with correlation score for asset 8: 183\n",
      "features selected with correlation score for asset 9: 507\n"
     ]
    }
   ],
   "source": [
    "selected_cor = []\n",
    "for i in range(10):\n",
    "    selected_cor.append(np.intersect1d(selected_cor_p[i], selected_cor_f[i], True))\n",
    "    print(\"features selected with correlation score for asset %d: %d\"%(i, len(selected_cor[-1])))"
   ]
  },
  {
   "cell_type": "code",
   "execution_count": 36,
   "id": "c513a3df",
   "metadata": {},
   "outputs": [
    {
     "data": {
      "image/png": "[encoded data removed]",
      "text/plain": [
       "<Figure size 720x576 with 10 Axes>"
      ]
     },
     "metadata": {
      "needs_background": "light"
     },
     "output_type": "display_data"
    }
   ],
   "source": [
    "# mutual information\n",
    "from joblib import delayed, Parallel\n",
    "from sklearn.feature_selection import mutual_info_regression, SelectKBest\n",
    "import matplotlib.pyplot as plt\n",
    "\n",
    "def plot_corr_score(features, label, ax):\n",
    "    fs = SelectKBest(score_func=mutual_info_regression, k='all')\n",
    "    fs.fit(features, label)\n",
    "    return fs.scores_\n",
    "\n",
    "score_array = Parallel(n_jobs=6)(delayed(plot_corr_score)(features_tr_f.reshape(N,-1), label_tr_f[:,:,i], ax) for i in range(10))\n",
    "\n",
    "_, ax = plt.subplots(5, 2, figsize=(10,8))\n",
    "for i, scores in enumerate(score_array):\n",
    "    ax[i // 2, i % 2].bar([i for i in range(len(scores))], scores)\n",
    "plt.show()"
   ]
  },
  {
   "cell_type": "code",
   "execution_count": 37,
   "id": "d0761623",
   "metadata": {},
   "outputs": [
    {
     "name": "stdout",
     "output_type": "stream",
     "text": [
      "features of asset 0 with mi-value > 1.0000: num = 624\n",
      "features of asset 1 with mi-value > 1.0000: num = 636\n",
      "features of asset 2 with mi-value > 1.0000: num = 633\n",
      "features of asset 3 with mi-value > 1.0000: num = 621\n",
      "features of asset 4 with mi-value > 1.0000: num = 632\n",
      "features of asset 5 with mi-value > 1.0000: num = 630\n",
      "features of asset 6 with mi-value > 1.0000: num = 615\n",
      "features of asset 7 with mi-value > 1.0000: num = 621\n",
      "features of asset 8 with mi-value > 1.0000: num = 605\n",
      "features of asset 9 with mi-value > 1.0000: num = 639\n"
     ]
    }
   ],
   "source": [
    "threshold = 1\n",
    "selected_mi = []\n",
    "for i, score in enumerate(score_array):\n",
    "    selected_mi.append(np.where(score > threshold)[0])\n",
    "    print(\"features of asset %d with mi-value > %.4f: num = %d\"%(i, threshold, len(selected_mi[-1])))"
   ]
  },
  {
   "cell_type": "markdown",
   "id": "7c7508da",
   "metadata": {},
   "source": [
    "Unique features that might have non-linear relationship with target"
   ]
  },
  {
   "cell_type": "code",
   "execution_count": 69,
   "id": "5123894e",
   "metadata": {},
   "outputs": [
    {
     "name": "stdout",
     "output_type": "stream",
     "text": [
      "features of asset 0 that assumed to be linear but not significant: num=30\n",
      "features of asset 1 that assumed to be linear but not significant: num=9\n",
      "features of asset 2 that assumed to be linear but not significant: num=30\n",
      "features of asset 3 that assumed to be linear but not significant: num=6\n",
      "features of asset 4 that assumed to be linear but not significant: num=31\n",
      "features of asset 5 that assumed to be linear but not significant: num=12\n",
      "features of asset 6 that assumed to be linear but not significant: num=24\n",
      "features of asset 7 that assumed to be linear but not significant: num=9\n",
      "features of asset 8 that assumed to be linear but not significant: num=6\n",
      "features of asset 9 that assumed to be linear but not significant: num=30\n"
     ]
    }
   ],
   "source": [
    "non_sig_linear_features = []\n",
    "for i in range(10):\n",
    "    non_sig_linear_features.append(np.setdiff1d(selected_cor[i], selected_mi[i], True))\n",
    "    print(\"features of asset %d that assumed to be linear but not significant: num=%d\"%(i, len(non_sig_linear_features[-1])))"
   ]
  },
  {
   "cell_type": "code",
   "execution_count": 70,
   "id": "65ad2ca7",
   "metadata": {},
   "outputs": [
    {
     "name": "stdout",
     "output_type": "stream",
     "text": [
      "features of asset 0 that assumed to be linear: num=351\n",
      "features of asset 1 that assumed to be linear: num=411\n",
      "features of asset 2 that assumed to be linear: num=414\n",
      "features of asset 3 that assumed to be linear: num=342\n",
      "features of asset 4 that assumed to be linear: num=410\n",
      "features of asset 5 that assumed to be linear: num=180\n",
      "features of asset 6 that assumed to be linear: num=126\n",
      "features of asset 7 that assumed to be linear: num=408\n",
      "features of asset 8 that assumed to be linear: num=177\n",
      "features of asset 9 that assumed to be linear: num=477\n"
     ]
    }
   ],
   "source": [
    "linear_features = []\n",
    "for i in range(10):\n",
    "    linear_features.append(np.intersect1d(selected_cor[i], selected_mi[i], True))\n",
    "    print(\"features of asset %d that assumed to be linear: num=%d\"%(i, len(linear_features[-1])))"
   ]
  },
  {
   "cell_type": "code",
   "execution_count": 71,
   "id": "295f8997",
   "metadata": {},
   "outputs": [
    {
     "name": "stdout",
     "output_type": "stream",
     "text": [
      "features of asset 0 that assumed to be non-linear: num=273\n",
      "features of asset 1 that assumed to be non-linear: num=225\n",
      "features of asset 2 that assumed to be non-linear: num=219\n",
      "features of asset 3 that assumed to be non-linear: num=279\n",
      "features of asset 4 that assumed to be non-linear: num=222\n",
      "features of asset 5 that assumed to be non-linear: num=450\n",
      "features of asset 6 that assumed to be non-linear: num=489\n",
      "features of asset 7 that assumed to be non-linear: num=213\n",
      "features of asset 8 that assumed to be non-linear: num=428\n",
      "features of asset 9 that assumed to be non-linear: num=162\n"
     ]
    }
   ],
   "source": [
    "nonlinear_features = []\n",
    "for i in range(10):\n",
    "    nonlinear_features.append(np.setdiff1d(selected_mi[i], selected_cor[i], True))\n",
    "    print(\"features of asset %d that assumed to be non-linear: num=%d\"%(i, len(nonlinear_features[-1])))"
   ]
  },
  {
   "cell_type": "code",
   "execution_count": 64,
   "id": "569a47d2",
   "metadata": {},
   "outputs": [],
   "source": [
    "import pickle\n",
    "with open('./selected_features_idx.pkl', 'wb') as f:\n",
    "    selected_idx = {'nonlin': nonlinear_features, 'lin': linear_features, 'nonsig': non_sig_linear_features}\n",
    "    pickle.dump(selected_idx, f)"
   ]
  },
  {
   "cell_type": "markdown",
   "id": "e36abb3b",
   "metadata": {},
   "source": [
    "#### Classify all those features"
   ]
  },
  {
   "cell_type": "code",
   "execution_count": 183,
   "id": "c1845e12",
   "metadata": {},
   "outputs": [
    {
     "name": "stdout",
     "output_type": "stream",
     "text": [
      "(201,)\n",
      "['downbb0' 'downbb1' 'downbb2' 'downbb3' 'downbb4' 'downbb5' 'downbb6'\n",
      " 'downbb7' 'downbb8' 'downbb9' 'high0' 'high1' 'high2' 'high3' 'high4'\n",
      " 'high5' 'high6' 'high7' 'high8' 'high9'] ['upbb1' 'upbb2' 'upbb3' 'upbb4' 'upbb5' 'upbb6' 'upbb7' 'upbb8' 'upbb9'\n",
      " 'vema1202' 'vema13802' 'vema13803' 'vema13805' 'vema13806' 'vema402'\n",
      " 'vema602' 'vma1202' 'vma13802' 'vma13805' 'vma13806']\n"
     ]
    }
   ],
   "source": [
    "# train using linear models only\n",
    "linear_features_name = np.array([],dtype=str)\n",
    "for i in range(10):\n",
    "    for _ in range(features_tr_f.shape[1] - 1):\n",
    "        linear_features[i][np.where(linear_features[i] >= 693)[0]] -= 693\n",
    "    linear_features_name = np.union1d(linear_features_name, features_tr.columns[linear_features[i]])\n",
    "print(linear_features_name.shape)\n",
    "print(linear_features_name[:20], linear_features_name[-20:])"
   ]
  },
  {
   "cell_type": "code",
   "execution_count": 184,
   "id": "d4fa6b0d",
   "metadata": {},
   "outputs": [
    {
     "name": "stdout",
     "output_type": "stream",
     "text": [
      "(212,)\n",
      "['downbb0' 'downbb1' 'downbb2' 'downbb3' 'downbb4' 'downbb5' 'downbb6'\n",
      " 'downbb7' 'downbb8' 'downbb9' 'high0' 'high1' 'high2' 'high3' 'high4'\n",
      " 'high5' 'high6' 'high7' 'high8' 'high9'] ['vema13801' 'vema13802' 'vema13803' 'vema13804' 'vema13805' 'vema13806'\n",
      " 'vema13807' 'vema13808' 'vema13809' 'vma1202' 'vma13800' 'vma13801'\n",
      " 'vma13802' 'vma13803' 'vma13804' 'vma13805' 'vma13806' 'vma13807'\n",
      " 'vma13808' 'vma13809']\n"
     ]
    }
   ],
   "source": [
    "# train using non linear models only\n",
    "nonlinear_features_name = np.array([],dtype=str)\n",
    "for i in range(10):\n",
    "    for _ in range(features_tr_f.shape[1] - 1):\n",
    "        nonlinear_features[i][np.where(nonlinear_features[i] >= 693)[0]] -= 693\n",
    "    nonlinear_features_name = np.union1d(nonlinear_features_name, features_tr.columns[nonlinear_features[i]])\n",
    "print(nonlinear_features_name.shape)\n",
    "print(nonlinear_features_name[:20], nonlinear_features_name[-20:])"
   ]
  },
  {
   "cell_type": "code",
   "execution_count": 185,
   "id": "f00d660d",
   "metadata": {},
   "outputs": [
    {
     "name": "stdout",
     "output_type": "stream",
     "text": [
      "(26,)\n",
      "['lgv2' 'rsi3' 'rsi5' 'rsi6' 'rsi7' 'rsi8' 'rsi9' 'vema102' 'vema1202'\n",
      " 'vema1205' 'vema1206' 'vema302' 'vema306' 'vema402' 'vema406' 'vema602'\n",
      " 'vema605' 'vema606' 'vma102' 'vma1202'] ['rsi9' 'vema102' 'vema1202' 'vema1205' 'vema1206' 'vema302' 'vema306'\n",
      " 'vema402' 'vema406' 'vema602' 'vema605' 'vema606' 'vma102' 'vma1202'\n",
      " 'vma1205' 'vma1206' 'vma302' 'vma402' 'vma602' 'vma606']\n"
     ]
    }
   ],
   "source": [
    "# train using non-significant linear models only\n",
    "nonsig_linear_features_name = np.array([],dtype=str)\n",
    "for i in range(10):\n",
    "    for _ in range(features_tr_f.shape[1] - 1):\n",
    "        non_sig_linear_features[i][np.where(non_sig_linear_features[i] >= 693)[0]] -= 693\n",
    "    nonsig_linear_features_name = np.union1d(nonsig_linear_features_name, features_tr.columns[non_sig_linear_features[i]])\n",
    "print(nonsig_linear_features_name.shape)\n",
    "print(nonsig_linear_features_name[:20], nonsig_linear_features_name[-20:])"
   ]
  },
  {
   "cell_type": "code",
   "execution_count": 186,
   "id": "cf95d21d",
   "metadata": {},
   "outputs": [
    {
     "name": "stdout",
     "output_type": "stream",
     "text": [
      "236\n",
      "(33,)\n",
      "['downbb' 'high' 'lgv' 'log_pr_' 'low' 'prema1' 'prema10' 'prema120'\n",
      " 'prema1380' 'prema30' 'prema40' 'prema60' 'prma1' 'prma10' 'prma120'\n",
      " 'prma1380' 'prma30' 'prma40' 'prma60' 'rsi' 'upbb' 'vema10' 'vema120'\n",
      " 'vema1380' 'vema30' 'vema40' 'vema60' 'vma10' 'vma120' 'vma1380' 'vma30'\n",
      " 'vma40' 'vma60']\n"
     ]
    }
   ],
   "source": [
    "# total features need to be constructed\n",
    "feature_names = np.union1d(linear_features_name, nonlinear_features_name)\n",
    "feature_names = np.union1d(feature_names, nonsig_linear_features_name)\n",
    "print(len(feature_names))\n",
    "feature_names = np.unique([name[:-1] for name in feature_names])\n",
    "feature_names.sort()\n",
    "print(feature_names.shape)\n",
    "print(feature_names)"
   ]
  },
  {
   "cell_type": "code",
   "execution_count": 187,
   "id": "78b4b815",
   "metadata": {},
   "outputs": [],
   "source": [
    "with open('./selecetd_featuers_names.pkl', 'wb') as f:\n",
    "    selected_features = {\"nonlin\": nonlinear_features_name, \"lin\": linear_features_name, \"nonsig\": nonsig_linear_features_name}\n",
    "    pickle.dump(selected_features, f)"
   ]
  },
  {
   "cell_type": "markdown",
   "id": "8f865ce3",
   "metadata": {},
   "source": [
    "#### Rewrite feature extraction function"
   ]
  },
  {
   "cell_type": "code",
   "execution_count": 179,
   "id": "6494bab3",
   "metadata": {},
   "outputs": [],
   "source": [
    "def get_features(log_pr:pd.DataFrame, volu:pd.DataFrame):\n",
    "    # Bollinger Bands\n",
    "    upbb, downbb = BollingerBands(log_pr, 10)\n",
    "    upbb.columns = ['upbb%d'%i for i in range(10)]\n",
    "    downbb.columns = ['downbb%d'%i for i in range(10)]\n",
    "\n",
    "    # high low indicators\n",
    "    high, low = high_low(log_pr)\n",
    "    high.columns = ['high%d'%i for i in range(10)]\n",
    "    low.columns = ['low%d'%i for i in range(10)]\n",
    "\n",
    "    # price exp moving average\n",
    "    pr_ema =[]\n",
    "    for window in [1, 10, 30, 40, 60, 120, 1440 - 60]:\n",
    "        pr_ema.append(exp_moving_avg(log_pr, window))\n",
    "        pr_ema[-1].columns = ['prema%d%d'%(window, i) for i in range(10)]\n",
    "\n",
    "    # price moving average\n",
    "    pr_ma =[]\n",
    "    for window in [1, 10, 30, 40, 60, 120, 1440 - 60]:\n",
    "        pr_ma.append(moving_average(log_pr, window))\n",
    "        pr_ma[-1].columns = ['prma%d%d'%(window, i) for i in range(10)]\n",
    "\n",
    "    # volume exp moving average\n",
    "    v_ema = []\n",
    "    for window in [10, 30, 40, 60, 120, 1440 - 60]:\n",
    "        v_ema.append(exp_moving_avg(volu, window))\n",
    "        v_ema[-1].columns = ['vema%d%d'%(window, i) for i in range(10)]\n",
    "    \n",
    "    # volume moving average\n",
    "    v_ma = []\n",
    "    for window in [10, 30, 40, 60, 120, 1440 - 60]:\n",
    "        v_ma.append(moving_average(volu, window))\n",
    "        v_ma[-1].columns = ['vma%d%d'%(window, i) for i in range(10)]\n",
    "\n",
    "    # log volumes\n",
    "    log_volu = np.log(volu['volu_2'] + 1)\n",
    "    log_volu = pd.DataFrame(log_volu)\n",
    "    log_volu.columns = ['lgv2']\n",
    "\n",
    "    # rsi\n",
    "    rsi = RSI(log_pr[['log_pr_%d'%i for i in [3,5,6,7,8,9]]], 14)\n",
    "    rsi.columns = ['rsi%d'%i for i in [3,5,6,7,8,9]]\n",
    "   \n",
    "    features = pd.concat([*pr_ma, *v_ma, \n",
    "                          *pr_ema, *v_ema, high, low,\n",
    "                          upbb, downbb, log_volu, rsi], axis=1)\n",
    "    return features"
   ]
  },
  {
   "cell_type": "code",
   "execution_count": 180,
   "id": "a8ede86e",
   "metadata": {},
   "outputs": [
    {
     "data": {
      "text/plain": [
       "(185472, 307)"
      ]
     },
     "execution_count": 180,
     "metadata": {},
     "output_type": "execute_result"
    }
   ],
   "source": [
    "features_tr_new = get_features(log_pr_tr, volu_tr)\n",
    "features_tr_new.shape"
   ]
  },
  {
   "cell_type": "code",
   "execution_count": 181,
   "id": "3eeeddb8",
   "metadata": {},
   "outputs": [
    {
     "data": {
      "text/plain": [
       "(307,)"
      ]
     },
     "execution_count": 181,
     "metadata": {},
     "output_type": "execute_result"
    }
   ],
   "source": [
    "features_tr_new.columns.shape"
   ]
  },
  {
   "cell_type": "markdown",
   "id": "91f159f6",
   "metadata": {},
   "source": [
    "### Linear Regression"
   ]
  },
  {
   "cell_type": "code",
   "execution_count": 190,
   "id": "f3e66946",
   "metadata": {},
   "outputs": [
    {
     "name": "stdout",
     "output_type": "stream",
     "text": [
      "(191,)\n",
      "(18406, 3, 191)\n"
     ]
    },
    {
     "data": {
      "text/plain": [
       "0.9955548921487966"
      ]
     },
     "execution_count": 190,
     "metadata": {},
     "output_type": "execute_result"
    }
   ],
   "source": [
    "from sklearn.linear_model import LinearRegression\n",
    "for name in ['log_pr_%d'%i for i in range(10)]:\n",
    "    # features_tr_new = features_tr_new.drop(name, axis=1)\n",
    "    linear_features_name = np.delete(linear_features_name, np.where(linear_features_name==name)[0])\n",
    "print(linear_features_name.shape)\n",
    "# for name in ['volu_%d'%i for i in range(10)]:\n",
    "    # features_tr_new = features_tr_new.drop(name, axis=1)\n",
    "    # linear_features_name = np.delete(linear_features_name, np.where(linear_features_name==name)[0])\n",
    "\n",
    "X, y = formulize_data(features_tr_new[linear_features_name].dropna(), log_pr_tr.loc[features_tr_new[linear_features_name].dropna().index], window_size=3)\n",
    "print(X.shape)\n",
    "N = len(X)\n",
    "reg = LinearRegression().fit(X.reshape(N, -1)[N//2:], y.squeeze()[N//2:])\n",
    "reg.score(X.reshape(N, -1)[N//2:], y.squeeze()[N//2:])"
   ]
  },
  {
   "cell_type": "code",
   "execution_count": 191,
   "id": "3959c113",
   "metadata": {},
   "outputs": [
    {
     "name": "stderr",
     "output_type": "stream",
     "text": [
      "100%|██████████| 7805/7805 [04:13<00:00, 30.78it/s]"
     ]
    },
    {
     "name": "stdout",
     "output_type": "stream",
     "text": [
      "Total time used: 253.598s\n",
      "Pairwise correlation:\n",
      "\tasset 0 = -0.02643\n",
      "\tasset 1 = 0.00091\n",
      "\tasset 2 = -0.02805\n",
      "\tasset 3 = -0.00144\n",
      "\tasset 4 = 0.03917\n",
      "\tasset 5 = -0.02209\n",
      "\tasset 6 = -0.02543\n",
      "\tasset 7 = -0.02036\n",
      "\tasset 8 = 0.03133\n",
      "\tasset 9 = 0.02825\n",
      "\tmean correlation = -0.00241\n",
      "Overall correlation: 0.00039\n",
      "===============================\n",
      "Fail to outperform Ziwei's method, whose pairwise average\n",
      "and overall correlations are (0.02840, 0.01536)\n",
      "===============================\n"
     ]
    },
    {
     "name": "stderr",
     "output_type": "stream",
     "text": [
      "\n"
     ]
    },
    {
     "data": {
      "text/plain": [
       "(253.59802889823914,\n",
       " 0   -0.026430\n",
       " 1    0.000910\n",
       " 2   -0.028048\n",
       " 3   -0.001436\n",
       " 4    0.039167\n",
       " 5   -0.022092\n",
       " 6   -0.025429\n",
       " 7   -0.020360\n",
       " 8    0.031328\n",
       " 9    0.028246\n",
       " dtype: float64,\n",
       " 0.0003933611327430941)"
      ]
     },
     "execution_count": 191,
     "metadata": {},
     "output_type": "execute_result"
    }
   ],
   "source": [
    "def get_r_hat(A, B):\n",
    "    f = get_features(A, B)[linear_features_name]\n",
    "    # print(f.shape)\n",
    "    X, _ = formulize_data(f.dropna(), A.loc[f.dropna().index], window_size=3)\n",
    "    # print(X.shape)\n",
    "    pred = reg.predict(X[-1].reshape(1,-1))\n",
    "    return pred - A.values[-1]\n",
    "\n",
    "import critic \n",
    "cr = critic.Critic()\n",
    "cr.submit(get_r_hat, log_pr_tst, volu_tst)"
   ]
  },
  {
   "cell_type": "markdown",
   "id": "7875dd09",
   "metadata": {},
   "source": [
    "Total time used: 258.373s\n",
    "Pairwise correlation:\n",
    "\tasset 0 = -0.00861\n",
    "\tasset 1 = 0.01755\n",
    "\tasset 2 = 0.03186\n",
    "\tasset 3 = 0.01505\n",
    "\tasset 4 = -0.02840\n",
    "\tasset 5 = -0.01365\n",
    "\tasset 6 = 0.00502\n",
    "\tasset 7 = -0.01361\n",
    "\tasset 8 = 0.06049\n",
    "\tasset 9 = 0.04462\n",
    "\tmean correlation = 0.01103\n",
    "Overall correlation: 0.01162\n",
    "===============================\n",
    "Fail to outperform Ziwei's method, whose pairwise average\n",
    "and overall correlations are (0.02840, 0.01536)\n",
    "==============================="
   ]
  },
  {
   "cell_type": "code",
   "execution_count": 102,
   "id": "5cc42237",
   "metadata": {},
   "outputs": [
    {
     "name": "stderr",
     "output_type": "stream",
     "text": [
      "100%|██████████| 7805/7805 [04:20<00:00, 30.01it/s]"
     ]
    },
    {
     "name": "stdout",
     "output_type": "stream",
     "text": [
      "Total time used: 260.099s\n",
      "Pairwise correlation:\n",
      "\tasset 0 = -0.03011\n",
      "\tasset 1 = 0.01958\n",
      "\tasset 2 = -0.04135\n",
      "\tasset 3 = -0.00115\n",
      "\tasset 4 = -0.05459\n",
      "\tasset 5 = -0.00020\n",
      "\tasset 6 = 0.03621\n",
      "\tasset 7 = 0.02085\n",
      "\tasset 8 = 0.05259\n",
      "\tasset 9 = 0.04693\n",
      "\tmean correlation = 0.00487\n",
      "Overall correlation: -0.00318\n",
      "===============================\n",
      "Fail to outperform Ziwei's method, whose pairwise average\n",
      "and overall correlations are (0.02840, 0.01536)\n",
      "===============================\n"
     ]
    },
    {
     "name": "stderr",
     "output_type": "stream",
     "text": [
      "\n"
     ]
    },
    {
     "data": {
      "text/plain": [
       "(260.0986053943634,\n",
       " 0   -0.030105\n",
       " 1    0.019581\n",
       " 2   -0.041351\n",
       " 3   -0.001152\n",
       " 4   -0.054594\n",
       " 5   -0.000202\n",
       " 6    0.036207\n",
       " 7    0.020847\n",
       " 8    0.052585\n",
       " 9    0.046926\n",
       " dtype: float64,\n",
       " -0.0031800294816325386)"
      ]
     },
     "execution_count": 102,
     "metadata": {},
     "output_type": "execute_result"
    }
   ],
   "source": [
    "def get_r_hat(A, B):\n",
    "    f = get_features(A, B)\n",
    "    # print(f.shape)\n",
    "    X, _ = formulize_data(f.dropna(), A.loc[f.dropna().index], window_size=3)\n",
    "    # print(X.shape)\n",
    "    pred = reg.predict(X.reshape(len(X),-1)).mean()\n",
    "    return pred - A.values[-1]\n",
    "\n",
    "import critic \n",
    "cr = critic.Critic()\n",
    "cr.submit(get_r_hat, log_pr_tst, volu_tst)"
   ]
  },
  {
   "cell_type": "code",
   "execution_count": 108,
   "id": "7b61ee64",
   "metadata": {},
   "outputs": [
    {
     "name": "stdout",
     "output_type": "stream",
     "text": [
      "0, 1: 0.8540; 0, 2: 0.8345; 0, 3: 0.4903; 0, 4: 0.8406; 0, 5: 0.1274; 0, 6: 0.0000; 0, 7: 0.8467; 0, 8: 0.1355; 0, 9: 0.7250; \n",
      "1, 2: 0.9784; 1, 3: 0.6090; 1, 4: 0.9855; 1, 5: 0.1130; 1, 6: 0.1187; 1, 7: 0.9927; 1, 8: 0.1200; 1, 9: 0.6536; \n",
      "2, 3: 0.6051; 2, 4: 0.9928; 2, 5: 0.1124; 2, 6: 0.1180; 2, 7: 0.9855; 2, 8: 0.1193; 2, 9: 0.6685; \n",
      "3, 4: 0.6090; 3, 5: 0.0000; 3, 6: 0.3220; 3, 7: 0.6129; 3, 8: 0.0000; 3, 9: 0.3858; \n",
      "4, 5: 0.1130; 4, 6: 0.1187; 4, 7: 0.9927; 4, 8: 0.1200; 4, 9: 0.6629; \n",
      "5, 6: 0.0200; 5, 7: 0.1136; 5, 8: 0.9508; 5, 9: 0.3688; \n",
      "6, 7: 0.1195; 6, 8: 0.0000; 6, 9: 0.0050; \n",
      "7, 8: 0.1207; 7, 9: 0.6573; \n",
      "8, 9: 0.3711; \n",
      "\n"
     ]
    }
   ],
   "source": [
    "for i in range(10):\n",
    "    for j in range(i+1, 10):\n",
    "        a = np.intersect1d(linear_features[i], linear_features[j])\n",
    "        b = np.union1d(linear_features[i], linear_features[j])\n",
    "        print('%d, %d: %.4f'%(i, j, len(a)/len(b)), end='; ')\n",
    "    print()"
   ]
  },
  {
   "cell_type": "code",
   "execution_count": null,
   "id": "a134325b",
   "metadata": {},
   "outputs": [],
   "source": [
    "(1,2,4,7), 0, 3, 5, 6, 8, 9"
   ]
  },
  {
   "cell_type": "code",
   "execution_count": 121,
   "id": "687a8a84",
   "metadata": {},
   "outputs": [],
   "source": [
    "X = {}\n",
    "for i in [0,3,5,6,8,9]:\n",
    "    X['%d'%i] = features_tr_new[features_tr.columns[linear_features[i]]]\n",
    "X['1247'] = features_tr_new[\n",
    "                np.union1d([],\n",
    "                    np.concatenate([features_tr.columns[linear_features[1]],\n",
    "                        features_tr.columns[linear_features[2]],\n",
    "                        features_tr.columns[linear_features[4]],\n",
    "                        features_tr.columns[linear_features[7]]])\n",
    "                )\n",
    "            ]"
   ]
  },
  {
   "cell_type": "code",
   "execution_count": 123,
   "id": "ec4c5a12",
   "metadata": {},
   "outputs": [
    {
     "name": "stdout",
     "output_type": "stream",
     "text": [
      "0.9988642356919979\n",
      "0.998711703970563\n",
      "0.9989116266461106\n",
      "0.9969895317332763\n",
      "0.9969737702539483\n",
      "0.9993887021365492\n",
      "0.9992633974788883\n"
     ]
    }
   ],
   "source": [
    "models = {}\n",
    "for i in [0,3,5,6,8,9]:\n",
    "    Xtr, ytr = formulize_data(X['%d'%i].dropna(), log_pr_tr.loc[X['%d'%i].dropna().index], 3)\n",
    "    models['%d'%i] = LinearRegression().fit(Xtr.reshape(N,-1), ytr[:,:,i])\n",
    "    print(models['%d'%i].score(Xtr.reshape(N,-1), ytr[:,:,i]))\n",
    "\n",
    "Xtr, ytr = formulize_data(X['1247'].dropna(), log_pr_tr.loc[X['1247'].dropna().index], 3)\n",
    "models['1247'] = LinearRegression().fit(Xtr.reshape(N,-1), ytr[:,:, [1,2,4,7]].squeeze())\n",
    "print(models['1247'].score(Xtr.reshape(N,-1), ytr[:,:, [1,2,4,7]].squeeze()))"
   ]
  },
  {
   "cell_type": "code",
   "execution_count": 131,
   "id": "809a5d8c",
   "metadata": {},
   "outputs": [
    {
     "name": "stderr",
     "output_type": "stream",
     "text": [
      "100%|██████████| 7805/7805 [04:47<00:00, 27.11it/s]"
     ]
    },
    {
     "name": "stdout",
     "output_type": "stream",
     "text": [
      "Total time used: 287.924s\n",
      "Pairwise correlation:\n",
      "\tasset 0 = 0.01187\n",
      "\tasset 1 = 0.02832\n",
      "\tasset 2 = -0.01719\n",
      "\tasset 3 = 0.02702\n",
      "\tasset 4 = -0.03086\n",
      "\tasset 5 = -0.00439\n",
      "\tasset 6 = -0.00226\n",
      "\tasset 7 = 0.03311\n",
      "\tasset 8 = 0.08610\n",
      "\tasset 9 = -0.02633\n",
      "\tmean correlation = 0.01054\n",
      "Overall correlation: 0.00190\n",
      "===============================\n",
      "Fail to outperform Ziwei's method, whose pairwise average\n",
      "and overall correlations are (0.02840, 0.01536)\n",
      "===============================\n"
     ]
    },
    {
     "name": "stderr",
     "output_type": "stream",
     "text": [
      "\n"
     ]
    },
    {
     "data": {
      "text/plain": [
       "(287.923663854599,\n",
       " 0    0.011871\n",
       " 1    0.028321\n",
       " 2   -0.017190\n",
       " 3    0.027022\n",
       " 4   -0.030864\n",
       " 5   -0.004388\n",
       " 6   -0.002258\n",
       " 7    0.033114\n",
       " 8    0.086096\n",
       " 9   -0.026333\n",
       " dtype: float64,\n",
       " 0.0019030997814779857)"
      ]
     },
     "execution_count": 131,
     "metadata": {},
     "output_type": "execute_result"
    }
   ],
   "source": [
    "def get_r_hat(A, B):\n",
    "    features_tr_new = get_features(A, B)\n",
    "    # print(f.shape)\n",
    "    pred = np.zeros(10)\n",
    "    X = {}\n",
    "    for i in [0,3,5,6,8,9]:\n",
    "        Xtr = features_tr_new[features_tr.columns[linear_features[i]]].values[-3:]\n",
    "        pred[i] = models['%d'%i].predict(Xtr.reshape(1,-1))\n",
    "\n",
    "    Xtr = features_tr_new[\n",
    "                    np.union1d([],\n",
    "                        np.concatenate([features_tr.columns[linear_features[1]],\n",
    "                            features_tr.columns[linear_features[2]],\n",
    "                            features_tr.columns[linear_features[4]],\n",
    "                            features_tr.columns[linear_features[7]]])\n",
    "                    )\n",
    "                ].values[-3:]\n",
    "    pred[[1,2,4,7]] = models['1247'].predict(Xtr.reshape(1,-1))\n",
    "\n",
    "    return pred - A.values[-1]\n",
    "\n",
    "import critic \n",
    "cr = critic.Critic()\n",
    "cr.submit(get_r_hat, log_pr_tst, volu_tst)"
   ]
  },
  {
   "cell_type": "code",
   "execution_count": 138,
   "id": "48587160",
   "metadata": {},
   "outputs": [
    {
     "data": {
      "text/plain": [
       "array([9.06726545e+14, 1.02180800e+14, 4.51339140e+13, 3.41720200e+13,\n",
       "       1.89815431e+13, 1.63715091e+13, 1.13642817e+13, 7.46451932e+12,\n",
       "       5.42882605e+12, 4.22126186e+12, 3.31065648e+12, 2.56829910e+12,\n",
       "       2.33181029e+12, 2.02342993e+12, 1.91278754e+12, 1.60096315e+12,\n",
       "       1.24399059e+12, 1.12374453e+12, 9.87104002e+11, 8.14410218e+11,\n",
       "       6.76718437e+11, 5.53467665e+11, 3.94622577e+11, 3.62120769e+11,\n",
       "       3.32416253e+11, 3.07339776e+11, 2.43945870e+11, 2.26553386e+11,\n",
       "       2.06957155e+11, 1.61014820e+11, 1.52393483e+11, 1.34079041e+11,\n",
       "       1.25317215e+11, 1.11744850e+11, 1.07693721e+11, 1.01965835e+11,\n",
       "       7.93070965e+10, 7.39840280e+10, 6.36544037e+10, 5.99292318e+10,\n",
       "       5.85220026e+10, 4.71637382e+10, 4.27089847e+10, 3.71181953e+10,\n",
       "       3.54575357e+10, 3.19856145e+10, 2.70406636e+10, 2.65227320e+10,\n",
       "       2.50154374e+10, 2.24553672e+10, 2.09505118e+10, 1.59031329e+10,\n",
       "       1.49945582e+10, 1.42952736e+10, 1.40530262e+10, 1.31710649e+10,\n",
       "       1.17229361e+10, 1.15231955e+10, 9.27180588e+09, 8.42210876e+09,\n",
       "       7.92787004e+09, 6.82716789e+09, 6.09152410e+09, 5.99901638e+09,\n",
       "       5.84704194e+09, 5.57941557e+09, 5.55807675e+09, 4.71433193e+09,\n",
       "       4.19815980e+09, 4.12020500e+09, 4.05040620e+09, 3.55252508e+09,\n",
       "       2.91637178e+09, 2.65898768e+09, 2.38603563e+09, 2.15766095e+09,\n",
       "       2.09258988e+09, 1.93197888e+09, 1.78023098e+09, 1.65152608e+09,\n",
       "       1.54943404e+09, 1.49353145e+09, 1.39690146e+09, 1.10356721e+09,\n",
       "       1.09411074e+09, 1.07186216e+09, 8.67323769e+08, 6.78492254e+08,\n",
       "       6.65157108e+08, 6.52483301e+08, 5.76132335e+08, 4.64730413e+08,\n",
       "       4.62088446e+08, 3.81670719e+08, 3.69020270e+08, 2.76449277e+08,\n",
       "       2.14629666e+08, 1.69749921e+08, 1.46101082e+08, 1.22394820e+08,\n",
       "       1.17064510e+08, 1.05122756e+08, 1.00017883e+08, 9.30302703e+07,\n",
       "       5.92684465e+07, 5.53514149e+07, 4.80146062e+07, 3.08610770e+07,\n",
       "       2.06557335e+07, 1.36308350e+07, 8.14446462e+06, 6.20742460e+06,\n",
       "       3.99764323e+06, 2.45929316e+06, 1.57327819e+06, 1.40615289e+06,\n",
       "       8.02598017e+05, 4.79125801e+05, 2.27124114e+05, 4.71158293e+04,\n",
       "       1.80259516e+03, 1.08465751e+03, 8.23428479e+02, 7.28235366e+02,\n",
       "       3.40571263e+02, 2.33701657e+02, 6.51678033e-01, 3.16031409e-01,\n",
       "       1.31813050e-01, 3.86531336e-02, 1.75808562e-02, 1.42739160e-02,\n",
       "       6.64565557e-03, 5.41060477e-03, 4.31875493e-03, 2.64107875e-03,\n",
       "       2.08991104e-03, 7.48216951e-04, 2.87359149e-04, 2.22588984e-04,\n",
       "       2.04271035e-04, 1.79479503e-04, 1.34719011e-04, 1.25794414e-04,\n",
       "       1.21114500e-04, 1.08285969e-04, 7.62845949e-05, 5.52727777e-05,\n",
       "       4.82421313e-05, 4.64765310e-05, 3.89898391e-05, 3.40222080e-05,\n",
       "       3.28657917e-05, 2.62097563e-05, 2.48920249e-05, 2.24738653e-05,\n",
       "       2.03942271e-05, 1.86508174e-05, 1.71321672e-05, 1.36771528e-05,\n",
       "       1.33269839e-05, 1.14218696e-05, 1.04964989e-05, 1.04244169e-05,\n",
       "       9.79610755e-06, 9.41278451e-06, 8.67903261e-06, 7.69801669e-06,\n",
       "       7.42816818e-06, 7.12149974e-06, 6.96863802e-06, 6.58655296e-06,\n",
       "       6.38479048e-06, 6.06741509e-06, 5.61137749e-06, 5.40618802e-06,\n",
       "       5.35309451e-06, 5.07722884e-06, 4.50898315e-06, 4.31894401e-06,\n",
       "       4.27959886e-06, 4.13495454e-06, 4.03763107e-06, 3.98928152e-06,\n",
       "       3.85506004e-06, 3.63869829e-06, 3.53623811e-06, 3.41048446e-06,\n",
       "       3.30870701e-06, 3.18327036e-06, 2.93702066e-06, 2.75293202e-06,\n",
       "       2.61854815e-06, 2.43491929e-06, 2.32892686e-06, 2.14260357e-06,\n",
       "       2.07962639e-06, 1.91319230e-06, 1.88742729e-06, 1.73336643e-06,\n",
       "       1.65932874e-06, 1.59709792e-06, 1.53027144e-06, 1.49635768e-06,\n",
       "       1.43009599e-06, 1.36508722e-06, 1.33344007e-06, 1.27757721e-06,\n",
       "       1.20516860e-06, 1.15857041e-06, 1.13592493e-06, 1.04358693e-06,\n",
       "       1.01974232e-06, 9.87543783e-07, 9.62927708e-07, 9.15541917e-07,\n",
       "       8.50522549e-07, 8.22995341e-07, 7.98589980e-07, 6.87045908e-07,\n",
       "       6.44681993e-07, 6.31435276e-07, 5.94770268e-07, 5.34058032e-07,\n",
       "       5.06382878e-07, 4.06906424e-07, 3.71448123e-07, 3.26049313e-07,\n",
       "       2.92080665e-07, 2.55569095e-07, 2.39532684e-07, 2.15541643e-07,\n",
       "       2.04284426e-07, 1.97963617e-07, 1.73967988e-07, 1.51763610e-07,\n",
       "       1.31819466e-07, 1.00663217e-07, 8.95660703e-08, 8.62574092e-08,\n",
       "       7.39222811e-08, 6.19489238e-08, 4.96374365e-08, 4.76477689e-08,\n",
       "       4.21810960e-08, 3.92873823e-08, 3.64730604e-08, 3.47639575e-08,\n",
       "       3.27844423e-08, 3.17029726e-08, 2.59801072e-08, 2.24090943e-08,\n",
       "       1.94843042e-08, 1.90740218e-08, 1.73393605e-08, 1.44256835e-08,\n",
       "       1.42153309e-08, 1.36905853e-08, 1.22554716e-08, 1.15803720e-08,\n",
       "       1.11061352e-08, 9.85629721e-09, 9.39337310e-09, 8.19321170e-09,\n",
       "       7.19560340e-09, 6.06956619e-09, 4.99011459e-09, 4.57479295e-09,\n",
       "       4.20613922e-09, 3.77165872e-09, 3.28907246e-09, 2.67494634e-09,\n",
       "       2.08315906e-09, 1.99307728e-09, 1.77273460e-09, 1.75285030e-09,\n",
       "       5.78537831e-10, 1.44504490e-10, 6.39092556e-11, 5.85618534e-11,\n",
       "       4.68662038e-11, 3.75879994e-11, 3.29411976e-11, 2.43925865e-11,\n",
       "       2.40032064e-11, 2.11863606e-11, 6.81753238e-12, 5.58064316e-18,\n",
       "       4.83830380e-18, 4.83830380e-18, 4.83830380e-18, 4.83830380e-18,\n",
       "       4.83830380e-18, 4.83830380e-18, 4.83830380e-18, 4.83830380e-18,\n",
       "       4.83830380e-18, 4.83830380e-18, 4.83830380e-18, 4.83830380e-18,\n",
       "       4.83830380e-18, 4.83830380e-18, 4.83830380e-18, 4.83830380e-18,\n",
       "       4.83830380e-18, 4.83830380e-18, 4.83830380e-18, 4.83830380e-18,\n",
       "       4.83830380e-18, 4.83830380e-18, 4.83830380e-18, 4.83830380e-18,\n",
       "       4.83830380e-18, 4.83830380e-18, 4.83830380e-18, 1.93743108e-18,\n",
       "       1.84354497e-19])"
      ]
     },
     "execution_count": 138,
     "metadata": {},
     "output_type": "execute_result"
    }
   ],
   "source": [
    "from sklearn.decomposition import PCA\n",
    "\n",
    "features = features_tr_new.dropna()\n",
    "\n",
    "pca = PCA()\n",
    "components = pca.fit_transform(features)"
   ]
  },
  {
   "cell_type": "code",
   "execution_count": 142,
   "id": "ca5dc0c1",
   "metadata": {},
   "outputs": [
    {
     "data": {
      "text/plain": [
       "array([ 0,  1,  2,  3,  4,  5,  6,  7,  8,  9, 10, 11, 12, 13, 14, 15, 16,\n",
       "       17, 18, 19, 20, 21, 22, 23, 24, 25, 26, 27, 28, 29, 30, 31, 32, 33,\n",
       "       34, 35, 36, 37, 38, 39, 40, 41, 42, 43, 44, 45, 46, 47, 48, 49, 50,\n",
       "       51, 52, 53, 54, 55, 56], dtype=int64)"
      ]
     },
     "execution_count": 142,
     "metadata": {},
     "output_type": "execute_result"
    }
   ],
   "source": [
    "np.where(pca.explained_variance_ratio_.cumsum() < 0.9999)[0]"
   ]
  },
  {
   "cell_type": "code",
   "execution_count": 202,
   "id": "c10f596f",
   "metadata": {},
   "outputs": [
    {
     "data": {
      "text/html": [
       "<div>\n",
       "<style scoped>\n",
       "    .dataframe tbody tr th:only-of-type {\n",
       "        vertical-align: middle;\n",
       "    }\n",
       "\n",
       "    .dataframe tbody tr th {\n",
       "        vertical-align: top;\n",
       "    }\n",
       "\n",
       "    .dataframe thead th {\n",
       "        text-align: right;\n",
       "    }\n",
       "</style>\n",
       "<table border=\"1\" class=\"dataframe\">\n",
       "  <thead>\n",
       "    <tr style=\"text-align: right;\">\n",
       "      <th></th>\n",
       "      <th>prma100</th>\n",
       "      <th>prma101</th>\n",
       "      <th>prma102</th>\n",
       "      <th>prma103</th>\n",
       "      <th>prma104</th>\n",
       "      <th>prma105</th>\n",
       "      <th>prma106</th>\n",
       "      <th>prma107</th>\n",
       "      <th>prma108</th>\n",
       "      <th>prma109</th>\n",
       "      <th>prma300</th>\n",
       "      <th>prma301</th>\n",
       "      <th>prma302</th>\n",
       "      <th>prma303</th>\n",
       "      <th>prma304</th>\n",
       "      <th>prma305</th>\n",
       "      <th>prma306</th>\n",
       "      <th>prma307</th>\n",
       "      <th>prma308</th>\n",
       "      <th>prma309</th>\n",
       "    </tr>\n",
       "    <tr>\n",
       "      <th>timestamp</th>\n",
       "      <th></th>\n",
       "      <th></th>\n",
       "      <th></th>\n",
       "      <th></th>\n",
       "      <th></th>\n",
       "      <th></th>\n",
       "      <th></th>\n",
       "      <th></th>\n",
       "      <th></th>\n",
       "      <th></th>\n",
       "      <th></th>\n",
       "      <th></th>\n",
       "      <th></th>\n",
       "      <th></th>\n",
       "      <th></th>\n",
       "      <th></th>\n",
       "      <th></th>\n",
       "      <th></th>\n",
       "      <th></th>\n",
       "      <th></th>\n",
       "    </tr>\n",
       "  </thead>\n",
       "  <tbody>\n",
       "    <tr>\n",
       "      <th>2021-07-01 00:29:00</th>\n",
       "      <td>-0.000602</td>\n",
       "      <td>0.002967</td>\n",
       "      <td>0.001147</td>\n",
       "      <td>0.000601</td>\n",
       "      <td>-0.004269</td>\n",
       "      <td>0.002300</td>\n",
       "      <td>-0.005965</td>\n",
       "      <td>-0.002026</td>\n",
       "      <td>0.002447</td>\n",
       "      <td>-0.000157</td>\n",
       "      <td>-0.000630</td>\n",
       "      <td>0.001905</td>\n",
       "      <td>0.001071</td>\n",
       "      <td>0.000138</td>\n",
       "      <td>-0.004880</td>\n",
       "      <td>0.001506</td>\n",
       "      <td>-0.004987</td>\n",
       "      <td>-0.000422</td>\n",
       "      <td>0.002465</td>\n",
       "      <td>-3.215239e-05</td>\n",
       "    </tr>\n",
       "    <tr>\n",
       "      <th>2021-07-01 00:30:00</th>\n",
       "      <td>-0.000691</td>\n",
       "      <td>0.002888</td>\n",
       "      <td>0.001268</td>\n",
       "      <td>0.000758</td>\n",
       "      <td>-0.004405</td>\n",
       "      <td>0.002272</td>\n",
       "      <td>-0.006094</td>\n",
       "      <td>-0.002188</td>\n",
       "      <td>0.002475</td>\n",
       "      <td>-0.000158</td>\n",
       "      <td>-0.000686</td>\n",
       "      <td>0.002101</td>\n",
       "      <td>0.001220</td>\n",
       "      <td>0.000225</td>\n",
       "      <td>-0.005144</td>\n",
       "      <td>0.001570</td>\n",
       "      <td>-0.005167</td>\n",
       "      <td>-0.000516</td>\n",
       "      <td>0.002590</td>\n",
       "      <td>-7.159087e-06</td>\n",
       "    </tr>\n",
       "    <tr>\n",
       "      <th>2021-07-01 00:31:00</th>\n",
       "      <td>-0.000923</td>\n",
       "      <td>0.002824</td>\n",
       "      <td>0.001392</td>\n",
       "      <td>0.000981</td>\n",
       "      <td>-0.004549</td>\n",
       "      <td>0.002177</td>\n",
       "      <td>-0.006166</td>\n",
       "      <td>-0.002158</td>\n",
       "      <td>0.002487</td>\n",
       "      <td>-0.000188</td>\n",
       "      <td>-0.000762</td>\n",
       "      <td>0.002230</td>\n",
       "      <td>0.001282</td>\n",
       "      <td>0.000311</td>\n",
       "      <td>-0.005339</td>\n",
       "      <td>0.001629</td>\n",
       "      <td>-0.005284</td>\n",
       "      <td>-0.000610</td>\n",
       "      <td>0.002676</td>\n",
       "      <td>2.308114e-07</td>\n",
       "    </tr>\n",
       "    <tr>\n",
       "      <th>2021-07-01 00:32:00</th>\n",
       "      <td>-0.001233</td>\n",
       "      <td>0.002791</td>\n",
       "      <td>0.001561</td>\n",
       "      <td>0.001383</td>\n",
       "      <td>-0.004577</td>\n",
       "      <td>0.002125</td>\n",
       "      <td>-0.006159</td>\n",
       "      <td>-0.002123</td>\n",
       "      <td>0.002481</td>\n",
       "      <td>-0.000195</td>\n",
       "      <td>-0.000897</td>\n",
       "      <td>0.002281</td>\n",
       "      <td>0.001329</td>\n",
       "      <td>0.000459</td>\n",
       "      <td>-0.005396</td>\n",
       "      <td>0.001674</td>\n",
       "      <td>-0.005298</td>\n",
       "      <td>-0.000681</td>\n",
       "      <td>0.002664</td>\n",
       "      <td>-1.380711e-05</td>\n",
       "    </tr>\n",
       "    <tr>\n",
       "      <th>2021-07-01 00:33:00</th>\n",
       "      <td>-0.001760</td>\n",
       "      <td>0.002805</td>\n",
       "      <td>0.001817</td>\n",
       "      <td>0.001801</td>\n",
       "      <td>-0.004689</td>\n",
       "      <td>0.002085</td>\n",
       "      <td>-0.006188</td>\n",
       "      <td>-0.002179</td>\n",
       "      <td>0.002487</td>\n",
       "      <td>-0.000221</td>\n",
       "      <td>-0.001052</td>\n",
       "      <td>0.002339</td>\n",
       "      <td>0.001389</td>\n",
       "      <td>0.000629</td>\n",
       "      <td>-0.005477</td>\n",
       "      <td>0.001726</td>\n",
       "      <td>-0.005402</td>\n",
       "      <td>-0.000779</td>\n",
       "      <td>0.002640</td>\n",
       "      <td>-3.018669e-05</td>\n",
       "    </tr>\n",
       "    <tr>\n",
       "      <th>...</th>\n",
       "      <td>...</td>\n",
       "      <td>...</td>\n",
       "      <td>...</td>\n",
       "      <td>...</td>\n",
       "      <td>...</td>\n",
       "      <td>...</td>\n",
       "      <td>...</td>\n",
       "      <td>...</td>\n",
       "      <td>...</td>\n",
       "      <td>...</td>\n",
       "      <td>...</td>\n",
       "      <td>...</td>\n",
       "      <td>...</td>\n",
       "      <td>...</td>\n",
       "      <td>...</td>\n",
       "      <td>...</td>\n",
       "      <td>...</td>\n",
       "      <td>...</td>\n",
       "      <td>...</td>\n",
       "      <td>...</td>\n",
       "    </tr>\n",
       "    <tr>\n",
       "      <th>2021-11-06 18:37:00</th>\n",
       "      <td>-0.309411</td>\n",
       "      <td>-0.709375</td>\n",
       "      <td>1.229860</td>\n",
       "      <td>0.380602</td>\n",
       "      <td>-0.368945</td>\n",
       "      <td>-0.220803</td>\n",
       "      <td>-0.119173</td>\n",
       "      <td>-0.220078</td>\n",
       "      <td>0.099622</td>\n",
       "      <td>-0.065734</td>\n",
       "      <td>-0.309082</td>\n",
       "      <td>-0.709848</td>\n",
       "      <td>1.230401</td>\n",
       "      <td>0.381596</td>\n",
       "      <td>-0.368693</td>\n",
       "      <td>-0.221218</td>\n",
       "      <td>-0.118665</td>\n",
       "      <td>-0.220254</td>\n",
       "      <td>0.098666</td>\n",
       "      <td>-6.603152e-02</td>\n",
       "    </tr>\n",
       "    <tr>\n",
       "      <th>2021-11-06 18:38:00</th>\n",
       "      <td>-0.309406</td>\n",
       "      <td>-0.709373</td>\n",
       "      <td>1.230079</td>\n",
       "      <td>0.380720</td>\n",
       "      <td>-0.368947</td>\n",
       "      <td>-0.220699</td>\n",
       "      <td>-0.119129</td>\n",
       "      <td>-0.219901</td>\n",
       "      <td>0.099753</td>\n",
       "      <td>-0.065589</td>\n",
       "      <td>-0.309089</td>\n",
       "      <td>-0.709810</td>\n",
       "      <td>1.230400</td>\n",
       "      <td>0.381541</td>\n",
       "      <td>-0.368744</td>\n",
       "      <td>-0.221180</td>\n",
       "      <td>-0.118696</td>\n",
       "      <td>-0.220186</td>\n",
       "      <td>0.098743</td>\n",
       "      <td>-6.599089e-02</td>\n",
       "    </tr>\n",
       "    <tr>\n",
       "      <th>2021-11-06 18:39:00</th>\n",
       "      <td>-0.309477</td>\n",
       "      <td>-0.709343</td>\n",
       "      <td>1.230210</td>\n",
       "      <td>0.380848</td>\n",
       "      <td>-0.368988</td>\n",
       "      <td>-0.220640</td>\n",
       "      <td>-0.119048</td>\n",
       "      <td>-0.219571</td>\n",
       "      <td>0.099831</td>\n",
       "      <td>-0.065478</td>\n",
       "      <td>-0.309089</td>\n",
       "      <td>-0.709775</td>\n",
       "      <td>1.230384</td>\n",
       "      <td>0.381505</td>\n",
       "      <td>-0.368806</td>\n",
       "      <td>-0.221134</td>\n",
       "      <td>-0.118718</td>\n",
       "      <td>-0.220080</td>\n",
       "      <td>0.098803</td>\n",
       "      <td>-6.595308e-02</td>\n",
       "    </tr>\n",
       "    <tr>\n",
       "      <th>2021-11-06 18:40:00</th>\n",
       "      <td>-0.309470</td>\n",
       "      <td>-0.709336</td>\n",
       "      <td>1.230382</td>\n",
       "      <td>0.380943</td>\n",
       "      <td>-0.369079</td>\n",
       "      <td>-0.220531</td>\n",
       "      <td>-0.118987</td>\n",
       "      <td>-0.219271</td>\n",
       "      <td>0.099904</td>\n",
       "      <td>-0.065363</td>\n",
       "      <td>-0.309089</td>\n",
       "      <td>-0.709731</td>\n",
       "      <td>1.230339</td>\n",
       "      <td>0.381450</td>\n",
       "      <td>-0.368857</td>\n",
       "      <td>-0.221072</td>\n",
       "      <td>-0.118755</td>\n",
       "      <td>-0.219964</td>\n",
       "      <td>0.098874</td>\n",
       "      <td>-6.590293e-02</td>\n",
       "    </tr>\n",
       "    <tr>\n",
       "      <th>2021-11-06 18:41:00</th>\n",
       "      <td>-0.309302</td>\n",
       "      <td>-0.709427</td>\n",
       "      <td>1.230536</td>\n",
       "      <td>0.380986</td>\n",
       "      <td>-0.369160</td>\n",
       "      <td>-0.220509</td>\n",
       "      <td>-0.118900</td>\n",
       "      <td>-0.218891</td>\n",
       "      <td>0.099875</td>\n",
       "      <td>-0.065265</td>\n",
       "      <td>-0.309061</td>\n",
       "      <td>-0.709734</td>\n",
       "      <td>1.230186</td>\n",
       "      <td>0.381409</td>\n",
       "      <td>-0.368900</td>\n",
       "      <td>-0.221042</td>\n",
       "      <td>-0.118762</td>\n",
       "      <td>-0.219837</td>\n",
       "      <td>0.098934</td>\n",
       "      <td>-6.585169e-02</td>\n",
       "    </tr>\n",
       "  </tbody>\n",
       "</table>\n",
       "<p>185413 rows × 20 columns</p>\n",
       "</div>"
      ],
      "text/plain": [
       "                      prma100   prma101   prma102   prma103   prma104  \\\n",
       "timestamp                                                               \n",
       "2021-07-01 00:29:00 -0.000602  0.002967  0.001147  0.000601 -0.004269   \n",
       "2021-07-01 00:30:00 -0.000691  0.002888  0.001268  0.000758 -0.004405   \n",
       "2021-07-01 00:31:00 -0.000923  0.002824  0.001392  0.000981 -0.004549   \n",
       "2021-07-01 00:32:00 -0.001233  0.002791  0.001561  0.001383 -0.004577   \n",
       "2021-07-01 00:33:00 -0.001760  0.002805  0.001817  0.001801 -0.004689   \n",
       "...                       ...       ...       ...       ...       ...   \n",
       "2021-11-06 18:37:00 -0.309411 -0.709375  1.229860  0.380602 -0.368945   \n",
       "2021-11-06 18:38:00 -0.309406 -0.709373  1.230079  0.380720 -0.368947   \n",
       "2021-11-06 18:39:00 -0.309477 -0.709343  1.230210  0.380848 -0.368988   \n",
       "2021-11-06 18:40:00 -0.309470 -0.709336  1.230382  0.380943 -0.369079   \n",
       "2021-11-06 18:41:00 -0.309302 -0.709427  1.230536  0.380986 -0.369160   \n",
       "\n",
       "                      prma105   prma106   prma107   prma108   prma109  \\\n",
       "timestamp                                                               \n",
       "2021-07-01 00:29:00  0.002300 -0.005965 -0.002026  0.002447 -0.000157   \n",
       "2021-07-01 00:30:00  0.002272 -0.006094 -0.002188  0.002475 -0.000158   \n",
       "2021-07-01 00:31:00  0.002177 -0.006166 -0.002158  0.002487 -0.000188   \n",
       "2021-07-01 00:32:00  0.002125 -0.006159 -0.002123  0.002481 -0.000195   \n",
       "2021-07-01 00:33:00  0.002085 -0.006188 -0.002179  0.002487 -0.000221   \n",
       "...                       ...       ...       ...       ...       ...   \n",
       "2021-11-06 18:37:00 -0.220803 -0.119173 -0.220078  0.099622 -0.065734   \n",
       "2021-11-06 18:38:00 -0.220699 -0.119129 -0.219901  0.099753 -0.065589   \n",
       "2021-11-06 18:39:00 -0.220640 -0.119048 -0.219571  0.099831 -0.065478   \n",
       "2021-11-06 18:40:00 -0.220531 -0.118987 -0.219271  0.099904 -0.065363   \n",
       "2021-11-06 18:41:00 -0.220509 -0.118900 -0.218891  0.099875 -0.065265   \n",
       "\n",
       "                      prma300   prma301   prma302   prma303   prma304  \\\n",
       "timestamp                                                               \n",
       "2021-07-01 00:29:00 -0.000630  0.001905  0.001071  0.000138 -0.004880   \n",
       "2021-07-01 00:30:00 -0.000686  0.002101  0.001220  0.000225 -0.005144   \n",
       "2021-07-01 00:31:00 -0.000762  0.002230  0.001282  0.000311 -0.005339   \n",
       "2021-07-01 00:32:00 -0.000897  0.002281  0.001329  0.000459 -0.005396   \n",
       "2021-07-01 00:33:00 -0.001052  0.002339  0.001389  0.000629 -0.005477   \n",
       "...                       ...       ...       ...       ...       ...   \n",
       "2021-11-06 18:37:00 -0.309082 -0.709848  1.230401  0.381596 -0.368693   \n",
       "2021-11-06 18:38:00 -0.309089 -0.709810  1.230400  0.381541 -0.368744   \n",
       "2021-11-06 18:39:00 -0.309089 -0.709775  1.230384  0.381505 -0.368806   \n",
       "2021-11-06 18:40:00 -0.309089 -0.709731  1.230339  0.381450 -0.368857   \n",
       "2021-11-06 18:41:00 -0.309061 -0.709734  1.230186  0.381409 -0.368900   \n",
       "\n",
       "                      prma305   prma306   prma307   prma308       prma309  \n",
       "timestamp                                                                  \n",
       "2021-07-01 00:29:00  0.001506 -0.004987 -0.000422  0.002465 -3.215239e-05  \n",
       "2021-07-01 00:30:00  0.001570 -0.005167 -0.000516  0.002590 -7.159087e-06  \n",
       "2021-07-01 00:31:00  0.001629 -0.005284 -0.000610  0.002676  2.308114e-07  \n",
       "2021-07-01 00:32:00  0.001674 -0.005298 -0.000681  0.002664 -1.380711e-05  \n",
       "2021-07-01 00:33:00  0.001726 -0.005402 -0.000779  0.002640 -3.018669e-05  \n",
       "...                       ...       ...       ...       ...           ...  \n",
       "2021-11-06 18:37:00 -0.221218 -0.118665 -0.220254  0.098666 -6.603152e-02  \n",
       "2021-11-06 18:38:00 -0.221180 -0.118696 -0.220186  0.098743 -6.599089e-02  \n",
       "2021-11-06 18:39:00 -0.221134 -0.118718 -0.220080  0.098803 -6.595308e-02  \n",
       "2021-11-06 18:40:00 -0.221072 -0.118755 -0.219964  0.098874 -6.590293e-02  \n",
       "2021-11-06 18:41:00 -0.221042 -0.118762 -0.219837  0.098934 -6.585169e-02  \n",
       "\n",
       "[185413 rows x 20 columns]"
      ]
     },
     "execution_count": 202,
     "metadata": {},
     "output_type": "execute_result"
    }
   ],
   "source": [
    "X = features_tr_new[[\"prma%d%d\"%(i,j) for i in [10, 30] for j in range(10)]].dropna().iloc[:-30]\n",
    "X"
   ]
  },
  {
   "cell_type": "code",
   "execution_count": 203,
   "id": "c3c0c974",
   "metadata": {},
   "outputs": [
    {
     "data": {
      "text/html": [
       "<div>\n",
       "<style scoped>\n",
       "    .dataframe tbody tr th:only-of-type {\n",
       "        vertical-align: middle;\n",
       "    }\n",
       "\n",
       "    .dataframe tbody tr th {\n",
       "        vertical-align: top;\n",
       "    }\n",
       "\n",
       "    .dataframe thead th {\n",
       "        text-align: right;\n",
       "    }\n",
       "</style>\n",
       "<table border=\"1\" class=\"dataframe\">\n",
       "  <thead>\n",
       "    <tr style=\"text-align: right;\">\n",
       "      <th></th>\n",
       "      <th>log_pr_0</th>\n",
       "      <th>log_pr_1</th>\n",
       "      <th>log_pr_2</th>\n",
       "      <th>log_pr_3</th>\n",
       "      <th>log_pr_4</th>\n",
       "      <th>log_pr_5</th>\n",
       "      <th>log_pr_6</th>\n",
       "      <th>log_pr_7</th>\n",
       "      <th>log_pr_8</th>\n",
       "      <th>log_pr_9</th>\n",
       "    </tr>\n",
       "    <tr>\n",
       "      <th>timestamp</th>\n",
       "      <th></th>\n",
       "      <th></th>\n",
       "      <th></th>\n",
       "      <th></th>\n",
       "      <th></th>\n",
       "      <th></th>\n",
       "      <th></th>\n",
       "      <th></th>\n",
       "      <th></th>\n",
       "      <th></th>\n",
       "    </tr>\n",
       "  </thead>\n",
       "  <tbody>\n",
       "    <tr>\n",
       "      <th>2021-07-01 00:29:00</th>\n",
       "      <td>-0.009531</td>\n",
       "      <td>0.000080</td>\n",
       "      <td>0.004872</td>\n",
       "      <td>0.001754</td>\n",
       "      <td>-0.001679</td>\n",
       "      <td>0.002308</td>\n",
       "      <td>-0.005915</td>\n",
       "      <td>-0.000483</td>\n",
       "      <td>0.002788</td>\n",
       "      <td>0.003949</td>\n",
       "    </tr>\n",
       "    <tr>\n",
       "      <th>2021-07-01 00:30:00</th>\n",
       "      <td>-0.010765</td>\n",
       "      <td>0.001015</td>\n",
       "      <td>0.004830</td>\n",
       "      <td>0.001079</td>\n",
       "      <td>-0.001231</td>\n",
       "      <td>0.002444</td>\n",
       "      <td>-0.005569</td>\n",
       "      <td>-0.000354</td>\n",
       "      <td>0.002661</td>\n",
       "      <td>0.003648</td>\n",
       "    </tr>\n",
       "    <tr>\n",
       "      <th>2021-07-01 00:31:00</th>\n",
       "      <td>-0.009597</td>\n",
       "      <td>0.001311</td>\n",
       "      <td>0.004416</td>\n",
       "      <td>0.001300</td>\n",
       "      <td>-0.001727</td>\n",
       "      <td>0.002139</td>\n",
       "      <td>-0.005591</td>\n",
       "      <td>-0.000934</td>\n",
       "      <td>0.002016</td>\n",
       "      <td>0.003161</td>\n",
       "    </tr>\n",
       "    <tr>\n",
       "      <th>2021-07-01 00:32:00</th>\n",
       "      <td>-0.009994</td>\n",
       "      <td>-0.000104</td>\n",
       "      <td>0.005678</td>\n",
       "      <td>0.000674</td>\n",
       "      <td>-0.002066</td>\n",
       "      <td>0.002131</td>\n",
       "      <td>-0.005633</td>\n",
       "      <td>-0.001691</td>\n",
       "      <td>0.000854</td>\n",
       "      <td>0.002403</td>\n",
       "    </tr>\n",
       "    <tr>\n",
       "      <th>2021-07-01 00:33:00</th>\n",
       "      <td>-0.010669</td>\n",
       "      <td>-0.000924</td>\n",
       "      <td>0.006833</td>\n",
       "      <td>0.000172</td>\n",
       "      <td>-0.002008</td>\n",
       "      <td>0.002030</td>\n",
       "      <td>-0.004733</td>\n",
       "      <td>-0.001976</td>\n",
       "      <td>0.000409</td>\n",
       "      <td>0.002614</td>\n",
       "    </tr>\n",
       "    <tr>\n",
       "      <th>...</th>\n",
       "      <td>...</td>\n",
       "      <td>...</td>\n",
       "      <td>...</td>\n",
       "      <td>...</td>\n",
       "      <td>...</td>\n",
       "      <td>...</td>\n",
       "      <td>...</td>\n",
       "      <td>...</td>\n",
       "      <td>...</td>\n",
       "      <td>...</td>\n",
       "    </tr>\n",
       "    <tr>\n",
       "      <th>2021-11-06 18:37:00</th>\n",
       "      <td>-0.311879</td>\n",
       "      <td>-0.713263</td>\n",
       "      <td>1.231817</td>\n",
       "      <td>0.380252</td>\n",
       "      <td>-0.368900</td>\n",
       "      <td>-0.221951</td>\n",
       "      <td>-0.116951</td>\n",
       "      <td>-0.217529</td>\n",
       "      <td>0.099292</td>\n",
       "      <td>-0.065818</td>\n",
       "    </tr>\n",
       "    <tr>\n",
       "      <th>2021-11-06 18:38:00</th>\n",
       "      <td>-0.311817</td>\n",
       "      <td>-0.713298</td>\n",
       "      <td>1.231063</td>\n",
       "      <td>0.380303</td>\n",
       "      <td>-0.367879</td>\n",
       "      <td>-0.221343</td>\n",
       "      <td>-0.116840</td>\n",
       "      <td>-0.219413</td>\n",
       "      <td>0.099787</td>\n",
       "      <td>-0.065844</td>\n",
       "    </tr>\n",
       "    <tr>\n",
       "      <th>2021-11-06 18:39:00</th>\n",
       "      <td>-0.312098</td>\n",
       "      <td>-0.713280</td>\n",
       "      <td>1.230117</td>\n",
       "      <td>0.379512</td>\n",
       "      <td>-0.368103</td>\n",
       "      <td>-0.221024</td>\n",
       "      <td>-0.116074</td>\n",
       "      <td>-0.219266</td>\n",
       "      <td>0.100709</td>\n",
       "      <td>-0.065608</td>\n",
       "    </tr>\n",
       "    <tr>\n",
       "      <th>2021-11-06 18:40:00</th>\n",
       "      <td>-0.312339</td>\n",
       "      <td>-0.712533</td>\n",
       "      <td>1.229353</td>\n",
       "      <td>0.380235</td>\n",
       "      <td>-0.368684</td>\n",
       "      <td>-0.220570</td>\n",
       "      <td>-0.116050</td>\n",
       "      <td>-0.221033</td>\n",
       "      <td>0.100910</td>\n",
       "      <td>-0.065666</td>\n",
       "    </tr>\n",
       "    <tr>\n",
       "      <th>2021-11-06 18:41:00</th>\n",
       "      <td>-0.312399</td>\n",
       "      <td>-0.712926</td>\n",
       "      <td>1.230809</td>\n",
       "      <td>0.380299</td>\n",
       "      <td>-0.368836</td>\n",
       "      <td>-0.220758</td>\n",
       "      <td>-0.116377</td>\n",
       "      <td>-0.221310</td>\n",
       "      <td>0.101354</td>\n",
       "      <td>-0.065411</td>\n",
       "    </tr>\n",
       "  </tbody>\n",
       "</table>\n",
       "<p>185413 rows × 10 columns</p>\n",
       "</div>"
      ],
      "text/plain": [
       "                     log_pr_0  log_pr_1  log_pr_2  log_pr_3  log_pr_4  \\\n",
       "timestamp                                                               \n",
       "2021-07-01 00:29:00 -0.009531  0.000080  0.004872  0.001754 -0.001679   \n",
       "2021-07-01 00:30:00 -0.010765  0.001015  0.004830  0.001079 -0.001231   \n",
       "2021-07-01 00:31:00 -0.009597  0.001311  0.004416  0.001300 -0.001727   \n",
       "2021-07-01 00:32:00 -0.009994 -0.000104  0.005678  0.000674 -0.002066   \n",
       "2021-07-01 00:33:00 -0.010669 -0.000924  0.006833  0.000172 -0.002008   \n",
       "...                       ...       ...       ...       ...       ...   \n",
       "2021-11-06 18:37:00 -0.311879 -0.713263  1.231817  0.380252 -0.368900   \n",
       "2021-11-06 18:38:00 -0.311817 -0.713298  1.231063  0.380303 -0.367879   \n",
       "2021-11-06 18:39:00 -0.312098 -0.713280  1.230117  0.379512 -0.368103   \n",
       "2021-11-06 18:40:00 -0.312339 -0.712533  1.229353  0.380235 -0.368684   \n",
       "2021-11-06 18:41:00 -0.312399 -0.712926  1.230809  0.380299 -0.368836   \n",
       "\n",
       "                     log_pr_5  log_pr_6  log_pr_7  log_pr_8  log_pr_9  \n",
       "timestamp                                                              \n",
       "2021-07-01 00:29:00  0.002308 -0.005915 -0.000483  0.002788  0.003949  \n",
       "2021-07-01 00:30:00  0.002444 -0.005569 -0.000354  0.002661  0.003648  \n",
       "2021-07-01 00:31:00  0.002139 -0.005591 -0.000934  0.002016  0.003161  \n",
       "2021-07-01 00:32:00  0.002131 -0.005633 -0.001691  0.000854  0.002403  \n",
       "2021-07-01 00:33:00  0.002030 -0.004733 -0.001976  0.000409  0.002614  \n",
       "...                       ...       ...       ...       ...       ...  \n",
       "2021-11-06 18:37:00 -0.221951 -0.116951 -0.217529  0.099292 -0.065818  \n",
       "2021-11-06 18:38:00 -0.221343 -0.116840 -0.219413  0.099787 -0.065844  \n",
       "2021-11-06 18:39:00 -0.221024 -0.116074 -0.219266  0.100709 -0.065608  \n",
       "2021-11-06 18:40:00 -0.220570 -0.116050 -0.221033  0.100910 -0.065666  \n",
       "2021-11-06 18:41:00 -0.220758 -0.116377 -0.221310  0.101354 -0.065411  \n",
       "\n",
       "[185413 rows x 10 columns]"
      ]
     },
     "execution_count": 203,
     "metadata": {},
     "output_type": "execute_result"
    }
   ],
   "source": [
    "y = log_pr_tr.shift(-30).loc[X.index]\n",
    "y"
   ]
  },
  {
   "cell_type": "code",
   "execution_count": 216,
   "id": "b6f50ed5",
   "metadata": {},
   "outputs": [],
   "source": [
    "models = []\n",
    "for i in range(10):\n",
    "    models.append(LinearRegression().fit(X[[\"prma10%d\"%i, \"prma30%d\"%i]], y.iloc[:,i]))"
   ]
  },
  {
   "cell_type": "code",
   "execution_count": 220,
   "id": "0fabbf7d",
   "metadata": {},
   "outputs": [
    {
     "name": "stderr",
     "output_type": "stream",
     "text": [
      "  0%|          | 0/7805 [00:00<?, ?it/s]d:\\UserProjects\\stats601-project\\.venv\\lib\\site-packages\\sklearn\\base.py:450: UserWarning:\n",
      "\n",
      "X does not have valid feature names, but LinearRegression was fitted with feature names\n",
      "\n",
      "  0%|          | 0/7805 [00:00<?, ?it/s]\n"
     ]
    },
    {
     "ename": "ValueError",
     "evalue": "Expected 2D array, got 1D array instead:\narray=[-0.3361007  -0.33602037].\nReshape your data either using array.reshape(-1, 1) if your data has a single feature or array.reshape(1, -1) if it contains a single sample.",
     "output_type": "error",
     "traceback": [
      "\u001b[1;31m---------------------------------------------------------------------------\u001b[0m",
      "\u001b[1;31mValueError\u001b[0m                                Traceback (most recent call last)",
      "\u001b[1;32md:\\UserProjects\\stats601-project\\data_generator.ipynb Cell 78'\u001b[0m in \u001b[0;36m<cell line: 9>\u001b[1;34m()\u001b[0m\n\u001b[0;32m      <a href='vscode-notebook-cell:/d%3A/UserProjects/stats601-project/data_generator.ipynb#ch0000092?line=5'>6</a>\u001b[0m         pred[i] \u001b[39m=\u001b[39m models[i]\u001b[39m.\u001b[39mpredict([ma10[i], ma30[i]])\n\u001b[0;32m      <a href='vscode-notebook-cell:/d%3A/UserProjects/stats601-project/data_generator.ipynb#ch0000092?line=6'>7</a>\u001b[0m     \u001b[39mreturn\u001b[39;00m pred \u001b[39m-\u001b[39m A\u001b[39m.\u001b[39mvalues[\u001b[39m-\u001b[39m\u001b[39m1\u001b[39m]\n\u001b[1;32m----> <a href='vscode-notebook-cell:/d%3A/UserProjects/stats601-project/data_generator.ipynb#ch0000092?line=8'>9</a>\u001b[0m cr\u001b[39m.\u001b[39;49msubmit(get_r_hat, log_pr_tst, volu_tst)\n",
      "File \u001b[1;32md:\\UserProjects\\stats601-project\\critic.py:73\u001b[0m, in \u001b[0;36mCritic.submit\u001b[1;34m(self, get_r_hat, log_pr, volu)\u001b[0m\n\u001b[0;32m     <a href='file:///d%3A/UserProjects/stats601-project/critic.py?line=71'>72</a>\u001b[0m \u001b[39mdef\u001b[39;00m \u001b[39msubmit\u001b[39m(\u001b[39mself\u001b[39m, get_r_hat, log_pr, volu):\n\u001b[1;32m---> <a href='file:///d%3A/UserProjects/stats601-project/critic.py?line=72'>73</a>\u001b[0m     t_used, pairwise, overall \u001b[39m=\u001b[39m \u001b[39mself\u001b[39;49m\u001b[39m.\u001b[39;49mscore(get_r_hat, log_pr, volu)\n\u001b[0;32m     <a href='file:///d%3A/UserProjects/stats601-project/critic.py?line=73'>74</a>\u001b[0m     \u001b[39mprint\u001b[39m(\u001b[39m\"\u001b[39m\u001b[39mTotal time used: \u001b[39m\u001b[39m%.3f\u001b[39;00m\u001b[39ms\u001b[39m\u001b[39m\"\u001b[39m \u001b[39m%\u001b[39m t_used)\n\u001b[0;32m     <a href='file:///d%3A/UserProjects/stats601-project/critic.py?line=74'>75</a>\u001b[0m     pairwise_report \u001b[39m=\u001b[39m \u001b[39m\"\u001b[39m\u001b[39mPairwise correlation:\u001b[39m\u001b[39m\\n\u001b[39;00m\u001b[39m\"\u001b[39m\n",
      "File \u001b[1;32md:\\UserProjects\\stats601-project\\critic.py:51\u001b[0m, in \u001b[0;36mCritic.score\u001b[1;34m(self, get_r_hat, log_pr, volu)\u001b[0m\n\u001b[0;32m     <a href='file:///d%3A/UserProjects/stats601-project/critic.py?line=46'>47</a>\u001b[0m r_hat \u001b[39m=\u001b[39m pd\u001b[39m.\u001b[39mDataFrame(index\u001b[39m=\u001b[39mlog_pr\u001b[39m.\u001b[39mindex[\u001b[39m1440\u001b[39m::\u001b[39m10\u001b[39m], \n\u001b[0;32m     <a href='file:///d%3A/UserProjects/stats601-project/critic.py?line=47'>48</a>\u001b[0m                     columns\u001b[39m=\u001b[39mnp\u001b[39m.\u001b[39marange(\u001b[39m10\u001b[39m), \n\u001b[0;32m     <a href='file:///d%3A/UserProjects/stats601-project/critic.py?line=48'>49</a>\u001b[0m                     dtype\u001b[39m=\u001b[39mnp\u001b[39m.\u001b[39mfloat64)\n\u001b[0;32m     <a href='file:///d%3A/UserProjects/stats601-project/critic.py?line=49'>50</a>\u001b[0m \u001b[39mfor\u001b[39;00m t \u001b[39min\u001b[39;00m tqdm(log_pr\u001b[39m.\u001b[39mindex[\u001b[39m1440\u001b[39m::\u001b[39m10\u001b[39m]): \u001b[39m# compute the predictions every day\u001b[39;00m\n\u001b[1;32m---> <a href='file:///d%3A/UserProjects/stats601-project/critic.py?line=50'>51</a>\u001b[0m     r_hat\u001b[39m.\u001b[39mloc[t, :] \u001b[39m=\u001b[39m get_r_hat(log_pr\u001b[39m.\u001b[39;49mloc[(t \u001b[39m-\u001b[39;49m dt):t], volu\u001b[39m.\u001b[39;49mloc[(t \u001b[39m-\u001b[39;49m dt):t])\n\u001b[0;32m     <a href='file:///d%3A/UserProjects/stats601-project/critic.py?line=52'>53</a>\u001b[0m t_used \u001b[39m=\u001b[39m time\u001b[39m.\u001b[39mtime() \u001b[39m-\u001b[39m t0\n\u001b[0;32m     <a href='file:///d%3A/UserProjects/stats601-project/critic.py?line=54'>55</a>\u001b[0m \u001b[39m# Compute true forward log_returns every 10 minutes\u001b[39;00m\n",
      "\u001b[1;32md:\\UserProjects\\stats601-project\\data_generator.ipynb Cell 78'\u001b[0m in \u001b[0;36mget_r_hat\u001b[1;34m(A, B)\u001b[0m\n\u001b[0;32m      <a href='vscode-notebook-cell:/d%3A/UserProjects/stats601-project/data_generator.ipynb#ch0000092?line=3'>4</a>\u001b[0m pred \u001b[39m=\u001b[39m np\u001b[39m.\u001b[39mzeros(\u001b[39m10\u001b[39m)\n\u001b[0;32m      <a href='vscode-notebook-cell:/d%3A/UserProjects/stats601-project/data_generator.ipynb#ch0000092?line=4'>5</a>\u001b[0m \u001b[39mfor\u001b[39;00m i \u001b[39min\u001b[39;00m \u001b[39mrange\u001b[39m(\u001b[39m10\u001b[39m):\n\u001b[1;32m----> <a href='vscode-notebook-cell:/d%3A/UserProjects/stats601-project/data_generator.ipynb#ch0000092?line=5'>6</a>\u001b[0m     pred[i] \u001b[39m=\u001b[39m models[i]\u001b[39m.\u001b[39;49mpredict([ma10[i], ma30[i]])\n\u001b[0;32m      <a href='vscode-notebook-cell:/d%3A/UserProjects/stats601-project/data_generator.ipynb#ch0000092?line=6'>7</a>\u001b[0m \u001b[39mreturn\u001b[39;00m pred \u001b[39m-\u001b[39m A\u001b[39m.\u001b[39mvalues[\u001b[39m-\u001b[39m\u001b[39m1\u001b[39m]\n",
      "File \u001b[1;32md:\\UserProjects\\stats601-project\\.venv\\lib\\site-packages\\sklearn\\linear_model\\_base.py:362\u001b[0m, in \u001b[0;36mLinearModel.predict\u001b[1;34m(self, X)\u001b[0m\n\u001b[0;32m    <a href='file:///d%3A/UserProjects/stats601-project/.venv/lib/site-packages/sklearn/linear_model/_base.py?line=347'>348</a>\u001b[0m \u001b[39mdef\u001b[39;00m \u001b[39mpredict\u001b[39m(\u001b[39mself\u001b[39m, X):\n\u001b[0;32m    <a href='file:///d%3A/UserProjects/stats601-project/.venv/lib/site-packages/sklearn/linear_model/_base.py?line=348'>349</a>\u001b[0m     \u001b[39m\"\"\"\u001b[39;00m\n\u001b[0;32m    <a href='file:///d%3A/UserProjects/stats601-project/.venv/lib/site-packages/sklearn/linear_model/_base.py?line=349'>350</a>\u001b[0m \u001b[39m    Predict using the linear model.\u001b[39;00m\n\u001b[0;32m    <a href='file:///d%3A/UserProjects/stats601-project/.venv/lib/site-packages/sklearn/linear_model/_base.py?line=350'>351</a>\u001b[0m \n\u001b[1;32m   (...)\u001b[0m\n\u001b[0;32m    <a href='file:///d%3A/UserProjects/stats601-project/.venv/lib/site-packages/sklearn/linear_model/_base.py?line=359'>360</a>\u001b[0m \u001b[39m        Returns predicted values.\u001b[39;00m\n\u001b[0;32m    <a href='file:///d%3A/UserProjects/stats601-project/.venv/lib/site-packages/sklearn/linear_model/_base.py?line=360'>361</a>\u001b[0m \u001b[39m    \"\"\"\u001b[39;00m\n\u001b[1;32m--> <a href='file:///d%3A/UserProjects/stats601-project/.venv/lib/site-packages/sklearn/linear_model/_base.py?line=361'>362</a>\u001b[0m     \u001b[39mreturn\u001b[39;00m \u001b[39mself\u001b[39;49m\u001b[39m.\u001b[39;49m_decision_function(X)\n",
      "File \u001b[1;32md:\\UserProjects\\stats601-project\\.venv\\lib\\site-packages\\sklearn\\linear_model\\_base.py:345\u001b[0m, in \u001b[0;36mLinearModel._decision_function\u001b[1;34m(self, X)\u001b[0m\n\u001b[0;32m    <a href='file:///d%3A/UserProjects/stats601-project/.venv/lib/site-packages/sklearn/linear_model/_base.py?line=341'>342</a>\u001b[0m \u001b[39mdef\u001b[39;00m \u001b[39m_decision_function\u001b[39m(\u001b[39mself\u001b[39m, X):\n\u001b[0;32m    <a href='file:///d%3A/UserProjects/stats601-project/.venv/lib/site-packages/sklearn/linear_model/_base.py?line=342'>343</a>\u001b[0m     check_is_fitted(\u001b[39mself\u001b[39m)\n\u001b[1;32m--> <a href='file:///d%3A/UserProjects/stats601-project/.venv/lib/site-packages/sklearn/linear_model/_base.py?line=344'>345</a>\u001b[0m     X \u001b[39m=\u001b[39m \u001b[39mself\u001b[39;49m\u001b[39m.\u001b[39;49m_validate_data(X, accept_sparse\u001b[39m=\u001b[39;49m[\u001b[39m\"\u001b[39;49m\u001b[39mcsr\u001b[39;49m\u001b[39m\"\u001b[39;49m, \u001b[39m\"\u001b[39;49m\u001b[39mcsc\u001b[39;49m\u001b[39m\"\u001b[39;49m, \u001b[39m\"\u001b[39;49m\u001b[39mcoo\u001b[39;49m\u001b[39m\"\u001b[39;49m], reset\u001b[39m=\u001b[39;49m\u001b[39mFalse\u001b[39;49;00m)\n\u001b[0;32m    <a href='file:///d%3A/UserProjects/stats601-project/.venv/lib/site-packages/sklearn/linear_model/_base.py?line=345'>346</a>\u001b[0m     \u001b[39mreturn\u001b[39;00m safe_sparse_dot(X, \u001b[39mself\u001b[39m\u001b[39m.\u001b[39mcoef_\u001b[39m.\u001b[39mT, dense_output\u001b[39m=\u001b[39m\u001b[39mTrue\u001b[39;00m) \u001b[39m+\u001b[39m \u001b[39mself\u001b[39m\u001b[39m.\u001b[39mintercept_\n",
      "File \u001b[1;32md:\\UserProjects\\stats601-project\\.venv\\lib\\site-packages\\sklearn\\base.py:566\u001b[0m, in \u001b[0;36mBaseEstimator._validate_data\u001b[1;34m(self, X, y, reset, validate_separately, **check_params)\u001b[0m\n\u001b[0;32m    <a href='file:///d%3A/UserProjects/stats601-project/.venv/lib/site-packages/sklearn/base.py?line=563'>564</a>\u001b[0m     \u001b[39mraise\u001b[39;00m \u001b[39mValueError\u001b[39;00m(\u001b[39m\"\u001b[39m\u001b[39mValidation should be done on X, y or both.\u001b[39m\u001b[39m\"\u001b[39m)\n\u001b[0;32m    <a href='file:///d%3A/UserProjects/stats601-project/.venv/lib/site-packages/sklearn/base.py?line=564'>565</a>\u001b[0m \u001b[39melif\u001b[39;00m \u001b[39mnot\u001b[39;00m no_val_X \u001b[39mand\u001b[39;00m no_val_y:\n\u001b[1;32m--> <a href='file:///d%3A/UserProjects/stats601-project/.venv/lib/site-packages/sklearn/base.py?line=565'>566</a>\u001b[0m     X \u001b[39m=\u001b[39m check_array(X, \u001b[39m*\u001b[39m\u001b[39m*\u001b[39mcheck_params)\n\u001b[0;32m    <a href='file:///d%3A/UserProjects/stats601-project/.venv/lib/site-packages/sklearn/base.py?line=566'>567</a>\u001b[0m     out \u001b[39m=\u001b[39m X\n\u001b[0;32m    <a href='file:///d%3A/UserProjects/stats601-project/.venv/lib/site-packages/sklearn/base.py?line=567'>568</a>\u001b[0m \u001b[39melif\u001b[39;00m no_val_X \u001b[39mand\u001b[39;00m \u001b[39mnot\u001b[39;00m no_val_y:\n",
      "File \u001b[1;32md:\\UserProjects\\stats601-project\\.venv\\lib\\site-packages\\sklearn\\utils\\validation.py:769\u001b[0m, in \u001b[0;36mcheck_array\u001b[1;34m(array, accept_sparse, accept_large_sparse, dtype, order, copy, force_all_finite, ensure_2d, allow_nd, ensure_min_samples, ensure_min_features, estimator)\u001b[0m\n\u001b[0;32m    <a href='file:///d%3A/UserProjects/stats601-project/.venv/lib/site-packages/sklearn/utils/validation.py?line=766'>767</a>\u001b[0m     \u001b[39m# If input is 1D raise error\u001b[39;00m\n\u001b[0;32m    <a href='file:///d%3A/UserProjects/stats601-project/.venv/lib/site-packages/sklearn/utils/validation.py?line=767'>768</a>\u001b[0m     \u001b[39mif\u001b[39;00m array\u001b[39m.\u001b[39mndim \u001b[39m==\u001b[39m \u001b[39m1\u001b[39m:\n\u001b[1;32m--> <a href='file:///d%3A/UserProjects/stats601-project/.venv/lib/site-packages/sklearn/utils/validation.py?line=768'>769</a>\u001b[0m         \u001b[39mraise\u001b[39;00m \u001b[39mValueError\u001b[39;00m(\n\u001b[0;32m    <a href='file:///d%3A/UserProjects/stats601-project/.venv/lib/site-packages/sklearn/utils/validation.py?line=769'>770</a>\u001b[0m             \u001b[39m\"\u001b[39m\u001b[39mExpected 2D array, got 1D array instead:\u001b[39m\u001b[39m\\n\u001b[39;00m\u001b[39marray=\u001b[39m\u001b[39m{}\u001b[39;00m\u001b[39m.\u001b[39m\u001b[39m\\n\u001b[39;00m\u001b[39m\"\u001b[39m\n\u001b[0;32m    <a href='file:///d%3A/UserProjects/stats601-project/.venv/lib/site-packages/sklearn/utils/validation.py?line=770'>771</a>\u001b[0m             \u001b[39m\"\u001b[39m\u001b[39mReshape your data either using array.reshape(-1, 1) if \u001b[39m\u001b[39m\"\u001b[39m\n\u001b[0;32m    <a href='file:///d%3A/UserProjects/stats601-project/.venv/lib/site-packages/sklearn/utils/validation.py?line=771'>772</a>\u001b[0m             \u001b[39m\"\u001b[39m\u001b[39myour data has a single feature or array.reshape(1, -1) \u001b[39m\u001b[39m\"\u001b[39m\n\u001b[0;32m    <a href='file:///d%3A/UserProjects/stats601-project/.venv/lib/site-packages/sklearn/utils/validation.py?line=772'>773</a>\u001b[0m             \u001b[39m\"\u001b[39m\u001b[39mif it contains a single sample.\u001b[39m\u001b[39m\"\u001b[39m\u001b[39m.\u001b[39mformat(array)\n\u001b[0;32m    <a href='file:///d%3A/UserProjects/stats601-project/.venv/lib/site-packages/sklearn/utils/validation.py?line=773'>774</a>\u001b[0m         )\n\u001b[0;32m    <a href='file:///d%3A/UserProjects/stats601-project/.venv/lib/site-packages/sklearn/utils/validation.py?line=775'>776</a>\u001b[0m \u001b[39m# make sure we actually converted to numeric:\u001b[39;00m\n\u001b[0;32m    <a href='file:///d%3A/UserProjects/stats601-project/.venv/lib/site-packages/sklearn/utils/validation.py?line=776'>777</a>\u001b[0m \u001b[39mif\u001b[39;00m dtype_numeric \u001b[39mand\u001b[39;00m array\u001b[39m.\u001b[39mdtype\u001b[39m.\u001b[39mkind \u001b[39min\u001b[39;00m \u001b[39m\"\u001b[39m\u001b[39mOUSV\u001b[39m\u001b[39m\"\u001b[39m:\n",
      "\u001b[1;31mValueError\u001b[0m: Expected 2D array, got 1D array instead:\narray=[-0.3361007  -0.33602037].\nReshape your data either using array.reshape(-1, 1) if your data has a single feature or array.reshape(1, -1) if it contains a single sample."
     ]
    }
   ],
   "source": [
    "def get_r_hat(A, B):\n",
    "    ma10 = A.rolling(10).mean().iloc[-1]\n",
    "    ma30 = A.rolling(30).mean().iloc[-1]\n",
    "    pred = np.zeros(10)\n",
    "    for i in range(10):\n",
    "        pred[i] = models[i].predict([[ma10[i], ma30[i]])\n",
    "    return pred - A.values[-1]\n",
    "\n",
    "cr.submit(get_r_hat, log_pr_tst, volu_tst)"
   ]
  },
  {
   "cell_type": "code",
   "execution_count": 195,
   "id": "e72bd3ee",
   "metadata": {},
   "outputs": [
    {
     "name": "stderr",
     "output_type": "stream",
     "text": [
      "100%|██████████| 7805/7805 [00:11<00:00, 675.46it/s]"
     ]
    },
    {
     "name": "stdout",
     "output_type": "stream",
     "text": [
      "Total time used: 11.558s\n",
      "Pairwise correlation:\n",
      "\tasset 0 = 0.03150\n",
      "\tasset 1 = 0.10723\n",
      "\tasset 2 = 0.00321\n",
      "\tasset 3 = 0.03563\n",
      "\tasset 4 = -0.00836\n",
      "\tasset 5 = -0.00343\n",
      "\tasset 6 = 0.01458\n",
      "\tasset 7 = 0.01020\n",
      "\tasset 8 = 0.00271\n",
      "\tasset 9 = -0.02898\n",
      "\tmean correlation = 0.01643\n",
      "Overall correlation: 0.02432\n",
      "===============================\n",
      "Fail to outperform Ziwei's method, whose pairwise average\n",
      "and overall correlations are (0.02840, 0.01536)\n",
      "===============================\n"
     ]
    },
    {
     "name": "stderr",
     "output_type": "stream",
     "text": [
      "\n"
     ]
    },
    {
     "data": {
      "text/plain": [
       "(11.558045625686646,\n",
       " 0    0.031497\n",
       " 1    0.107226\n",
       " 2    0.003214\n",
       " 3    0.035634\n",
       " 4   -0.008358\n",
       " 5   -0.003428\n",
       " 6    0.014584\n",
       " 7    0.010199\n",
       " 8    0.002706\n",
       " 9   -0.028980\n",
       " dtype: float64,\n",
       " 0.02431859106970713)"
      ]
     },
     "execution_count": 195,
     "metadata": {},
     "output_type": "execute_result"
    }
   ],
   "source": [
    "def get_r_hat(A, B):\n",
    "    ma = A.rolling(10).mean()\n",
    "    ema = ma.ewm(com = 10 - 1, adjust=True, min_periods = 10).mean().values\n",
    "    return ma.values[-1] - A.values[-1]\n",
    "\n",
    "cr.submit(get_r_hat, log_pr_tst, volu_tst)"
   ]
  },
  {
   "cell_type": "markdown",
   "id": "773fcf24",
   "metadata": {},
   "source": [
    "#### PCA and Gradient Boosting"
   ]
  },
  {
   "cell_type": "code",
   "execution_count": null,
   "id": "bbb9a7f6",
   "metadata": {},
   "outputs": [],
   "source": [
    "# normal pca on linear features\n"
   ]
  },
  {
   "cell_type": "markdown",
   "id": "8e48dbda",
   "metadata": {},
   "source": [
    "#### Gradient Boosting"
   ]
  },
  {
   "cell_type": "code",
   "execution_count": null,
   "id": "f24df1a1",
   "metadata": {},
   "outputs": [
    {
     "name": "stdout",
     "output_type": "stream",
     "text": [
      "      Iter       Train Loss      OOB Improve   Remaining Time \n",
      "         1           0.0057           0.0012            0.17s\n",
      "         2           0.0047           0.0010            0.16s\n",
      "         3           0.0039           0.0009            0.15s\n",
      "         4           0.0032           0.0007            0.14s\n",
      "         5           0.0026           0.0006            0.13s\n",
      "         6           0.0021           0.0004            0.12s\n",
      "         7           0.0018           0.0004            0.11s\n",
      "         8           0.0014           0.0003            0.10s\n",
      "         9           0.0013           0.0002            0.09s\n",
      "        10           0.0010           0.0002            0.09s\n",
      "        20           0.0002           0.0000            0.00s\n",
      "model 0 score = 0.95\n",
      "      Iter       Train Loss      OOB Improve   Remaining Time \n",
      "         1           0.0108           0.0022            0.17s\n",
      "         2           0.0092           0.0017            0.15s\n",
      "         3           0.0077           0.0015            0.14s\n",
      "         4           0.0071           0.0012            0.13s\n",
      "         5           0.0057           0.0010            0.12s\n",
      "         6           0.0047           0.0009            0.11s\n",
      "         7           0.0041           0.0007            0.11s\n",
      "         8           0.0036           0.0007            0.10s\n",
      "         9           0.0030           0.0005            0.09s\n",
      "        10           0.0025           0.0005            0.08s\n",
      "        20           0.0006           0.0001            0.00s\n",
      "model 2 score = 0.94\n",
      "      Iter       Train Loss      OOB Improve   Remaining Time \n",
      "         1           0.0051           0.0011            0.17s\n",
      "         2           0.0045           0.0009            0.16s\n",
      "         3           0.0037           0.0007            0.14s\n",
      "         4           0.0031           0.0006            0.14s\n",
      "         5           0.0026           0.0005            0.13s\n",
      "         6           0.0022           0.0004            0.12s\n",
      "         7           0.0019           0.0003            0.11s\n",
      "         8           0.0015           0.0003            0.10s\n",
      "         9           0.0013           0.0002            0.09s\n",
      "        10           0.0011           0.0002            0.08s\n",
      "        20           0.0002           0.0000            0.00s\n",
      "model 3 score = 0.96\n",
      "      Iter       Train Loss      OOB Improve   Remaining Time \n",
      "         1           0.0019           0.0004            0.19s\n",
      "         2           0.0016           0.0003            0.16s\n",
      "         3           0.0013           0.0003            0.15s\n",
      "         4           0.0011           0.0002            0.14s\n",
      "         5           0.0009           0.0002            0.13s\n",
      "         6           0.0008           0.0002            0.12s\n",
      "         7           0.0006           0.0001            0.11s\n",
      "         8           0.0005           0.0001            0.10s\n",
      "         9           0.0004           0.0001            0.09s\n",
      "        10           0.0003           0.0001            0.08s\n",
      "        20           0.0001           0.0000            0.00s\n",
      "      Iter       Train Loss      OOB Improve   Remaining Time \n",
      "         1           0.0024           0.0005            0.17s\n",
      "         2           0.0019           0.0004            0.16s\n",
      "         3           0.0017           0.0004            0.15s\n",
      "         4           0.0014           0.0003            0.14s\n",
      "         5           0.0011           0.0002            0.13s\n",
      "         6           0.0010           0.0002            0.12s\n",
      "         7           0.0008           0.0002            0.11s\n",
      "         8           0.0006           0.0001            0.10s\n",
      "         9           0.0005           0.0001            0.09s\n",
      "        10           0.0004           0.0001            0.09s\n",
      "        20           0.0001           0.0000            0.00s\n",
      "model 8,9 score = 0.97\n",
      "      Iter       Train Loss      OOB Improve   Remaining Time \n",
      "         1           0.0009           0.0001            0.20s\n",
      "         2           0.0007           0.0001            0.20s\n",
      "         3           0.0006           0.0001            0.18s\n",
      "         4           0.0005           0.0001            0.16s\n",
      "         5           0.0004           0.0001            0.15s\n",
      "         6           0.0004           0.0001            0.14s\n",
      "         7           0.0004           0.0001            0.13s\n",
      "         8           0.0003           0.0000            0.12s\n",
      "         9           0.0003           0.0000            0.11s\n",
      "        10           0.0002           0.0000            0.10s\n",
      "        20           0.0001           0.0000            0.00s\n",
      "      Iter       Train Loss      OOB Improve   Remaining Time \n",
      "         1           0.0007           0.0001            0.19s\n",
      "         2           0.0006           0.0001            0.18s\n",
      "         3           0.0005           0.0001            0.17s\n",
      "         4           0.0004           0.0001            0.16s\n",
      "         5           0.0004           0.0001            0.15s\n",
      "         6           0.0003           0.0001            0.14s\n",
      "         7           0.0003           0.0000            0.13s\n",
      "         8           0.0002           0.0000            0.12s\n",
      "         9           0.0002           0.0000            0.10s\n",
      "        10           0.0002           0.0000            0.09s\n",
      "        20           0.0000           0.0000            0.00s\n",
      "model 1,6 score = 0.91\n",
      "      Iter       Train Loss      OOB Improve   Remaining Time \n",
      "         1           0.0015           0.0003            0.15s\n",
      "         2           0.0012           0.0002            0.15s\n",
      "         3           0.0010           0.0002            0.14s\n",
      "         4           0.0009           0.0001            0.13s\n",
      "         5           0.0007           0.0001            0.12s\n",
      "         6           0.0006           0.0001            0.12s\n",
      "         7           0.0005           0.0001            0.11s\n",
      "         8           0.0004           0.0001            0.10s\n",
      "         9           0.0004           0.0001            0.09s\n",
      "        10           0.0003           0.0001            0.08s\n",
      "        20           0.0001           0.0000            0.00s\n",
      "      Iter       Train Loss      OOB Improve   Remaining Time \n",
      "         1           0.0057           0.0012            0.18s\n",
      "         2           0.0049           0.0010            0.16s\n",
      "         3           0.0040           0.0008            0.15s\n",
      "         4           0.0034           0.0007            0.14s\n",
      "         5           0.0028           0.0006            0.13s\n",
      "         6           0.0023           0.0005            0.12s\n",
      "         7           0.0020           0.0004            0.11s\n",
      "         8           0.0017           0.0003            0.10s\n",
      "         9           0.0014           0.0003            0.09s\n",
      "        10           0.0011           0.0002            0.08s\n",
      "        20           0.0002           0.0000            0.00s\n",
      "      Iter       Train Loss      OOB Improve   Remaining Time \n",
      "         1           0.0005           0.0000            0.17s\n",
      "         2           0.0005           0.0001            0.16s\n",
      "         3           0.0004           0.0001            0.15s\n",
      "         4           0.0003           0.0000            0.14s\n",
      "         5           0.0003           0.0000            0.13s\n",
      "         6           0.0003           0.0000            0.11s\n",
      "         7           0.0002           0.0000            0.11s\n",
      "         8           0.0002           0.0000            0.10s\n",
      "         9           0.0002           0.0000            0.09s\n",
      "        10           0.0002           0.0000            0.08s\n",
      "        20           0.0001           0.0000            0.00s\n",
      "model 4,5,7 score = 0.93\n"
     ]
    }
   ],
   "source": [
    "# define \n",
    "from sklearn.ensemble import GradientBoostingRegressor\n",
    "from sklearn.multioutput import MultiOutputRegressor\n",
    "\n",
    "models = {}\n",
    "params = dict(loss='huber', \n",
    "            n_estimators=20, \n",
    "            subsample=0.4, \n",
    "            max_depth=2, \n",
    "            min_samples_leaf=100,\n",
    "            max_features='log2',\n",
    "            verbose=1,\n",
    "            n_iter_no_change=10\n",
    "            )\n",
    "\n",
    "\n",
    "fname0 = np.union1d(selected_cor[0], selected_mi[0])\n",
    "fname0 = features_tr.columns[fname0]\n",
    "\n",
    "features_tr_f_new, label_tr_f_new = formulize_data(\n",
    "                features_tr_new.dropna()[fname0].iloc[-1440*60:], \n",
    "                log_pr_tr.loc[features_tr_new.dropna()[fname0].iloc[-1440*60:].index], \n",
    "                window_size=3)\n",
    "\n",
    "N = len(features_tr_f_new)\n",
    "\n",
    "models['model0'] = GradientBoostingRegressor(**params).fit(features_tr_f_new.reshape(N,-1), label_tr_f_new.squeeze()[:,0])\n",
    "print('model 0 score = %.2f'%models['model0'].score(features_tr_f_new.reshape(N,-1), label_tr_f_new.squeeze()[:,0]))\n",
    "\n",
    "\n",
    "\n",
    "fname2 = np.union1d(selected_cor[2], selected_mi[2])\n",
    "fname2 = features_tr.columns[fname2]\n",
    "\n",
    "features_tr_f_new, label_tr_f_new = formulize_data(\n",
    "                features_tr_new.dropna()[fname2].iloc[-1440*60:], \n",
    "                log_pr_tr.loc[features_tr_new.dropna()[fname2].iloc[-1440*60:].index], \n",
    "                window_size=3)\n",
    "\n",
    "models['model2'] = GradientBoostingRegressor(**params).fit(features_tr_f_new.reshape(N,-1), label_tr_f_new.squeeze()[:,2])\n",
    "print('model 2 score = %.2f'%models['model2'].score(features_tr_f_new.reshape(N,-1), label_tr_f_new.squeeze()[:,2]))\n",
    "\n",
    "\n",
    "\n",
    "fname3 = np.union1d(selected_cor[3], selected_mi[3])\n",
    "fname3 = features_tr.columns[fname3]\n",
    "\n",
    "features_tr_f_new, label_tr_f_new = formulize_data(\n",
    "                features_tr_new[fname3].dropna().iloc[-1440*60:], \n",
    "                log_pr_tr.loc[features_tr_new[fname3].dropna().iloc[-1440*60:].index], \n",
    "                window_size=3)\n",
    "\n",
    "models['model3'] = GradientBoostingRegressor(**params).fit(features_tr_f_new.reshape(N,-1), label_tr_f_new.squeeze()[:,3])\n",
    "print('model 3 score = %.2f'%models['model3'].score(features_tr_f_new.reshape(N,-1), label_tr_f_new.squeeze()[:,3]))\n",
    "\n",
    "\n",
    "\n",
    "fname8 = np.union1d(selected_cor[8], selected_mi[8])\n",
    "fname8 = features_tr.columns[fname8]\n",
    "fname9 = np.union1d(selected_cor[9], selected_mi[9])\n",
    "fname9 = features_tr.columns[fname9]\n",
    "fname89 = np.union1d(fname8, fname9)\n",
    "\n",
    "features_tr_f_new, label_tr_f_new = formulize_data(\n",
    "                features_tr_new.dropna()[fname89].iloc[-1440*60:], \n",
    "                log_pr_tr.loc[features_tr_new.dropna()[fname89].iloc[-1440*60:].index], \n",
    "                window_size=3)\n",
    "\n",
    "models['model89'] = MultiOutputRegressor(GradientBoostingRegressor(**params)).fit(features_tr_f_new.reshape(N,-1), label_tr_f_new[:,:,[8,9]].reshape(-1, 2))\n",
    "print('model 8,9 score = %.2f'%models['model89'].score(features_tr_f_new.reshape(N,-1), label_tr_f_new[:,:,[8,9]].reshape(-1, 2)))\n",
    "\n",
    "\n",
    "\n",
    "fname1 = np.union1d(selected_cor[1], selected_mi[1])\n",
    "fname1 = features_tr.columns[fname1]\n",
    "fname6 = np.union1d(selected_cor[6], selected_mi[6])\n",
    "fname6 = features_tr.columns[fname6]\n",
    "fname16 = np.union1d(fname1, fname6)\n",
    "\n",
    "features_tr_f_new, label_tr_f_new = formulize_data(\n",
    "                features_tr_new.dropna()[fname16].iloc[-1440*60:], \n",
    "                log_pr_tr.loc[features_tr_new.dropna()[fname16].iloc[-1440*60:].index], \n",
    "                window_size=3)\n",
    "\n",
    "models['model16'] = MultiOutputRegressor(GradientBoostingRegressor(**params)).fit(features_tr_f_new.reshape(N,-1), label_tr_f_new[:,:,[1,6]].reshape(-1, 2))\n",
    "print('model 1,6 score = %.2f'%models['model16'].score(features_tr_f_new.reshape(N,-1), label_tr_f_new[:,:,[1,6]].reshape(-1, 2)))\n",
    "\n",
    "\n",
    "\n",
    "fname4 = np.union1d(selected_cor[4], selected_mi[4])\n",
    "fname4 = features_tr.columns[fname4]\n",
    "fname5 = np.union1d(selected_cor[5], selected_mi[5])\n",
    "fname5 = features_tr.columns[fname5]\n",
    "fname7 = np.union1d(selected_cor[7], selected_mi[7])\n",
    "fname7 = features_tr.columns[fname7]\n",
    "fname457 = np.union1d(fname4, fname5)\n",
    "fname457 = np.union1d(fname457, fname7)\n",
    "\n",
    "features_tr_f_new, label_tr_f_new = formulize_data(\n",
    "                features_tr_new.dropna()[fname457].iloc[-1440*60:], \n",
    "                log_pr_tr.loc[features_tr_new.dropna()[fname457].iloc[-1440*60:].index], \n",
    "                window_size=3)\n",
    "\n",
    "models['model457'] = MultiOutputRegressor(GradientBoostingRegressor(**params)).fit(features_tr_f_new.reshape(N,-1), label_tr_f_new[:,:,[4,5,7]].reshape(-1, 3))\n",
    "print('model 4,5,7 score = %.2f'%models['model457'].score(features_tr_f_new.reshape(N,-1), label_tr_f_new[:,:,[4,5,7]].reshape(-1, 3)))"
   ]
  },
  {
   "cell_type": "code",
   "execution_count": null,
   "id": "4e2412e7",
   "metadata": {},
   "outputs": [],
   "source": []
  },
  {
   "cell_type": "code",
   "execution_count": null,
   "id": "85baa9dc",
   "metadata": {},
   "outputs": [],
   "source": [
    "import pickle\n",
    "with open(\"./model.pkl\", 'wb') as f:\n",
    "    pickle.dump(models, f)\n",
    "\n",
    "feature_names_dict = {'fname0':fname0, 'fname2':fname2, 'fname3': fname3, 'fname16': fname16, 'fname89': fname89, 'fname457': fname457}\n",
    "with open('./fname.pkl', 'wb') as f:\n",
    "    pickle.dump(feature_names_dict, f)"
   ]
  },
  {
   "cell_type": "code",
   "execution_count": null,
   "id": "a5b125aa",
   "metadata": {},
   "outputs": [
    {
     "name": "stderr",
     "output_type": "stream",
     "text": [
      "100%|██████████| 7805/7805 [04:49<00:00, 26.97it/s]"
     ]
    },
    {
     "name": "stdout",
     "output_type": "stream",
     "text": [
      "Total time used: 289.405s\n",
      "Pairwise correlation:\n",
      "\tasset 0 = 0.00725\n",
      "\tasset 1 = 0.04308\n",
      "\tasset 2 = 0.02865\n",
      "\tasset 3 = 0.03738\n",
      "\tasset 4 = 0.04710\n",
      "\tasset 5 = 0.01897\n",
      "\tasset 6 = 0.04310\n",
      "\tasset 7 = 0.02381\n",
      "\tasset 8 = 0.04031\n",
      "\tasset 9 = 0.03296\n",
      "\tmean correlation = 0.03226\n",
      "Overall correlation: -0.00729\n",
      "===============================\n",
      "Fail to outperform Ziwei's method, whose pairwise average\n",
      "and overall correlations are (0.02840, 0.01536)\n",
      "===============================\n"
     ]
    },
    {
     "name": "stderr",
     "output_type": "stream",
     "text": [
      "\n"
     ]
    },
    {
     "data": {
      "text/plain": [
       "(289.40489983558655,\n",
       " 0    0.007253\n",
       " 1    0.043080\n",
       " 2    0.028653\n",
       " 3    0.037376\n",
       " 4    0.047102\n",
       " 5    0.018972\n",
       " 6    0.043104\n",
       " 7    0.023815\n",
       " 8    0.040313\n",
       " 9    0.032957\n",
       " dtype: float64,\n",
       " -0.007294364737689579)"
      ]
     },
     "execution_count": 88,
     "metadata": {},
     "output_type": "execute_result"
    }
   ],
   "source": [
    "def get_r_hat(A, B):\n",
    "    features = get_features(A, B).dropna()\n",
    "    pred = np.zeros(10)\n",
    "\n",
    "    features0 = features[feature_names_dict['fname0']].values[-3:]\n",
    "    pred[0] = models['model0'].predict(features0.reshape(1,-1))\n",
    "\n",
    "    features2 = features[feature_names_dict['fname2']].values[-3:]\n",
    "    pred[2] = models['model2'].predict(features2.reshape(1,-1))\n",
    "\n",
    "    features3 = features[feature_names_dict['fname3']].values[-3:]\n",
    "    pred[3] = models['model3'].predict(features3.reshape(1,-1))\n",
    "\n",
    "    features16 = features[feature_names_dict['fname16']].values[-3:]\n",
    "    pred[[1,6]] = models['model16'].predict(features16.reshape(1,-1))\n",
    "\n",
    "    features89 = features[feature_names_dict['fname89']].values[-3:]\n",
    "    pred[[8,9]] = models['model89'].predict(features89.reshape(1,-1))\n",
    "\n",
    "    features457 = features[feature_names_dict['fname457']].values[-3:]\n",
    "    pred[[4,5,7]] = models['model457'].predict(features457.reshape(1,-1))\n",
    "\n",
    "    return pred - A.values[-1]\n",
    "\n",
    "import critic\n",
    "cr = critic.Critic()\n",
    "cr.submit(get_r_hat, log_pr_tst, volu_tst)"
   ]
  },
  {
   "cell_type": "markdown",
   "id": "61122de5",
   "metadata": {},
   "source": [
    "Total time used: 289.405s\n",
    "Pairwise correlation:\n",
    "\tasset 0 = 0.00725\n",
    "\tasset 1 = 0.04308\n",
    "\tasset 2 = 0.02865\n",
    "\tasset 3 = 0.03738\n",
    "\tasset 4 = 0.04710\n",
    "\tasset 5 = 0.01897\n",
    "\tasset 6 = 0.04310\n",
    "\tasset 7 = 0.02381\n",
    "\tasset 8 = 0.04031\n",
    "\tasset 9 = 0.03296\n",
    "\tmean correlation = 0.03226\n",
    "Overall correlation: -0.00729\n",
    "===============================\n",
    "Fail to outperform Ziwei's method, whose pairwise average\n",
    "and overall correlations are (0.02840, 0.01536)\n",
    "===============================\n",
    "\n",
    "(289.40489983558655,\n",
    " 0    0.007253\n",
    " 1    0.043080\n",
    " 2    0.028653\n",
    " 3    0.037376\n",
    " 4    0.047102\n",
    " 5    0.018972\n",
    " 6    0.043104\n",
    " 7    0.023815\n",
    " 8    0.040313\n",
    " 9    0.032957\n",
    " dtype: float64,\n",
    " -0.007294364737689579)"
   ]
  },
  {
   "cell_type": "code",
   "execution_count": null,
   "id": "7b993c74",
   "metadata": {},
   "outputs": [],
   "source": []
  }
 ],
 "metadata": {
  "kernelspec": {
   "display_name": "Python 3 (ipykernel)",
   "language": "python",
   "name": "python3"
  },
  "language_info": {
   "codemirror_mode": {
    "name": "ipython",
    "version": 3
   },
   "file_extension": ".py",
   "mimetype": "text/x-python",
   "name": "python",
   "nbconvert_exporter": "python",
   "pygments_lexer": "ipython3",
   "version": "3.10.1"
  }
 },
 "nbformat": 4,
 "nbformat_minor": 5
}
