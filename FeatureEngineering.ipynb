{
 "cells": [
  {
   "cell_type": "code",
   "execution_count": 21,
   "metadata": {},
   "outputs": [],
   "source": [
    "import numpy as np\n",
    "import pandas as pd\n",
    "import ojsim\n",
    "\n",
    "sim = ojsim.OJSimulator()\n",
    "log_pr_train, volu_train = sim.train\n",
    "X, y = sim.formulized_train"
   ]
  },
  {
   "cell_type": "code",
   "execution_count": 22,
   "metadata": {},
   "outputs": [],
   "source": [
    "features_list = []"
   ]
  },
  {
   "cell_type": "markdown",
   "metadata": {},
   "source": [
    "# Technical Analysis"
   ]
  },
  {
   "cell_type": "code",
   "execution_count": 3,
   "metadata": {},
   "outputs": [],
   "source": [
    "# parameter list\n",
    "window_size = 1"
   ]
  },
  {
   "cell_type": "markdown",
   "metadata": {},
   "source": [
    "## Momentun"
   ]
  },
  {
   "cell_type": "code",
   "execution_count": 4,
   "metadata": {},
   "outputs": [],
   "source": [
    "import ta.momentum as momentum"
   ]
  },
  {
   "cell_type": "markdown",
   "metadata": {},
   "source": [
    "**Kaufman’s Adaptive Moving Average (KAMA)**\n",
    "\n",
    "Moving average designed to account for market noise or volatility. KAMA will closely follow prices when the price swings are relatively small and the noise is low. KAMA will adjust when the price swings widen and follow prices from a greater distance. This trend-following indicator can be used to identify the overall trend, time turning points and filter price movements."
   ]
  },
  {
   "cell_type": "code",
   "execution_count": 5,
   "metadata": {},
   "outputs": [
    {
     "data": {
      "text/plain": [
       "10"
      ]
     },
     "execution_count": 5,
     "metadata": {},
     "output_type": "execute_result"
    }
   ],
   "source": [
    "for i in range(10):\n",
    "    ds = momentum.kama(log_pr_train[i], window_size, fillna=True)\n",
    "    ds.name = 'kama%d'%i\n",
    "    features_list.append(ds)\n",
    "len(features_list)"
   ]
  },
  {
   "cell_type": "markdown",
   "metadata": {},
   "source": [
    "**Percentage Price Oscillator (PPO)** is a momentum oscillator that measures the difference between two moving averages as a percentage of the larger moving average."
   ]
  },
  {
   "cell_type": "code",
   "execution_count": 7,
   "metadata": {},
   "outputs": [
    {
     "data": {
      "text/plain": [
       "20"
      ]
     },
     "execution_count": 7,
     "metadata": {},
     "output_type": "execute_result"
    }
   ],
   "source": [
    "for i in range(10):\n",
    "    ds = momentum.ppo(log_pr_train[i], window_fast=window_size, fillna=True)\n",
    "    ds.name = 'ppo%d'%i\n",
    "    features_list.append(ds)\n",
    "len(features_list)\n"
   ]
  },
  {
   "cell_type": "markdown",
   "metadata": {},
   "source": [
    "**The Percentage Volume Oscillator (PVO)** is a momentum oscillator for volume. The PVO measures the difference between two volume-based moving averages as a percentage of the larger moving average."
   ]
  },
  {
   "cell_type": "code",
   "execution_count": 8,
   "metadata": {},
   "outputs": [
    {
     "data": {
      "text/plain": [
       "30"
      ]
     },
     "execution_count": 8,
     "metadata": {},
     "output_type": "execute_result"
    }
   ],
   "source": [
    "for i in range(10):\n",
    "    ds = momentum.pvo(volu_train[i], window_fast=window_size, fillna=True)\n",
    "    ds.name = 'pvo%d'%i\n",
    "    features_list.append(ds)\n",
    "len(features_list)"
   ]
  },
  {
   "cell_type": "markdown",
   "metadata": {},
   "source": [
    "**Rate of Change (ROC)**\n",
    "\n",
    "The Rate-of-Change (ROC) indicator, which is also referred to as simply Momentum, is a pure momentum oscillator that measures the percent change in price from one period to the next. The ROC calculation compares the current price with the price “n” periods ago. The plot forms an oscillator that fluctuates above and below the zero line as the Rate-of-Change moves from positive to negative. As a momentum oscillator, ROC signals include centerline crossovers, divergences and overbought-oversold readings. Divergences fail to foreshadow reversals more often than not, so this article will forgo a detailed discussion on them. Even though centerline crossovers are prone to whipsaw, especially short-term, these crossovers can be used to identify the overall trend. Identifying overbought or oversold extremes comes naturally to the Rate-of-Change oscillator."
   ]
  },
  {
   "cell_type": "code",
   "execution_count": 10,
   "metadata": {},
   "outputs": [
    {
     "data": {
      "text/plain": [
       "40"
      ]
     },
     "execution_count": 10,
     "metadata": {},
     "output_type": "execute_result"
    }
   ],
   "source": [
    "for i in range(10):\n",
    "    ds = momentum.roc(log_pr_train[i], window=window_size, fillna=True)\n",
    "    ds.name = 'roc%d'%i\n",
    "    features_list.append(ds)\n",
    "len(features_list)"
   ]
  },
  {
   "cell_type": "markdown",
   "metadata": {},
   "source": [
    "**Stochastic RSI**\n",
    "\n",
    "The StochRSI oscillator was developed to take advantage of both momentum indicators in order to create a more sensitive indicator that is attuned to a specific security’s historical performance rather than a generalized analysis of price change.\n",
    "\n",
    "https://school.stockcharts.com/doku.php?id=technical_indicators:stochrsi https://www.investopedia.com/terms/s/stochrsi.asp"
   ]
  },
  {
   "cell_type": "code",
   "execution_count": 11,
   "metadata": {},
   "outputs": [
    {
     "data": {
      "text/plain": [
       "50"
      ]
     },
     "execution_count": 11,
     "metadata": {},
     "output_type": "execute_result"
    }
   ],
   "source": [
    "for i in range(10):\n",
    "    ds = momentum.rsi(log_pr_train[i], window=window_size, fillna=True)\n",
    "    ds.name = 'rsi%d'%i\n",
    "    features_list.append(ds)\n",
    "len(features_list)"
   ]
  },
  {
   "cell_type": "markdown",
   "metadata": {},
   "source": [
    "**True strength index (TSI)**\n",
    "\n",
    "Shows both trend direction and overbought/oversold conditions."
   ]
  },
  {
   "cell_type": "code",
   "execution_count": 12,
   "metadata": {},
   "outputs": [
    {
     "data": {
      "text/plain": [
       "60"
      ]
     },
     "execution_count": 12,
     "metadata": {},
     "output_type": "execute_result"
    }
   ],
   "source": [
    "for i in range(10):\n",
    "    ds = momentum.tsi(log_pr_train[i], window_fast=window_size, fillna=True)\n",
    "    ds.name = 'tsi%d'%i\n",
    "    features_list.append(ds)\n",
    "len(features_list)"
   ]
  },
  {
   "cell_type": "markdown",
   "metadata": {},
   "source": [
    "## Volume"
   ]
  },
  {
   "cell_type": "code",
   "execution_count": 13,
   "metadata": {},
   "outputs": [],
   "source": [
    "import ta.volume as tavolume"
   ]
  },
  {
   "cell_type": "markdown",
   "metadata": {},
   "source": [
    "**Force Index (FI)**\n",
    "\n",
    "It illustrates how strong the actual buying or selling pressure is. High positive values mean there is a strong rising trend, and low values signify a strong downward trend.\n",
    "\n",
    "http://stockcharts.com/school/doku.php?id=chart_school:technical_indicators:force_index"
   ]
  },
  {
   "cell_type": "code",
   "execution_count": 14,
   "metadata": {},
   "outputs": [
    {
     "data": {
      "text/plain": [
       "70"
      ]
     },
     "execution_count": 14,
     "metadata": {},
     "output_type": "execute_result"
    }
   ],
   "source": [
    "for i in range(10):\n",
    "    ds = tavolume.force_index(log_pr_train[i], volu_train[i], window_size, True)\n",
    "    ds.name = 'fi%d'%i\n",
    "    features_list.append(ds)\n",
    "len(features_list)"
   ]
  },
  {
   "cell_type": "markdown",
   "metadata": {},
   "source": [
    "**Negative Volume Index (NVI)**\n",
    "\n",
    "http://stockcharts.com/school/doku.php?id=chart_school:technical_indicators:negative_volume_inde"
   ]
  },
  {
   "cell_type": "code",
   "execution_count": 16,
   "metadata": {},
   "outputs": [
    {
     "data": {
      "text/plain": [
       "80"
      ]
     },
     "execution_count": 16,
     "metadata": {},
     "output_type": "execute_result"
    }
   ],
   "source": [
    "for i in range(10):\n",
    "    ds = tavolume.negative_volume_index(log_pr_train[i], volu_train[i], True)\n",
    "    ds.name = 'nvi%d'%i\n",
    "    features_list.append(ds)\n",
    "len(features_list)"
   ]
  },
  {
   "cell_type": "markdown",
   "metadata": {},
   "source": [
    "**On-balance volume (OBV)**\n",
    "\n",
    "It relates price and volume in the stock market. OBV is based on a cumulative total volume.\n",
    "\n",
    "https://en.wikipedia.org/wiki/On-balance_volume"
   ]
  },
  {
   "cell_type": "code",
   "execution_count": 17,
   "metadata": {},
   "outputs": [
    {
     "data": {
      "text/plain": [
       "90"
      ]
     },
     "execution_count": 17,
     "metadata": {},
     "output_type": "execute_result"
    }
   ],
   "source": [
    "for i in range(10):\n",
    "    ds = tavolume.on_balance_volume(log_pr_train[i], volu_train[i], True)\n",
    "    ds.name = 'obv%d'%i\n",
    "    features_list.append(ds)\n",
    "len(features_list)"
   ]
  },
  {
   "cell_type": "markdown",
   "metadata": {},
   "source": [
    "**Volume-price trend (VPT)**\n",
    "\n",
    "Is based on a running cumulative volume that adds or substracts a multiple of the percentage change in share price trend and current volume, depending upon the investment’s upward or downward movements.\n",
    "\n",
    "https://en.wikipedia.org/wiki/Volume%E2%80%93price_trend"
   ]
  },
  {
   "cell_type": "code",
   "execution_count": 18,
   "metadata": {},
   "outputs": [
    {
     "data": {
      "text/plain": [
       "100"
      ]
     },
     "execution_count": 18,
     "metadata": {},
     "output_type": "execute_result"
    }
   ],
   "source": [
    "for i in range(10):\n",
    "    ds = tavolume.volume_price_trend(log_pr_train[i], volu_train[i], True)\n",
    "    ds.name = 'vpt%d'%i\n",
    "    features_list.append(ds)\n",
    "len(features_list)"
   ]
  },
  {
   "cell_type": "markdown",
   "metadata": {},
   "source": [
    "## Volatility"
   ]
  },
  {
   "cell_type": "code",
   "execution_count": 21,
   "metadata": {},
   "outputs": [],
   "source": [
    "import ta.volatility as volatility"
   ]
  },
  {
   "cell_type": "markdown",
   "metadata": {},
   "source": [
    "**Bollinger Bands**\n",
    "\n",
    "https://school.stockcharts.com/doku.php?id=technical_indicators:bollinger_bands"
   ]
  },
  {
   "cell_type": "code",
   "execution_count": 22,
   "metadata": {},
   "outputs": [
    {
     "data": {
      "text/plain": [
       "170"
      ]
     },
     "execution_count": 22,
     "metadata": {},
     "output_type": "execute_result"
    }
   ],
   "source": [
    "for i in range(10):\n",
    "    ds = volatility.bollinger_hband(log_pr_train[i], window_size, fillna=True)\n",
    "    ds.name = 'bbh%d'%i\n",
    "    features_list.append(ds)\n",
    "\n",
    "for i in range(10):\n",
    "    ds = volatility.bollinger_hband_indicator(log_pr_train[i], window_size, fillna=True)\n",
    "    ds.name = 'bbhi%d'%i\n",
    "    features_list.append(ds)\n",
    "\n",
    "for i in range(10):\n",
    "    ds = volatility.bollinger_lband(log_pr_train[i], window_size, fillna=True)\n",
    "    ds.name = 'bbl%d'%i\n",
    "    features_list.append(ds)\n",
    "\n",
    "for i in range(10):\n",
    "    ds = volatility.bollinger_lband_indicator(log_pr_train[i], window_size, fillna=True)\n",
    "    ds.name = 'bbli%d'%i\n",
    "    features_list.append(ds)\n",
    "\n",
    "for i in range(10):\n",
    "    ds = volatility.bollinger_mavg(log_pr_train[i], window_size, fillna=True)\n",
    "    ds.name = 'bbm%d'%i\n",
    "    features_list.append(ds)\n",
    "\n",
    "for i in range(10):\n",
    "    ds = volatility.bollinger_pband(log_pr_train[i], window_size, fillna=True)\n",
    "    ds.name = 'bbp%d'%i\n",
    "    features_list.append(ds)\n",
    "\n",
    "for i in range(10):\n",
    "    ds = volatility.bollinger_wband(log_pr_train[i], window_size, fillna=True)\n",
    "    ds.name = 'bbw%d'%i\n",
    "    features_list.append(ds)\n",
    "\n",
    "len(features_list)"
   ]
  },
  {
   "cell_type": "markdown",
   "metadata": {},
   "source": [
    "**Ulcer Index**\n",
    "\n",
    "https://stockcharts.com/school/doku.php?id=chart_school:technical_indicators:ulcer_index"
   ]
  },
  {
   "cell_type": "code",
   "execution_count": 23,
   "metadata": {},
   "outputs": [
    {
     "data": {
      "text/plain": [
       "180"
      ]
     },
     "execution_count": 23,
     "metadata": {},
     "output_type": "execute_result"
    }
   ],
   "source": [
    "for i in range(10):\n",
    "    ds = volatility.ulcer_index(log_pr_train[i], window_size, True)\n",
    "    ds.name = 'ulcer%d'%i\n",
    "    features_list.append(ds)\n",
    "\n",
    "len(features_list)"
   ]
  },
  {
   "cell_type": "markdown",
   "metadata": {},
   "source": [
    "## Trend"
   ]
  },
  {
   "cell_type": "code",
   "execution_count": 24,
   "metadata": {},
   "outputs": [],
   "source": [
    "import ta.trend as trend"
   ]
  },
  {
   "cell_type": "markdown",
   "metadata": {},
   "source": [
    "**Aroon Indicator**\n",
    "\n",
    "Identify when trends are likely to change direction.\n",
    "\n",
    "Aroon Up = ((N - Days Since N-day High) / N) x 100 Aroon Down = ((N - Days Since N-day Low) / N) x 100 Aroon Indicator = Aroon Up - Aroon Down\n",
    "\n",
    "https://www.investopedia.com/terms/a/aroon.asp"
   ]
  },
  {
   "cell_type": "code",
   "execution_count": 25,
   "metadata": {},
   "outputs": [
    {
     "data": {
      "text/plain": [
       "210"
      ]
     },
     "execution_count": 25,
     "metadata": {},
     "output_type": "execute_result"
    }
   ],
   "source": [
    "for i in range(10):\n",
    "    ds = trend.aroon_down(log_pr_train[i], window_size, True)\n",
    "    ds.name = 'arron_down%d'%i\n",
    "    features_list.append(ds)\n",
    "\n",
    "for i in range(10):\n",
    "    ds = trend.aroon_up(log_pr_train[i], window_size, True)\n",
    "    ds.name = 'arron_up%d'%i\n",
    "    features_list.append(ds)\n",
    "\n",
    "for i in range(10):\n",
    "    ds = trend.AroonIndicator(log_pr_train[i], window_size, True).aroon_indicator()\n",
    "    ds.name = 'arron_id%d'%i\n",
    "    features_list.append(ds)\n",
    "\n",
    "len(features_list)"
   ]
  },
  {
   "cell_type": "markdown",
   "metadata": {},
   "source": [
    "**Detrended Price Oscillator (DPO)**\n",
    "\n",
    "Is an indicator designed to remove trend from price and make it easier to identify cycles.\n",
    "\n",
    "http://stockcharts.com/school/doku.php?id=chart_school:technical_indicators:detrended_price_osci"
   ]
  },
  {
   "cell_type": "code",
   "execution_count": 26,
   "metadata": {},
   "outputs": [],
   "source": [
    "for i in range(10):\n",
    "    ds = trend.dpo(log_pr_train[i], window_size, True)\n",
    "    ds.name = 'dpo%d'%i\n",
    "    features_list.append(ds)"
   ]
  },
  {
   "cell_type": "code",
   "execution_count": 27,
   "metadata": {},
   "outputs": [
    {
     "data": {
      "text/plain": [
       "220"
      ]
     },
     "execution_count": 27,
     "metadata": {},
     "output_type": "execute_result"
    }
   ],
   "source": [
    "len(features_list)"
   ]
  },
  {
   "cell_type": "markdown",
   "metadata": {},
   "source": [
    "**EMA - Exponential Moving Average**"
   ]
  },
  {
   "cell_type": "code",
   "execution_count": 28,
   "metadata": {},
   "outputs": [
    {
     "data": {
      "text/plain": [
       "230"
      ]
     },
     "execution_count": 28,
     "metadata": {},
     "output_type": "execute_result"
    }
   ],
   "source": [
    "for i in range(10):\n",
    "    ds = trend.ema_indicator(log_pr_train[i], window_size, True)\n",
    "    ds.name = 'ema%d'%i\n",
    "    features_list.append(ds)\n",
    "\n",
    "len(features_list)"
   ]
  },
  {
   "cell_type": "markdown",
   "metadata": {},
   "source": [
    "**Moving Average Convergence Divergence (MACD)**\n",
    "\n",
    "Is a trend-following momentum indicator that shows the relationship between two moving averages of prices.\n",
    "\n",
    "https://school.stockcharts.com/doku.php?id=technical_indicators:moving_average_convergence_divergence_macd"
   ]
  },
  {
   "cell_type": "code",
   "execution_count": 29,
   "metadata": {},
   "outputs": [
    {
     "data": {
      "text/plain": [
       "240"
      ]
     },
     "execution_count": 29,
     "metadata": {},
     "output_type": "execute_result"
    }
   ],
   "source": [
    "for i in range(10):\n",
    "    ds = trend.macd(log_pr_train[i], window_fast=window_size, fillna=True)\n",
    "    ds.name = 'macd%d'%i\n",
    "    features_list.append(ds)\n",
    "\n",
    "len(features_list)"
   ]
  },
  {
   "cell_type": "markdown",
   "metadata": {},
   "source": [
    "**SMA - Simple Moving Average**\n",
    "\n",
    "Parameters\n",
    "close (pandas.Series) – dataset ‘Close’ column.\n",
    "\n",
    "window (int) – n period.\n",
    "\n",
    "fillna (bool) – if True, fill nan values."
   ]
  },
  {
   "cell_type": "code",
   "execution_count": 30,
   "metadata": {},
   "outputs": [
    {
     "data": {
      "text/plain": [
       "250"
      ]
     },
     "execution_count": 30,
     "metadata": {},
     "output_type": "execute_result"
    }
   ],
   "source": [
    "for i in range(10):\n",
    "    ds = trend.sma_indicator(log_pr_train[i], window_size, True)\n",
    "    ds.name = 'sma%d'%i\n",
    "    features_list.append(ds)\n",
    "\n",
    "len(features_list)"
   ]
  },
  {
   "cell_type": "markdown",
   "metadata": {},
   "source": [
    "**Trix (TRIX)**\n",
    "\n",
    "Shows the percent rate of change of a triple exponentially smoothed moving average.\n",
    "\n",
    "http://stockcharts.com/school/doku.php?id=chart_school:technical_indicators:trix"
   ]
  },
  {
   "cell_type": "code",
   "execution_count": 31,
   "metadata": {},
   "outputs": [
    {
     "data": {
      "text/plain": [
       "260"
      ]
     },
     "execution_count": 31,
     "metadata": {},
     "output_type": "execute_result"
    }
   ],
   "source": [
    "for i in range(10):\n",
    "    ds = trend.trix(log_pr_train[i], window_size, True)\n",
    "    ds.name = 'trix%d'%i\n",
    "    features_list.append(ds)\n",
    "\n",
    "len(features_list)"
   ]
  },
  {
   "cell_type": "markdown",
   "metadata": {},
   "source": [
    "**WMA - Weighted Moving Average**"
   ]
  },
  {
   "cell_type": "code",
   "execution_count": 32,
   "metadata": {},
   "outputs": [
    {
     "data": {
      "text/plain": [
       "270"
      ]
     },
     "execution_count": 32,
     "metadata": {},
     "output_type": "execute_result"
    }
   ],
   "source": [
    "for i in range(10):\n",
    "    ds = trend.wma_indicator(log_pr_train[i], window_size, True)\n",
    "    ds.name = 'wma%d'%i\n",
    "    features_list.append(ds)\n",
    "\n",
    "len(features_list)"
   ]
  },
  {
   "cell_type": "markdown",
   "metadata": {},
   "source": [
    "Combine the feature into pandas dataframe"
   ]
  },
  {
   "cell_type": "code",
   "execution_count": 33,
   "metadata": {},
   "outputs": [],
   "source": [
    "features = pd.concat(features_list, axis=1)\n",
    "features.to_pickle(\"./features.pkl\")"
   ]
  },
  {
   "cell_type": "markdown",
   "metadata": {},
   "source": [
    "# Manual Features"
   ]
  },
  {
   "cell_type": "code",
   "execution_count": 23,
   "metadata": {},
   "outputs": [],
   "source": [
    "features_list = []"
   ]
  },
  {
   "cell_type": "code",
   "execution_count": null,
   "metadata": {},
   "outputs": [],
   "source": []
  },
  {
   "cell_type": "markdown",
   "metadata": {},
   "source": [
    "# Study Features"
   ]
  },
  {
   "cell_type": "code",
   "execution_count": 1,
   "metadata": {},
   "outputs": [],
   "source": [
    "import pandas as pd\n",
    "import numpy as np\n",
    "import matplotlib.pyplot as plt\n",
    "features = pd.read_pickle('./features.pkl')"
   ]
  },
  {
   "cell_type": "markdown",
   "metadata": {},
   "source": [
    "roc, nvi, vpt, "
   ]
  },
  {
   "cell_type": "code",
   "execution_count": 2,
   "metadata": {},
   "outputs": [],
   "source": [
    "import numpy as np\n",
    "import pandas as pd\n",
    "import ojsim\n",
    "sim = ojsim.OJSimulator()\n",
    "X, y = sim.formulized_train"
   ]
  },
  {
   "cell_type": "code",
   "execution_count": 6,
   "metadata": {},
   "outputs": [],
   "source": [
    "import feature\n",
    "price = pd.DataFrame(X[0,0,:,:], index=np.arange(1440), columns=np.arange(10))\n",
    "volume = pd.DataFrame(X[0,1,:,:], index=np.arange(1440), columns=np.arange(10))\n",
    "fe = feature.Feature(price, volume)\n",
    "features = fe.train_feature()\n"
   ]
  },
  {
   "cell_type": "code",
   "execution_count": 20,
   "metadata": {},
   "outputs": [
    {
     "data": {
      "text/plain": [
       "(1406, 270)"
      ]
     },
     "execution_count": 20,
     "metadata": {},
     "output_type": "execute_result"
    }
   ],
   "source": [
    "features.dropna().shape"
   ]
  }
 ],
 "metadata": {
  "interpreter": {
   "hash": "aee8b7b246df8f9039afb4144a1f6fd8d2ca17a180786b69acc140d282b71a49"
  },
  "kernelspec": {
   "display_name": "Python 3 (ipykernel)",
   "language": "python",
   "name": "python3"
  },
  "language_info": {
   "codemirror_mode": {
    "name": "ipython",
    "version": 3
   },
   "file_extension": ".py",
   "mimetype": "text/x-python",
   "name": "python",
   "nbconvert_exporter": "python",
   "pygments_lexer": "ipython3",
   "version": "3.8.13"
  }
 },
 "nbformat": 4,
 "nbformat_minor": 2
}
